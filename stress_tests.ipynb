{
 "cells": [
  {
   "cell_type": "markdown",
   "metadata": {},
   "source": [
    "# Stress Testing Common XAI Algos in the Literature"
   ]
  },
  {
   "cell_type": "code",
   "execution_count": 2,
   "metadata": {},
   "outputs": [],
   "source": [
    "import pandas as pd\n",
    "import numpy as np\n",
    "import lime\n",
    "import os\n",
    "import numpy as np\n",
    "\n",
    "from classifiers.ClassifierWrapper import ClassifierWrapper\n",
    "from classifiers.XGBoost import XGBoost\n",
    "from classifiers.BNetClassifier import BayesNet\n",
    "from classifiers.NeuralNet import NeuralNetwork\n",
    "\n",
    "\n",
    "import matplotlib.pyplot as plt\n",
    "import seaborn as sns\n",
    "\n",
    "from IPython.core.display import display, HTML\n",
    "\n",
    "import warnings\n",
    "warnings.filterwarnings(\"ignore\", category=DeprecationWarning)\n",
    "%matplotlib inline\n",
    "\n",
    "import pyAgrum as gum\n",
    "import pyAgrum.lib.notebook as gnb\n",
    "\n",
    "\n",
    "SMALL_SIZE = 10\n",
    "MEDIUM_SIZE = 12\n",
    "plt.rc('font', size=SMALL_SIZE)\n",
    "plt.rc('axes', titlesize=MEDIUM_SIZE)\n",
    "plt.rc('axes', labelsize=MEDIUM_SIZE)\n",
    "plt.rcParams['figure.dpi']=150\n",
    "\n",
    "sns.set()"
   ]
  },
  {
   "cell_type": "markdown",
   "metadata": {},
   "source": [
    "## Case #1: Data Generated from a Common Cause Structure with Independent Vars\n",
    "\n",
    "The purpose of this test is to understand how current algorithms of the literature such as LIME and SHAP can represent feature in important in situations where data is generated from a common cause structure. We also added an independent variable to understand if this variable will be considered as relevant to the algorithm. We will train an XGboost classifier with data generated from the model below and run XAI algortihms to understand the computed feature importance.\n",
    "\n",
    "<img src=\"https://raw.githubusercontent.com/catarina-moreira/XAI_Algos/0de91f13187c7a136676e049804c6b6e4de3ff44/networks/common_cause.png\" />"
   ]
  },
  {
   "cell_type": "code",
   "execution_count": 3,
   "metadata": {},
   "outputs": [
    {
     "data": {
      "text/html": [
       "<div>\n",
       "<style scoped>\n",
       "    .dataframe tbody tr th:only-of-type {\n",
       "        vertical-align: middle;\n",
       "    }\n",
       "\n",
       "    .dataframe tbody tr th {\n",
       "        vertical-align: top;\n",
       "    }\n",
       "\n",
       "    .dataframe thead th {\n",
       "        text-align: right;\n",
       "    }\n",
       "</style>\n",
       "<table border=\"1\" class=\"dataframe\">\n",
       "  <thead>\n",
       "    <tr style=\"text-align: right;\">\n",
       "      <th></th>\n",
       "      <th>X1</th>\n",
       "      <th>X2</th>\n",
       "      <th>Y</th>\n",
       "    </tr>\n",
       "  </thead>\n",
       "  <tbody>\n",
       "    <tr>\n",
       "      <th>0</th>\n",
       "      <td>0.162166</td>\n",
       "      <td>0</td>\n",
       "      <td>0</td>\n",
       "    </tr>\n",
       "    <tr>\n",
       "      <th>1</th>\n",
       "      <td>0.724821</td>\n",
       "      <td>1</td>\n",
       "      <td>0</td>\n",
       "    </tr>\n",
       "    <tr>\n",
       "      <th>2</th>\n",
       "      <td>0.784591</td>\n",
       "      <td>1</td>\n",
       "      <td>1</td>\n",
       "    </tr>\n",
       "    <tr>\n",
       "      <th>3</th>\n",
       "      <td>0.216756</td>\n",
       "      <td>0</td>\n",
       "      <td>0</td>\n",
       "    </tr>\n",
       "    <tr>\n",
       "      <th>4</th>\n",
       "      <td>0.828123</td>\n",
       "      <td>0</td>\n",
       "      <td>1</td>\n",
       "    </tr>\n",
       "  </tbody>\n",
       "</table>\n",
       "</div>"
      ],
      "text/plain": [
       "         X1  X2  Y\n",
       "0  0.162166   0  0\n",
       "1  0.724821   1  0\n",
       "2  0.784591   1  1\n",
       "3  0.216756   0  0\n",
       "4  0.828123   0  1"
      ]
     },
     "execution_count": 3,
     "metadata": {},
     "output_type": "execute_result"
    }
   ],
   "source": [
    "# load the common cause data\n",
    "data_common_cause = pd.read_csv(os.path.join(\"gen_data\", \"common_cause_v3.dat\"))\n",
    "data_common_cause.head()"
   ]
  },
  {
   "cell_type": "code",
   "execution_count": null,
   "metadata": {},
   "outputs": [],
   "source": [
    "clf_NNet = "
   ]
  },
  {
   "cell_type": "code",
   "execution_count": 3,
   "metadata": {},
   "outputs": [
    {
     "name": "stdout",
     "output_type": "stream",
     "text": [
      "Overall Performace: \n",
      "\tClassifier: Bayesian Network\n",
      "\tAccuracy: 1.0\n",
      "\tPrecision: 1.0\n",
      "\tRecall: 1.0\n",
      "\tF1 Score: 1.0\n"
     ]
    }
   ],
   "source": [
    "clf_BNet = BayesNet(False, \"common_cause_v3\", data_common_cause,\"Y\")\n",
    "clf_BNet.classify(save_model=False, learningMethod=\"GHC\")\n"
   ]
  },
  {
   "cell_type": "code",
   "execution_count": 4,
   "metadata": {},
   "outputs": [
    {
     "data": {
      "image/svg+xml": "<svg xmlns=\"http://www.w3.org/2000/svg\" xmlns:xlink=\"http://www.w3.org/1999/xlink\" width=\"134pt\" height=\"116pt\" viewBox=\"0.00 0.00 134.00 116.00\">\n<g id=\"graph0\" class=\"graph\" transform=\"scale(1 1) rotate(0) translate(4 112)\">\n<title>G</title>\n<!-- y -->\n<g id=\"node1\" class=\"node\"><title>y</title>\n<g id=\"a_node1\"><a xlink:title=\"(0) y\">\n<ellipse fill=\"#404040\" stroke=\"black\" cx=\"27\" cy=\"-18\" rx=\"27\" ry=\"18\"/>\n<text text-anchor=\"middle\" x=\"27\" y=\"-14.3\" font-family=\"Times New Roman,serif\" font-size=\"14.00\" fill=\"white\">y</text>\n</a>\n</g>\n</g>\n<!-- x1 -->\n<g id=\"node2\" class=\"node\"><title>x1</title>\n<g id=\"a_node2\"><a xlink:title=\"(2) x1\">\n<ellipse fill=\"#404040\" stroke=\"black\" cx=\"99\" cy=\"-18\" rx=\"27\" ry=\"18\"/>\n<text text-anchor=\"middle\" x=\"99\" y=\"-14.3\" font-family=\"Times New Roman,serif\" font-size=\"14.00\" fill=\"white\">x1</text>\n</a>\n</g>\n</g>\n<!-- x0 -->\n<g id=\"node3\" class=\"node\"><title>x0</title>\n<g id=\"a_node3\"><a xlink:title=\"(1) x0\">\n<ellipse fill=\"#404040\" stroke=\"black\" cx=\"63\" cy=\"-90\" rx=\"27\" ry=\"18\"/>\n<text text-anchor=\"middle\" x=\"63\" y=\"-86.3\" font-family=\"Times New Roman,serif\" font-size=\"14.00\" fill=\"white\">x0</text>\n</a>\n</g>\n</g>\n<!-- x0&#45;&gt;y -->\n<g id=\"edge1\" class=\"edge\"><title>x0-&gt;y</title>\n<g id=\"a_edge1\"><a xlink:title=\"(1, 0) : \">\n<path fill=\"none\" stroke=\"#4a4a4a\" d=\"M54.6504,-72.7646C50.2885,-64.2831 44.8531,-53.7144 39.9587,-44.1974\"/>\n<polygon fill=\"#4a4a4a\" stroke=\"#4a4a4a\" points=\"42.9904,-42.4395 35.3043,-35.1473 36.7654,-45.6409 42.9904,-42.4395\"/>\n</a>\n</g>\n</g>\n<!-- x0&#45;&gt;x1 -->\n<g id=\"edge2\" class=\"edge\"><title>x0-&gt;x1</title>\n<g id=\"a_edge2\"><a xlink:title=\"(1, 2) : \">\n<path fill=\"none\" stroke=\"#4a4a4a\" d=\"M71.3496,-72.7646C75.7115,-64.2831 81.1469,-53.7144 86.0413,-44.1974\"/>\n<polygon fill=\"#4a4a4a\" stroke=\"#4a4a4a\" points=\"89.2346,-45.6409 90.6957,-35.1473 83.0096,-42.4395 89.2346,-45.6409\"/>\n</a>\n</g>\n</g>\n</g>\n</svg>",
      "text/plain": [
       "<IPython.core.display.SVG object>"
      ]
     },
     "metadata": {},
     "output_type": "display_data"
    }
   ],
   "source": [
    "clf_BNet.show_bn()"
   ]
  },
  {
   "cell_type": "code",
   "execution_count": 5,
   "metadata": {},
   "outputs": [
    {
     "data": {
      "image/svg+xml": "<svg xmlns=\"http://www.w3.org/2000/svg\" xmlns:xlink=\"http://www.w3.org/1999/xlink\" width=\"238pt\" height=\"184pt\" viewBox=\"0.00 0.00 238.00 184.00\">\n<g id=\"graph0\" class=\"graph\" transform=\"scale(1 1) rotate(0) translate(4 180)\">\n<title>structs</title>\n<text text-anchor=\"middle\" x=\"115\" y=\"-7.8\" font-family=\"Times New Roman,serif\" font-size=\"14.00\" fill=\"#4a4a4a\">Inference in   0.82ms</text>\n<!-- y -->\n<g id=\"node1\" class=\"node\"><title>y</title>\n<polygon fill=\"#e0e0e0\" stroke=\"#000000\" points=\"102,-71 0,-71 0,-23 102,-23 102,-71\"/>\n<svg viewBox=\"0 0 134.417031 62.237422\" width=\"102px\" height=\"48px\" preserveAspectRatio=\"xMinYMin meet\" x=\"0\" y=\"-71\"> <metadata>\n  <rdf:RDF xmlns:dc=\"http://purl.org/dc/elements/1.1/\" xmlns:cc=\"http://creativecommons.org/ns#\" xmlns:rdf=\"http://www.w3.org/1999/02/22-rdf-syntax-ns#\">\n   <cc:Work>\n    <dc:type rdf:resource=\"http://purl.org/dc/dcmitype/StillImage\"/>\n    <dc:date>2022-07-08T01:17:00.373465</dc:date>\n    <dc:format>image/svg+xml</dc:format>\n    <dc:creator>\n     <cc:Agent>\n      <dc:title>Matplotlib v3.5.1, https://matplotlib.org/</dc:title>\n     </cc:Agent>\n    </dc:creator>\n   </cc:Work>\n  </rdf:RDF>\n </metadata>\n <defs>\n  <style type=\"text/css\">*{stroke-linejoin: round; stroke-linecap: butt}</style>\n </defs>\n <g id=\"figure_1\">\n  <g id=\"patch_1\">\n   <path d=\"M 0 62.237422  L 134.417031 62.237422  L 134.417031 0  L 0 0  z \" style=\"fill: #e0e0e0\"/>\n  </g>\n  <g id=\"axes_1\">\n   <g id=\"patch_2\">\n    <path d=\"M 19.217031 58.554375  L 130.817031 58.554375  L 130.817031 31.374375  L 19.217031 31.374375  z \" style=\"fill: #ffffff\"/>\n   </g>\n   <g id=\"matplotlib.axis_1\">\n    <g id=\"xtick_1\">\n     <g id=\"line2d_1\">\n      <path d=\"M 19.217031 58.554375  L 19.217031 31.374375  \" clip-path=\"url(#pef182be936)\" style=\"fill: none; stroke: #ffffff; stroke-linecap: round\"/>\n     </g>\n    </g>\n    <g id=\"xtick_2\">\n     <g id=\"line2d_2\">\n      <path d=\"M 75.017031 58.554375  L 75.017031 31.374375  \" clip-path=\"url(#pef182be936)\" style=\"fill: none; stroke: #ffffff; stroke-linecap: round\"/>\n     </g>\n    </g>\n    <g id=\"xtick_3\">\n     <g id=\"line2d_3\">\n      <path d=\"M 130.817031 58.554375  L 130.817031 31.374375  \" clip-path=\"url(#pef182be936)\" style=\"fill: none; stroke: #ffffff; stroke-linecap: round\"/>\n     </g>\n    </g>\n   </g>\n   <g id=\"matplotlib.axis_2\">\n    <g id=\"ytick_1\">\n     <g id=\"line2d_4\">\n      <path d=\"M 19.217031 52.514375  L 130.817031 52.514375  \" clip-path=\"url(#pef182be936)\" style=\"fill: none; stroke: #ffffff; stroke-linecap: round\"/>\n     </g>\n     <g id=\"text_1\">\n      <!-- 1 -->\n      <g transform=\"translate(3.6 56.451172)scale(0.11 -0.11)\">\n       <defs>\n        <path id=\"ArialMT-31\" d=\"M 2384 0  L 1822 0  L 1822 3584  Q 1619 3391 1289 3197  Q 959 3003 697 2906  L 697 3450  Q 1169 3672 1522 3987  Q 1875 4303 2022 4600  L 2384 4600  L 2384 0  z \" transform=\"scale(0.015625)\"/>\n       </defs>\n       <use xlink:href=\"#ArialMT-31\"/>\n      </g>\n     </g>\n    </g>\n    <g id=\"ytick_2\">\n     <g id=\"line2d_5\">\n      <path d=\"M 19.217031 37.414375  L 130.817031 37.414375  \" clip-path=\"url(#pef182be936)\" style=\"fill: none; stroke: #ffffff; stroke-linecap: round\"/>\n     </g>\n     <g id=\"text_2\">\n      <!-- 0 -->\n      <g transform=\"translate(3.6 41.351172)scale(0.11 -0.11)\">\n       <defs>\n        <path id=\"ArialMT-30\" d=\"M 266 2259  Q 266 3072 433 3567  Q 600 4063 929 4331  Q 1259 4600 1759 4600  Q 2128 4600 2406 4451  Q 2684 4303 2865 4023  Q 3047 3744 3150 3342  Q 3253 2941 3253 2259  Q 3253 1453 3087 958  Q 2922 463 2592 192  Q 2263 -78 1759 -78  Q 1097 -78 719 397  Q 266 969 266 2259  z M 844 2259  Q 844 1131 1108 757  Q 1372 384 1759 384  Q 2147 384 2411 759  Q 2675 1134 2675 2259  Q 2675 3391 2411 3762  Q 2147 4134 1753 4134  Q 1366 4134 1134 3806  Q 844 3388 844 2259  z \" transform=\"scale(0.015625)\"/>\n       </defs>\n       <use xlink:href=\"#ArialMT-30\"/>\n      </g>\n     </g>\n    </g>\n   </g>\n   <g id=\"patch_3\">\n    <path d=\"M 19.217031 58.554375  L 74.475523 58.554375  L 74.475523 46.474375  L 19.217031 46.474375  z \" clip-path=\"url(#pef182be936)\" style=\"fill: #8fbc8f; stroke: #ffffff; stroke-linejoin: miter\"/>\n   </g>\n   <g id=\"patch_4\">\n    <path d=\"M 19.217031 43.454375  L 75.55854 43.454375  L 75.55854 31.374375  L 19.217031 31.374375  z \" clip-path=\"url(#pef182be936)\" style=\"fill: #8fbc8f; stroke: #ffffff; stroke-linejoin: miter\"/>\n   </g>\n   <g id=\"patch_5\">\n    <path d=\"M 19.217031 58.554375  L 19.217031 31.374375  \" style=\"fill: none; stroke: #ffffff; stroke-width: 1.25; stroke-linejoin: miter; stroke-linecap: square\"/>\n   </g>\n   <g id=\"patch_6\">\n    <path d=\"M 130.817031 58.554375  L 130.817031 31.374375  \" style=\"fill: none; stroke: #ffffff; stroke-width: 1.25; stroke-linejoin: miter; stroke-linecap: square\"/>\n   </g>\n   <g id=\"patch_7\">\n    <path d=\"M 19.217031 58.554375  L 130.817031 58.554375  \" style=\"fill: none; stroke: #ffffff; stroke-width: 1.25; stroke-linejoin: miter; stroke-linecap: square\"/>\n   </g>\n   <g id=\"patch_8\">\n    <path d=\"M 19.217031 31.374375  L 130.817031 31.374375  \" style=\"fill: none; stroke: #ffffff; stroke-width: 1.25; stroke-linejoin: miter; stroke-linecap: square\"/>\n   </g>\n   <g id=\"text_3\">\n    <!-- 49.51% -->\n    <g style=\"fill: #262626\" transform=\"translate(90.120156 56.169375)scale(0.12 -0.12)\">\n     <defs>\n      <path id=\"ArialMT-34\" d=\"M 2069 0  L 2069 1097  L 81 1097  L 81 1613  L 2172 4581  L 2631 4581  L 2631 1613  L 3250 1613  L 3250 1097  L 2631 1097  L 2631 0  L 2069 0  z M 2069 1613  L 2069 3678  L 634 1613  L 2069 1613  z \" transform=\"scale(0.015625)\"/>\n      <path id=\"ArialMT-39\" d=\"M 350 1059  L 891 1109  Q 959 728 1153 556  Q 1347 384 1650 384  Q 1909 384 2104 503  Q 2300 622 2425 820  Q 2550 1019 2634 1356  Q 2719 1694 2719 2044  Q 2719 2081 2716 2156  Q 2547 1888 2255 1720  Q 1963 1553 1622 1553  Q 1053 1553 659 1965  Q 266 2378 266 3053  Q 266 3750 677 4175  Q 1088 4600 1706 4600  Q 2153 4600 2523 4359  Q 2894 4119 3086 3673  Q 3278 3228 3278 2384  Q 3278 1506 3087 986  Q 2897 466 2520 194  Q 2144 -78 1638 -78  Q 1100 -78 759 220  Q 419 519 350 1059  z M 2653 3081  Q 2653 3566 2395 3850  Q 2138 4134 1775 4134  Q 1400 4134 1122 3828  Q 844 3522 844 3034  Q 844 2597 1108 2323  Q 1372 2050 1759 2050  Q 2150 2050 2401 2323  Q 2653 2597 2653 3081  z \" transform=\"scale(0.015625)\"/>\n      <path id=\"ArialMT-2e\" d=\"M 581 0  L 581 641  L 1222 641  L 1222 0  L 581 0  z \" transform=\"scale(0.015625)\"/>\n      <path id=\"ArialMT-35\" d=\"M 266 1200  L 856 1250  Q 922 819 1161 601  Q 1400 384 1738 384  Q 2144 384 2425 690  Q 2706 997 2706 1503  Q 2706 1984 2436 2262  Q 2166 2541 1728 2541  Q 1456 2541 1237 2417  Q 1019 2294 894 2097  L 366 2166  L 809 4519  L 3088 4519  L 3088 3981  L 1259 3981  L 1013 2750  Q 1425 3038 1878 3038  Q 2478 3038 2890 2622  Q 3303 2206 3303 1553  Q 3303 931 2941 478  Q 2500 -78 1738 -78  Q 1113 -78 717 272  Q 322 622 266 1200  z \" transform=\"scale(0.015625)\"/>\n      <path id=\"ArialMT-25\" d=\"M 372 3481  Q 372 3972 619 4315  Q 866 4659 1334 4659  Q 1766 4659 2048 4351  Q 2331 4044 2331 3447  Q 2331 2866 2045 2552  Q 1759 2238 1341 2238  Q 925 2238 648 2547  Q 372 2856 372 3481  z M 1350 4272  Q 1141 4272 1002 4090  Q 863 3909 863 3425  Q 863 2984 1003 2804  Q 1144 2625 1350 2625  Q 1563 2625 1702 2806  Q 1841 2988 1841 3469  Q 1841 3913 1700 4092  Q 1559 4272 1350 4272  z M 1353 -169  L 3859 4659  L 4316 4659  L 1819 -169  L 1353 -169  z M 3334 1075  Q 3334 1569 3581 1911  Q 3828 2253 4300 2253  Q 4731 2253 5014 1945  Q 5297 1638 5297 1041  Q 5297 459 5011 145  Q 4725 -169 4303 -169  Q 3888 -169 3611 142  Q 3334 453 3334 1075  z M 4316 1866  Q 4103 1866 3964 1684  Q 3825 1503 3825 1019  Q 3825 581 3965 400  Q 4106 219 4313 219  Q 4528 219 4667 400  Q 4806 581 4806 1063  Q 4806 1506 4665 1686  Q 4525 1866 4316 1866  z \" transform=\"scale(0.015625)\"/>\n     </defs>\n     <use xlink:href=\"#ArialMT-34\"/>\n     <use xlink:href=\"#ArialMT-39\" x=\"55.615234\"/>\n     <use xlink:href=\"#ArialMT-2e\" x=\"111.230469\"/>\n     <use xlink:href=\"#ArialMT-35\" x=\"139.013672\"/>\n     <use xlink:href=\"#ArialMT-31\" x=\"194.628906\"/>\n     <use xlink:href=\"#ArialMT-25\" x=\"250.244141\"/>\n    </g>\n   </g>\n   <g id=\"text_4\">\n    <!-- 50.49% -->\n    <g style=\"fill: #262626\" transform=\"translate(90.120156 41.069375)scale(0.12 -0.12)\">\n     <use xlink:href=\"#ArialMT-35\"/>\n     <use xlink:href=\"#ArialMT-30\" x=\"55.615234\"/>\n     <use xlink:href=\"#ArialMT-2e\" x=\"111.230469\"/>\n     <use xlink:href=\"#ArialMT-34\" x=\"139.013672\"/>\n     <use xlink:href=\"#ArialMT-39\" x=\"194.628906\"/>\n     <use xlink:href=\"#ArialMT-25\" x=\"250.244141\"/>\n    </g>\n   </g>\n   <g id=\"text_5\">\n    <!-- y -->\n    <g transform=\"translate(72.017031 12.04875)scale(0.12 -0.12)\">\n     <defs>\n      <path id=\"ArialMT-79\" d=\"M 397 -1278  L 334 -750  Q 519 -800 656 -800  Q 844 -800 956 -737  Q 1069 -675 1141 -563  Q 1194 -478 1313 -144  Q 1328 -97 1363 -6  L 103 3319  L 709 3319  L 1400 1397  Q 1534 1031 1641 628  Q 1738 1016 1872 1384  L 2581 3319  L 3144 3319  L 1881 -56  Q 1678 -603 1566 -809  Q 1416 -1088 1222 -1217  Q 1028 -1347 759 -1347  Q 597 -1347 397 -1278  z \" transform=\"scale(0.015625)\"/>\n     </defs>\n     <use xlink:href=\"#ArialMT-79\"/>\n    </g>\n    <!-- $\\mu=0.50$; $\\sigma=0.50$ -->\n    <g transform=\"translate(22.577031 25.374375)scale(0.12 -0.12)\">\n     <defs>\n      <path id=\"DejaVuSans-Oblique-3bc\" d=\"M -84 -1331  L 856 3500  L 1434 3500  L 1009 1322  Q 997 1256 987 1175  Q 978 1094 978 1013  Q 978 722 1161 565  Q 1344 409 1684 409  Q 2147 409 2431 671  Q 2716 934 2816 1459  L 3213 3500  L 3788 3500  L 3266 809  Q 3253 750 3248 706  Q 3244 663 3244 628  Q 3244 531 3283 486  Q 3322 441 3406 441  Q 3438 441 3492 456  Q 3547 472 3647 513  L 3559 50  Q 3422 -19 3297 -55  Q 3172 -91 3053 -91  Q 2847 -91 2730 40  Q 2613 172 2613 403  Q 2438 153 2195 31  Q 1953 -91 1625 -91  Q 1334 -91 1117 43  Q 900 178 831 397  L 494 -1331  L -84 -1331  z \" transform=\"scale(0.015625)\"/>\n      <path id=\"DejaVuSans-3d\" d=\"M 678 2906  L 4684 2906  L 4684 2381  L 678 2381  L 678 2906  z M 678 1631  L 4684 1631  L 4684 1100  L 678 1100  L 678 1631  z \" transform=\"scale(0.015625)\"/>\n      <path id=\"DejaVuSans-30\" d=\"M 2034 4250  Q 1547 4250 1301 3770  Q 1056 3291 1056 2328  Q 1056 1369 1301 889  Q 1547 409 2034 409  Q 2525 409 2770 889  Q 3016 1369 3016 2328  Q 3016 3291 2770 3770  Q 2525 4250 2034 4250  z M 2034 4750  Q 2819 4750 3233 4129  Q 3647 3509 3647 2328  Q 3647 1150 3233 529  Q 2819 -91 2034 -91  Q 1250 -91 836 529  Q 422 1150 422 2328  Q 422 3509 836 4129  Q 1250 4750 2034 4750  z \" transform=\"scale(0.015625)\"/>\n      <path id=\"DejaVuSans-2e\" d=\"M 684 794  L 1344 794  L 1344 0  L 684 0  L 684 794  z \" transform=\"scale(0.015625)\"/>\n      <path id=\"DejaVuSans-35\" d=\"M 691 4666  L 3169 4666  L 3169 4134  L 1269 4134  L 1269 2991  Q 1406 3038 1543 3061  Q 1681 3084 1819 3084  Q 2600 3084 3056 2656  Q 3513 2228 3513 1497  Q 3513 744 3044 326  Q 2575 -91 1722 -91  Q 1428 -91 1123 -41  Q 819 9 494 109  L 494 744  Q 775 591 1075 516  Q 1375 441 1709 441  Q 2250 441 2565 725  Q 2881 1009 2881 1497  Q 2881 1984 2565 2268  Q 2250 2553 1709 2553  Q 1456 2553 1204 2497  Q 953 2441 691 2322  L 691 4666  z \" transform=\"scale(0.015625)\"/>\n      <path id=\"ArialMT-3b\" d=\"M 569 2678  L 569 3319  L 1209 3319  L 1209 2678  L 569 2678  z M 569 0  L 569 641  L 1209 641  L 1209 0  Q 1209 -353 1084 -570  Q 959 -788 688 -906  L 531 -666  Q 709 -588 793 -436  Q 878 -284 888 0  L 569 0  z \" transform=\"scale(0.015625)\"/>\n      <path id=\"ArialMT-20\" transform=\"scale(0.015625)\"/>\n      <path id=\"DejaVuSans-Oblique-3c3\" d=\"M 2219 3044  Q 1744 3044 1422 2700  Q 1081 2341 969 1747  Q 844 1119 1044 756  Q 1241 397 1706 397  Q 2166 397 2503 759  Q 2844 1122 2966 1747  Q 3075 2319 2881 2700  Q 2700 3044 2219 3044  z M 2309 3503  L 4219 3500  L 4106 2925  L 3463 2925  Q 3706 2438 3575 1747  Q 3406 888 2884 400  Q 2359 -91 1609 -91  Q 856 -91 525 400  Q 194 888 363 1747  Q 528 2609 1050 3097  Q 1484 3503 2309 3503  z \" transform=\"scale(0.015625)\"/>\n     </defs>\n     <use xlink:href=\"#DejaVuSans-Oblique-3bc\" transform=\"translate(0 0.78125)\"/>\n     <use xlink:href=\"#DejaVuSans-3d\" transform=\"translate(83.105469 0.78125)\"/>\n     <use xlink:href=\"#DejaVuSans-30\" transform=\"translate(186.376953 0.78125)\"/>\n     <use xlink:href=\"#DejaVuSans-2e\" transform=\"translate(250 0.78125)\"/>\n     <use xlink:href=\"#DejaVuSans-35\" transform=\"translate(281.787109 0.78125)\"/>\n     <use xlink:href=\"#DejaVuSans-30\" transform=\"translate(345.410156 0.78125)\"/>\n     <use xlink:href=\"#ArialMT-3b\" transform=\"translate(409.033203 0.78125)\"/>\n     <use xlink:href=\"#ArialMT-20\" transform=\"translate(436.816406 0.78125)\"/>\n     <use xlink:href=\"#DejaVuSans-Oblique-3c3\" transform=\"translate(464.599609 0.78125)\"/>\n     <use xlink:href=\"#DejaVuSans-3d\" transform=\"translate(547.460938 0.78125)\"/>\n     <use xlink:href=\"#DejaVuSans-30\" transform=\"translate(650.732422 0.78125)\"/>\n     <use xlink:href=\"#DejaVuSans-2e\" transform=\"translate(714.355469 0.78125)\"/>\n     <use xlink:href=\"#DejaVuSans-35\" transform=\"translate(746.142578 0.78125)\"/>\n     <use xlink:href=\"#DejaVuSans-30\" transform=\"translate(809.765625 0.78125)\"/>\n    </g>\n   </g>\n  </g>\n </g>\n <defs>\n  <clipPath id=\"pef182be936\">\n   <rect x=\"19.217031\" y=\"31.374375\" width=\"111.6\" height=\"27.18\"/>\n  </clipPath>\n </defs>\n</svg>\n\n</g>\n<!-- x0 -->\n<g id=\"node2\" class=\"node\"><title>x0</title>\n<polygon fill=\"#e0e0e0\" stroke=\"#000000\" points=\"207,-176 19,-176 19,-107 207,-107 207,-176\"/>\n<svg viewBox=\"0 0 248.175938 89.931254\" width=\"188px\" height=\"69px\" preserveAspectRatio=\"xMinYMin meet\" x=\"19\" y=\"-176\"> <metadata>\n  <rdf:RDF xmlns:dc=\"http://purl.org/dc/elements/1.1/\" xmlns:cc=\"http://creativecommons.org/ns#\" xmlns:rdf=\"http://www.w3.org/1999/02/22-rdf-syntax-ns#\">\n   <cc:Work>\n    <dc:type rdf:resource=\"http://purl.org/dc/dcmitype/StillImage\"/>\n    <dc:date>2022-07-08T01:17:00.423891</dc:date>\n    <dc:format>image/svg+xml</dc:format>\n    <dc:creator>\n     <cc:Agent>\n      <dc:title>Matplotlib v3.5.1, https://matplotlib.org/</dc:title>\n     </cc:Agent>\n    </dc:creator>\n   </cc:Work>\n  </rdf:RDF>\n </metadata>\n <defs>\n  <style type=\"text/css\">*{stroke-linejoin: round; stroke-linecap: butt}</style>\n </defs>\n <g id=\"figure_1\">\n  <g id=\"patch_1\">\n   <path d=\"M 0 89.931254  L 248.175938 89.931254  L 248.175938 0  L 0 0  z \" style=\"fill: #e0e0e0\"/>\n  </g>\n  <g id=\"axes_1\">\n   <g id=\"patch_2\">\n    <path d=\"M 132.975937 85.734375  L 244.575938 85.734375  L 244.575938 31.374375  L 132.975937 31.374375  z \" style=\"fill: #ffffff\"/>\n   </g>\n   <g id=\"matplotlib.axis_1\">\n    <g id=\"xtick_1\">\n     <g id=\"line2d_1\">\n      <path d=\"M 132.975937 85.734375  L 132.975937 31.374375  \" clip-path=\"url(#p9ed6f1fe43)\" style=\"fill: none; stroke: #ffffff; stroke-linecap: round\"/>\n     </g>\n    </g>\n    <g id=\"xtick_2\">\n     <g id=\"line2d_2\">\n      <path d=\"M 188.775937 85.734375  L 188.775937 31.374375  \" clip-path=\"url(#p9ed6f1fe43)\" style=\"fill: none; stroke: #ffffff; stroke-linecap: round\"/>\n     </g>\n    </g>\n    <g id=\"xtick_3\">\n     <g id=\"line2d_3\">\n      <path d=\"M 244.575938 85.734375  L 244.575938 31.374375  \" clip-path=\"url(#p9ed6f1fe43)\" style=\"fill: none; stroke: #ffffff; stroke-linecap: round\"/>\n     </g>\n    </g>\n   </g>\n   <g id=\"matplotlib.axis_2\">\n    <g id=\"ytick_1\">\n     <g id=\"line2d_4\">\n      <path d=\"M 132.975937 80.01227  L 244.575938 80.01227  \" clip-path=\"url(#p9ed6f1fe43)\" style=\"fill: none; stroke: #ffffff; stroke-linecap: round\"/>\n     </g>\n     <g id=\"text_1\">\n      <!-- [0.750058;0.999959) -->\n      <g transform=\"translate(21.951094 84.016098)scale(0.11 -0.11)\">\n       <defs>\n        <path id=\"ArialMT-5b\" d=\"M 434 -1272  L 434 4581  L 1675 4581  L 1675 4116  L 997 4116  L 997 -806  L 1675 -806  L 1675 -1272  L 434 -1272  z \" transform=\"scale(0.015625)\"/>\n        <path id=\"ArialMT-30\" d=\"M 266 2259  Q 266 3072 433 3567  Q 600 4063 929 4331  Q 1259 4600 1759 4600  Q 2128 4600 2406 4451  Q 2684 4303 2865 4023  Q 3047 3744 3150 3342  Q 3253 2941 3253 2259  Q 3253 1453 3087 958  Q 2922 463 2592 192  Q 2263 -78 1759 -78  Q 1097 -78 719 397  Q 266 969 266 2259  z M 844 2259  Q 844 1131 1108 757  Q 1372 384 1759 384  Q 2147 384 2411 759  Q 2675 1134 2675 2259  Q 2675 3391 2411 3762  Q 2147 4134 1753 4134  Q 1366 4134 1134 3806  Q 844 3388 844 2259  z \" transform=\"scale(0.015625)\"/>\n        <path id=\"ArialMT-2e\" d=\"M 581 0  L 581 641  L 1222 641  L 1222 0  L 581 0  z \" transform=\"scale(0.015625)\"/>\n        <path id=\"ArialMT-37\" d=\"M 303 3981  L 303 4522  L 3269 4522  L 3269 4084  Q 2831 3619 2401 2847  Q 1972 2075 1738 1259  Q 1569 684 1522 0  L 944 0  Q 953 541 1156 1306  Q 1359 2072 1739 2783  Q 2119 3494 2547 3981  L 303 3981  z \" transform=\"scale(0.015625)\"/>\n        <path id=\"ArialMT-35\" d=\"M 266 1200  L 856 1250  Q 922 819 1161 601  Q 1400 384 1738 384  Q 2144 384 2425 690  Q 2706 997 2706 1503  Q 2706 1984 2436 2262  Q 2166 2541 1728 2541  Q 1456 2541 1237 2417  Q 1019 2294 894 2097  L 366 2166  L 809 4519  L 3088 4519  L 3088 3981  L 1259 3981  L 1013 2750  Q 1425 3038 1878 3038  Q 2478 3038 2890 2622  Q 3303 2206 3303 1553  Q 3303 931 2941 478  Q 2500 -78 1738 -78  Q 1113 -78 717 272  Q 322 622 266 1200  z \" transform=\"scale(0.015625)\"/>\n        <path id=\"ArialMT-38\" d=\"M 1131 2484  Q 781 2613 612 2850  Q 444 3088 444 3419  Q 444 3919 803 4259  Q 1163 4600 1759 4600  Q 2359 4600 2725 4251  Q 3091 3903 3091 3403  Q 3091 3084 2923 2848  Q 2756 2613 2416 2484  Q 2838 2347 3058 2040  Q 3278 1734 3278 1309  Q 3278 722 2862 322  Q 2447 -78 1769 -78  Q 1091 -78 675 323  Q 259 725 259 1325  Q 259 1772 486 2073  Q 713 2375 1131 2484  z M 1019 3438  Q 1019 3113 1228 2906  Q 1438 2700 1772 2700  Q 2097 2700 2305 2904  Q 2513 3109 2513 3406  Q 2513 3716 2298 3927  Q 2084 4138 1766 4138  Q 1444 4138 1231 3931  Q 1019 3725 1019 3438  z M 838 1322  Q 838 1081 952 856  Q 1066 631 1291 507  Q 1516 384 1775 384  Q 2178 384 2440 643  Q 2703 903 2703 1303  Q 2703 1709 2433 1975  Q 2163 2241 1756 2241  Q 1359 2241 1098 1978  Q 838 1716 838 1322  z \" transform=\"scale(0.015625)\"/>\n        <path id=\"ArialMT-3b\" d=\"M 569 2678  L 569 3319  L 1209 3319  L 1209 2678  L 569 2678  z M 569 0  L 569 641  L 1209 641  L 1209 0  Q 1209 -353 1084 -570  Q 959 -788 688 -906  L 531 -666  Q 709 -588 793 -436  Q 878 -284 888 0  L 569 0  z \" transform=\"scale(0.015625)\"/>\n        <path id=\"ArialMT-39\" d=\"M 350 1059  L 891 1109  Q 959 728 1153 556  Q 1347 384 1650 384  Q 1909 384 2104 503  Q 2300 622 2425 820  Q 2550 1019 2634 1356  Q 2719 1694 2719 2044  Q 2719 2081 2716 2156  Q 2547 1888 2255 1720  Q 1963 1553 1622 1553  Q 1053 1553 659 1965  Q 266 2378 266 3053  Q 266 3750 677 4175  Q 1088 4600 1706 4600  Q 2153 4600 2523 4359  Q 2894 4119 3086 3673  Q 3278 3228 3278 2384  Q 3278 1506 3087 986  Q 2897 466 2520 194  Q 2144 -78 1638 -78  Q 1100 -78 759 220  Q 419 519 350 1059  z M 2653 3081  Q 2653 3566 2395 3850  Q 2138 4134 1775 4134  Q 1400 4134 1122 3828  Q 844 3522 844 3034  Q 844 2597 1108 2323  Q 1372 2050 1759 2050  Q 2150 2050 2401 2323  Q 2653 2597 2653 3081  z \" transform=\"scale(0.015625)\"/>\n        <path id=\"ArialMT-29\" d=\"M 791 -1347  L 388 -1347  Q 1322 153 1322 1656  Q 1322 2244 1188 2822  Q 1081 3291 891 3722  Q 769 4003 388 4659  L 791 4659  Q 1378 3875 1659 3084  Q 1900 2403 1900 1659  Q 1900 816 1576 28  Q 1253 -759 791 -1347  z \" transform=\"scale(0.015625)\"/>\n       </defs>\n       <use xlink:href=\"#ArialMT-5b\"/>\n       <use xlink:href=\"#ArialMT-30\" x=\"27.783203\"/>\n       <use xlink:href=\"#ArialMT-2e\" x=\"83.398438\"/>\n       <use xlink:href=\"#ArialMT-37\" x=\"111.181641\"/>\n       <use xlink:href=\"#ArialMT-35\" x=\"166.796875\"/>\n       <use xlink:href=\"#ArialMT-30\" x=\"222.412109\"/>\n       <use xlink:href=\"#ArialMT-30\" x=\"278.027344\"/>\n       <use xlink:href=\"#ArialMT-35\" x=\"333.642578\"/>\n       <use xlink:href=\"#ArialMT-38\" x=\"389.257812\"/>\n       <use xlink:href=\"#ArialMT-3b\" x=\"444.873047\"/>\n       <use xlink:href=\"#ArialMT-30\" x=\"472.65625\"/>\n       <use xlink:href=\"#ArialMT-2e\" x=\"528.271484\"/>\n       <use xlink:href=\"#ArialMT-39\" x=\"556.054688\"/>\n       <use xlink:href=\"#ArialMT-39\" x=\"611.669922\"/>\n       <use xlink:href=\"#ArialMT-39\" x=\"667.285156\"/>\n       <use xlink:href=\"#ArialMT-39\" x=\"722.900391\"/>\n       <use xlink:href=\"#ArialMT-35\" x=\"778.515625\"/>\n       <use xlink:href=\"#ArialMT-39\" x=\"834.130859\"/>\n       <use xlink:href=\"#ArialMT-29\" x=\"889.746094\"/>\n      </g>\n     </g>\n    </g>\n    <g id=\"ytick_2\">\n     <g id=\"line2d_5\">\n      <path d=\"M 132.975937 65.707007  L 244.575938 65.707007  \" clip-path=\"url(#p9ed6f1fe43)\" style=\"fill: none; stroke: #ffffff; stroke-linecap: round\"/>\n     </g>\n     <g id=\"text_2\">\n      <!-- [0.500158;0.750058[ -->\n      <g transform=\"translate(22.557812 69.660132)scale(0.11 -0.11)\">\n       <defs>\n        <path id=\"ArialMT-31\" d=\"M 2384 0  L 1822 0  L 1822 3584  Q 1619 3391 1289 3197  Q 959 3003 697 2906  L 697 3450  Q 1169 3672 1522 3987  Q 1875 4303 2022 4600  L 2384 4600  L 2384 0  z \" transform=\"scale(0.015625)\"/>\n       </defs>\n       <use xlink:href=\"#ArialMT-5b\"/>\n       <use xlink:href=\"#ArialMT-30\" x=\"27.783203\"/>\n       <use xlink:href=\"#ArialMT-2e\" x=\"83.398438\"/>\n       <use xlink:href=\"#ArialMT-35\" x=\"111.181641\"/>\n       <use xlink:href=\"#ArialMT-30\" x=\"166.796875\"/>\n       <use xlink:href=\"#ArialMT-30\" x=\"222.412109\"/>\n       <use xlink:href=\"#ArialMT-31\" x=\"278.027344\"/>\n       <use xlink:href=\"#ArialMT-35\" x=\"333.642578\"/>\n       <use xlink:href=\"#ArialMT-38\" x=\"389.257812\"/>\n       <use xlink:href=\"#ArialMT-3b\" x=\"444.873047\"/>\n       <use xlink:href=\"#ArialMT-30\" x=\"472.65625\"/>\n       <use xlink:href=\"#ArialMT-2e\" x=\"528.271484\"/>\n       <use xlink:href=\"#ArialMT-37\" x=\"556.054688\"/>\n       <use xlink:href=\"#ArialMT-35\" x=\"611.669922\"/>\n       <use xlink:href=\"#ArialMT-30\" x=\"667.285156\"/>\n       <use xlink:href=\"#ArialMT-30\" x=\"722.900391\"/>\n       <use xlink:href=\"#ArialMT-35\" x=\"778.515625\"/>\n       <use xlink:href=\"#ArialMT-38\" x=\"834.130859\"/>\n       <use xlink:href=\"#ArialMT-5b\" x=\"889.746094\"/>\n      </g>\n     </g>\n    </g>\n    <g id=\"ytick_3\">\n     <g id=\"line2d_6\">\n      <path d=\"M 132.975937 51.401743  L 244.575938 51.401743  \" clip-path=\"url(#p9ed6f1fe43)\" style=\"fill: none; stroke: #ffffff; stroke-linecap: round\"/>\n     </g>\n     <g id=\"text_3\">\n      <!-- [0.250258;0.500158[ -->\n      <g transform=\"translate(22.557812 55.354868)scale(0.11 -0.11)\">\n       <defs>\n        <path id=\"ArialMT-32\" d=\"M 3222 541  L 3222 0  L 194 0  Q 188 203 259 391  Q 375 700 629 1000  Q 884 1300 1366 1694  Q 2113 2306 2375 2664  Q 2638 3022 2638 3341  Q 2638 3675 2398 3904  Q 2159 4134 1775 4134  Q 1369 4134 1125 3890  Q 881 3647 878 3216  L 300 3275  Q 359 3922 746 4261  Q 1134 4600 1788 4600  Q 2447 4600 2831 4234  Q 3216 3869 3216 3328  Q 3216 3053 3103 2787  Q 2991 2522 2730 2228  Q 2469 1934 1863 1422  Q 1356 997 1212 845  Q 1069 694 975 541  L 3222 541  z \" transform=\"scale(0.015625)\"/>\n       </defs>\n       <use xlink:href=\"#ArialMT-5b\"/>\n       <use xlink:href=\"#ArialMT-30\" x=\"27.783203\"/>\n       <use xlink:href=\"#ArialMT-2e\" x=\"83.398438\"/>\n       <use xlink:href=\"#ArialMT-32\" x=\"111.181641\"/>\n       <use xlink:href=\"#ArialMT-35\" x=\"166.796875\"/>\n       <use xlink:href=\"#ArialMT-30\" x=\"222.412109\"/>\n       <use xlink:href=\"#ArialMT-32\" x=\"278.027344\"/>\n       <use xlink:href=\"#ArialMT-35\" x=\"333.642578\"/>\n       <use xlink:href=\"#ArialMT-38\" x=\"389.257812\"/>\n       <use xlink:href=\"#ArialMT-3b\" x=\"444.873047\"/>\n       <use xlink:href=\"#ArialMT-30\" x=\"472.65625\"/>\n       <use xlink:href=\"#ArialMT-2e\" x=\"528.271484\"/>\n       <use xlink:href=\"#ArialMT-35\" x=\"556.054688\"/>\n       <use xlink:href=\"#ArialMT-30\" x=\"611.669922\"/>\n       <use xlink:href=\"#ArialMT-30\" x=\"667.285156\"/>\n       <use xlink:href=\"#ArialMT-31\" x=\"722.900391\"/>\n       <use xlink:href=\"#ArialMT-35\" x=\"778.515625\"/>\n       <use xlink:href=\"#ArialMT-38\" x=\"834.130859\"/>\n       <use xlink:href=\"#ArialMT-5b\" x=\"889.746094\"/>\n      </g>\n     </g>\n    </g>\n    <g id=\"ytick_4\">\n     <g id=\"line2d_7\">\n      <path d=\"M 132.975937 37.09648  L 244.575938 37.09648  \" clip-path=\"url(#p9ed6f1fe43)\" style=\"fill: none; stroke: #ffffff; stroke-linecap: round\"/>\n     </g>\n     <g id=\"text_4\">\n      <!-- (0.000357581;0.250258[ -->\n      <g transform=\"translate(3.6 41.100308)scale(0.11 -0.11)\">\n       <defs>\n        <path id=\"ArialMT-28\" d=\"M 1497 -1347  Q 1031 -759 709 28  Q 388 816 388 1659  Q 388 2403 628 3084  Q 909 3875 1497 4659  L 1900 4659  Q 1522 4009 1400 3731  Q 1209 3300 1100 2831  Q 966 2247 966 1656  Q 966 153 1900 -1347  L 1497 -1347  z \" transform=\"scale(0.015625)\"/>\n        <path id=\"ArialMT-33\" d=\"M 269 1209  L 831 1284  Q 928 806 1161 595  Q 1394 384 1728 384  Q 2125 384 2398 659  Q 2672 934 2672 1341  Q 2672 1728 2419 1979  Q 2166 2231 1775 2231  Q 1616 2231 1378 2169  L 1441 2663  Q 1497 2656 1531 2656  Q 1891 2656 2178 2843  Q 2466 3031 2466 3422  Q 2466 3731 2256 3934  Q 2047 4138 1716 4138  Q 1388 4138 1169 3931  Q 950 3725 888 3313  L 325 3413  Q 428 3978 793 4289  Q 1159 4600 1703 4600  Q 2078 4600 2393 4439  Q 2709 4278 2876 4000  Q 3044 3722 3044 3409  Q 3044 3113 2884 2869  Q 2725 2625 2413 2481  Q 2819 2388 3044 2092  Q 3269 1797 3269 1353  Q 3269 753 2831 336  Q 2394 -81 1725 -81  Q 1122 -81 723 278  Q 325 638 269 1209  z \" transform=\"scale(0.015625)\"/>\n       </defs>\n       <use xlink:href=\"#ArialMT-28\"/>\n       <use xlink:href=\"#ArialMT-30\" x=\"33.300781\"/>\n       <use xlink:href=\"#ArialMT-2e\" x=\"88.916016\"/>\n       <use xlink:href=\"#ArialMT-30\" x=\"116.699219\"/>\n       <use xlink:href=\"#ArialMT-30\" x=\"172.314453\"/>\n       <use xlink:href=\"#ArialMT-30\" x=\"227.929688\"/>\n       <use xlink:href=\"#ArialMT-33\" x=\"283.544922\"/>\n       <use xlink:href=\"#ArialMT-35\" x=\"339.160156\"/>\n       <use xlink:href=\"#ArialMT-37\" x=\"394.775391\"/>\n       <use xlink:href=\"#ArialMT-35\" x=\"450.390625\"/>\n       <use xlink:href=\"#ArialMT-38\" x=\"506.005859\"/>\n       <use xlink:href=\"#ArialMT-31\" x=\"561.621094\"/>\n       <use xlink:href=\"#ArialMT-3b\" x=\"617.236328\"/>\n       <use xlink:href=\"#ArialMT-30\" x=\"645.019531\"/>\n       <use xlink:href=\"#ArialMT-2e\" x=\"700.634766\"/>\n       <use xlink:href=\"#ArialMT-32\" x=\"728.417969\"/>\n       <use xlink:href=\"#ArialMT-35\" x=\"784.033203\"/>\n       <use xlink:href=\"#ArialMT-30\" x=\"839.648438\"/>\n       <use xlink:href=\"#ArialMT-32\" x=\"895.263672\"/>\n       <use xlink:href=\"#ArialMT-35\" x=\"950.878906\"/>\n       <use xlink:href=\"#ArialMT-38\" x=\"1006.494141\"/>\n       <use xlink:href=\"#ArialMT-5b\" x=\"1062.109375\"/>\n      </g>\n     </g>\n    </g>\n   </g>\n   <g id=\"patch_3\">\n    <path d=\"M 132.975937 85.734375  L 160.652992 85.734375  L 160.652992 74.290164  L 132.975937 74.290164  z \" clip-path=\"url(#p9ed6f1fe43)\" style=\"fill: #8fbc8f; stroke: #ffffff; stroke-linejoin: miter\"/>\n   </g>\n   <g id=\"patch_4\">\n    <path d=\"M 132.975937 71.429112  L 161.162581 71.429112  L 161.162581 59.984901  L 132.975937 59.984901  z \" clip-path=\"url(#p9ed6f1fe43)\" style=\"fill: #8fbc8f; stroke: #ffffff; stroke-linejoin: miter\"/>\n   </g>\n   <g id=\"patch_5\">\n    <path d=\"M 132.975937 57.123849  L 160.493746 57.123849  L 160.493746 45.679638  L 132.975937 45.679638  z \" clip-path=\"url(#p9ed6f1fe43)\" style=\"fill: #8fbc8f; stroke: #ffffff; stroke-linejoin: miter\"/>\n   </g>\n   <g id=\"patch_6\">\n    <path d=\"M 132.975937 42.818586  L 161.194431 42.818586  L 161.194431 31.374375  L 132.975937 31.374375  z \" clip-path=\"url(#p9ed6f1fe43)\" style=\"fill: #8fbc8f; stroke: #ffffff; stroke-linejoin: miter\"/>\n   </g>\n   <g id=\"patch_7\">\n    <path d=\"M 132.975937 85.734375  L 132.975937 31.374375  \" style=\"fill: none; stroke: #ffffff; stroke-width: 1.25; stroke-linejoin: miter; stroke-linecap: square\"/>\n   </g>\n   <g id=\"patch_8\">\n    <path d=\"M 244.575938 85.734375  L 244.575938 31.374375  \" style=\"fill: none; stroke: #ffffff; stroke-width: 1.25; stroke-linejoin: miter; stroke-linecap: square\"/>\n   </g>\n   <g id=\"patch_9\">\n    <path d=\"M 132.975937 85.734375  L 244.575938 85.734375  \" style=\"fill: none; stroke: #ffffff; stroke-width: 1.25; stroke-linejoin: miter; stroke-linecap: square\"/>\n   </g>\n   <g id=\"patch_10\">\n    <path d=\"M 132.975937 31.374375  L 244.575938 31.374375  \" style=\"fill: none; stroke: #ffffff; stroke-width: 1.25; stroke-linejoin: miter; stroke-linecap: square\"/>\n   </g>\n   <g id=\"text_5\">\n    <!-- 24.80% -->\n    <g style=\"fill: #262626\" transform=\"translate(203.879063 83.349375)scale(0.12 -0.12)\">\n     <defs>\n      <path id=\"ArialMT-34\" d=\"M 2069 0  L 2069 1097  L 81 1097  L 81 1613  L 2172 4581  L 2631 4581  L 2631 1613  L 3250 1613  L 3250 1097  L 2631 1097  L 2631 0  L 2069 0  z M 2069 1613  L 2069 3678  L 634 1613  L 2069 1613  z \" transform=\"scale(0.015625)\"/>\n      <path id=\"ArialMT-25\" d=\"M 372 3481  Q 372 3972 619 4315  Q 866 4659 1334 4659  Q 1766 4659 2048 4351  Q 2331 4044 2331 3447  Q 2331 2866 2045 2552  Q 1759 2238 1341 2238  Q 925 2238 648 2547  Q 372 2856 372 3481  z M 1350 4272  Q 1141 4272 1002 4090  Q 863 3909 863 3425  Q 863 2984 1003 2804  Q 1144 2625 1350 2625  Q 1563 2625 1702 2806  Q 1841 2988 1841 3469  Q 1841 3913 1700 4092  Q 1559 4272 1350 4272  z M 1353 -169  L 3859 4659  L 4316 4659  L 1819 -169  L 1353 -169  z M 3334 1075  Q 3334 1569 3581 1911  Q 3828 2253 4300 2253  Q 4731 2253 5014 1945  Q 5297 1638 5297 1041  Q 5297 459 5011 145  Q 4725 -169 4303 -169  Q 3888 -169 3611 142  Q 3334 453 3334 1075  z M 4316 1866  Q 4103 1866 3964 1684  Q 3825 1503 3825 1019  Q 3825 581 3965 400  Q 4106 219 4313 219  Q 4528 219 4667 400  Q 4806 581 4806 1063  Q 4806 1506 4665 1686  Q 4525 1866 4316 1866  z \" transform=\"scale(0.015625)\"/>\n     </defs>\n     <use xlink:href=\"#ArialMT-32\"/>\n     <use xlink:href=\"#ArialMT-34\" x=\"55.615234\"/>\n     <use xlink:href=\"#ArialMT-2e\" x=\"111.230469\"/>\n     <use xlink:href=\"#ArialMT-38\" x=\"139.013672\"/>\n     <use xlink:href=\"#ArialMT-30\" x=\"194.628906\"/>\n     <use xlink:href=\"#ArialMT-25\" x=\"250.244141\"/>\n    </g>\n   </g>\n   <g id=\"text_6\">\n    <!-- 25.26% -->\n    <g style=\"fill: #262626\" transform=\"translate(203.879063 69.044112)scale(0.12 -0.12)\">\n     <defs>\n      <path id=\"ArialMT-36\" d=\"M 3184 3459  L 2625 3416  Q 2550 3747 2413 3897  Q 2184 4138 1850 4138  Q 1581 4138 1378 3988  Q 1113 3794 959 3422  Q 806 3050 800 2363  Q 1003 2672 1297 2822  Q 1591 2972 1913 2972  Q 2475 2972 2870 2558  Q 3266 2144 3266 1488  Q 3266 1056 3080 686  Q 2894 316 2569 119  Q 2244 -78 1831 -78  Q 1128 -78 684 439  Q 241 956 241 2144  Q 241 3472 731 4075  Q 1159 4600 1884 4600  Q 2425 4600 2770 4297  Q 3116 3994 3184 3459  z M 888 1484  Q 888 1194 1011 928  Q 1134 663 1356 523  Q 1578 384 1822 384  Q 2178 384 2434 671  Q 2691 959 2691 1453  Q 2691 1928 2437 2201  Q 2184 2475 1800 2475  Q 1419 2475 1153 2201  Q 888 1928 888 1484  z \" transform=\"scale(0.015625)\"/>\n     </defs>\n     <use xlink:href=\"#ArialMT-32\"/>\n     <use xlink:href=\"#ArialMT-35\" x=\"55.615234\"/>\n     <use xlink:href=\"#ArialMT-2e\" x=\"111.230469\"/>\n     <use xlink:href=\"#ArialMT-32\" x=\"139.013672\"/>\n     <use xlink:href=\"#ArialMT-36\" x=\"194.628906\"/>\n     <use xlink:href=\"#ArialMT-25\" x=\"250.244141\"/>\n    </g>\n   </g>\n   <g id=\"text_7\">\n    <!-- 24.66% -->\n    <g style=\"fill: #262626\" transform=\"translate(203.879063 54.738849)scale(0.12 -0.12)\">\n     <use xlink:href=\"#ArialMT-32\"/>\n     <use xlink:href=\"#ArialMT-34\" x=\"55.615234\"/>\n     <use xlink:href=\"#ArialMT-2e\" x=\"111.230469\"/>\n     <use xlink:href=\"#ArialMT-36\" x=\"139.013672\"/>\n     <use xlink:href=\"#ArialMT-36\" x=\"194.628906\"/>\n     <use xlink:href=\"#ArialMT-25\" x=\"250.244141\"/>\n    </g>\n   </g>\n   <g id=\"text_8\">\n    <!-- 25.29% -->\n    <g style=\"fill: #262626\" transform=\"translate(203.879063 40.433586)scale(0.12 -0.12)\">\n     <use xlink:href=\"#ArialMT-32\"/>\n     <use xlink:href=\"#ArialMT-35\" x=\"55.615234\"/>\n     <use xlink:href=\"#ArialMT-2e\" x=\"111.230469\"/>\n     <use xlink:href=\"#ArialMT-32\" x=\"139.013672\"/>\n     <use xlink:href=\"#ArialMT-39\" x=\"194.628906\"/>\n     <use xlink:href=\"#ArialMT-25\" x=\"250.244141\"/>\n    </g>\n   </g>\n   <g id=\"text_9\">\n    <!-- x0 -->\n    <g transform=\"translate(182.439375 12.189375)scale(0.12 -0.12)\">\n     <defs>\n      <path id=\"ArialMT-78\" d=\"M 47 0  L 1259 1725  L 138 3319  L 841 3319  L 1350 2541  Q 1494 2319 1581 2169  Q 1719 2375 1834 2534  L 2394 3319  L 3066 3319  L 1919 1756  L 3153 0  L 2463 0  L 1781 1031  L 1600 1309  L 728 0  L 47 0  z \" transform=\"scale(0.015625)\"/>\n     </defs>\n     <use xlink:href=\"#ArialMT-78\"/>\n     <use xlink:href=\"#ArialMT-30\" x=\"50\"/>\n    </g>\n    <!-- $\\mu=0.50$; $\\sigma=0.28$ -->\n    <g transform=\"translate(136.695938 25.374375)scale(0.12 -0.12)\">\n     <defs>\n      <path id=\"DejaVuSans-Oblique-3bc\" d=\"M -84 -1331  L 856 3500  L 1434 3500  L 1009 1322  Q 997 1256 987 1175  Q 978 1094 978 1013  Q 978 722 1161 565  Q 1344 409 1684 409  Q 2147 409 2431 671  Q 2716 934 2816 1459  L 3213 3500  L 3788 3500  L 3266 809  Q 3253 750 3248 706  Q 3244 663 3244 628  Q 3244 531 3283 486  Q 3322 441 3406 441  Q 3438 441 3492 456  Q 3547 472 3647 513  L 3559 50  Q 3422 -19 3297 -55  Q 3172 -91 3053 -91  Q 2847 -91 2730 40  Q 2613 172 2613 403  Q 2438 153 2195 31  Q 1953 -91 1625 -91  Q 1334 -91 1117 43  Q 900 178 831 397  L 494 -1331  L -84 -1331  z \" transform=\"scale(0.015625)\"/>\n      <path id=\"DejaVuSans-3d\" d=\"M 678 2906  L 4684 2906  L 4684 2381  L 678 2381  L 678 2906  z M 678 1631  L 4684 1631  L 4684 1100  L 678 1100  L 678 1631  z \" transform=\"scale(0.015625)\"/>\n      <path id=\"DejaVuSans-30\" d=\"M 2034 4250  Q 1547 4250 1301 3770  Q 1056 3291 1056 2328  Q 1056 1369 1301 889  Q 1547 409 2034 409  Q 2525 409 2770 889  Q 3016 1369 3016 2328  Q 3016 3291 2770 3770  Q 2525 4250 2034 4250  z M 2034 4750  Q 2819 4750 3233 4129  Q 3647 3509 3647 2328  Q 3647 1150 3233 529  Q 2819 -91 2034 -91  Q 1250 -91 836 529  Q 422 1150 422 2328  Q 422 3509 836 4129  Q 1250 4750 2034 4750  z \" transform=\"scale(0.015625)\"/>\n      <path id=\"DejaVuSans-2e\" d=\"M 684 794  L 1344 794  L 1344 0  L 684 0  L 684 794  z \" transform=\"scale(0.015625)\"/>\n      <path id=\"DejaVuSans-35\" d=\"M 691 4666  L 3169 4666  L 3169 4134  L 1269 4134  L 1269 2991  Q 1406 3038 1543 3061  Q 1681 3084 1819 3084  Q 2600 3084 3056 2656  Q 3513 2228 3513 1497  Q 3513 744 3044 326  Q 2575 -91 1722 -91  Q 1428 -91 1123 -41  Q 819 9 494 109  L 494 744  Q 775 591 1075 516  Q 1375 441 1709 441  Q 2250 441 2565 725  Q 2881 1009 2881 1497  Q 2881 1984 2565 2268  Q 2250 2553 1709 2553  Q 1456 2553 1204 2497  Q 953 2441 691 2322  L 691 4666  z \" transform=\"scale(0.015625)\"/>\n      <path id=\"ArialMT-20\" transform=\"scale(0.015625)\"/>\n      <path id=\"DejaVuSans-Oblique-3c3\" d=\"M 2219 3044  Q 1744 3044 1422 2700  Q 1081 2341 969 1747  Q 844 1119 1044 756  Q 1241 397 1706 397  Q 2166 397 2503 759  Q 2844 1122 2966 1747  Q 3075 2319 2881 2700  Q 2700 3044 2219 3044  z M 2309 3503  L 4219 3500  L 4106 2925  L 3463 2925  Q 3706 2438 3575 1747  Q 3406 888 2884 400  Q 2359 -91 1609 -91  Q 856 -91 525 400  Q 194 888 363 1747  Q 528 2609 1050 3097  Q 1484 3503 2309 3503  z \" transform=\"scale(0.015625)\"/>\n      <path id=\"DejaVuSans-32\" d=\"M 1228 531  L 3431 531  L 3431 0  L 469 0  L 469 531  Q 828 903 1448 1529  Q 2069 2156 2228 2338  Q 2531 2678 2651 2914  Q 2772 3150 2772 3378  Q 2772 3750 2511 3984  Q 2250 4219 1831 4219  Q 1534 4219 1204 4116  Q 875 4013 500 3803  L 500 4441  Q 881 4594 1212 4672  Q 1544 4750 1819 4750  Q 2544 4750 2975 4387  Q 3406 4025 3406 3419  Q 3406 3131 3298 2873  Q 3191 2616 2906 2266  Q 2828 2175 2409 1742  Q 1991 1309 1228 531  z \" transform=\"scale(0.015625)\"/>\n      <path id=\"DejaVuSans-38\" d=\"M 2034 2216  Q 1584 2216 1326 1975  Q 1069 1734 1069 1313  Q 1069 891 1326 650  Q 1584 409 2034 409  Q 2484 409 2743 651  Q 3003 894 3003 1313  Q 3003 1734 2745 1975  Q 2488 2216 2034 2216  z M 1403 2484  Q 997 2584 770 2862  Q 544 3141 544 3541  Q 544 4100 942 4425  Q 1341 4750 2034 4750  Q 2731 4750 3128 4425  Q 3525 4100 3525 3541  Q 3525 3141 3298 2862  Q 3072 2584 2669 2484  Q 3125 2378 3379 2068  Q 3634 1759 3634 1313  Q 3634 634 3220 271  Q 2806 -91 2034 -91  Q 1263 -91 848 271  Q 434 634 434 1313  Q 434 1759 690 2068  Q 947 2378 1403 2484  z M 1172 3481  Q 1172 3119 1398 2916  Q 1625 2713 2034 2713  Q 2441 2713 2670 2916  Q 2900 3119 2900 3481  Q 2900 3844 2670 4047  Q 2441 4250 2034 4250  Q 1625 4250 1398 4047  Q 1172 3844 1172 3481  z \" transform=\"scale(0.015625)\"/>\n     </defs>\n     <use xlink:href=\"#DejaVuSans-Oblique-3bc\" transform=\"translate(0 0.78125)\"/>\n     <use xlink:href=\"#DejaVuSans-3d\" transform=\"translate(83.105469 0.78125)\"/>\n     <use xlink:href=\"#DejaVuSans-30\" transform=\"translate(186.376953 0.78125)\"/>\n     <use xlink:href=\"#DejaVuSans-2e\" transform=\"translate(250 0.78125)\"/>\n     <use xlink:href=\"#DejaVuSans-35\" transform=\"translate(281.787109 0.78125)\"/>\n     <use xlink:href=\"#DejaVuSans-30\" transform=\"translate(345.410156 0.78125)\"/>\n     <use xlink:href=\"#ArialMT-3b\" transform=\"translate(409.033203 0.78125)\"/>\n     <use xlink:href=\"#ArialMT-20\" transform=\"translate(436.816406 0.78125)\"/>\n     <use xlink:href=\"#DejaVuSans-Oblique-3c3\" transform=\"translate(464.599609 0.78125)\"/>\n     <use xlink:href=\"#DejaVuSans-3d\" transform=\"translate(547.460938 0.78125)\"/>\n     <use xlink:href=\"#DejaVuSans-30\" transform=\"translate(650.732422 0.78125)\"/>\n     <use xlink:href=\"#DejaVuSans-2e\" transform=\"translate(714.355469 0.78125)\"/>\n     <use xlink:href=\"#DejaVuSans-32\" transform=\"translate(740.642578 0.78125)\"/>\n     <use xlink:href=\"#DejaVuSans-38\" transform=\"translate(804.265625 0.78125)\"/>\n    </g>\n   </g>\n  </g>\n </g>\n <defs>\n  <clipPath id=\"p9ed6f1fe43\">\n   <rect x=\"132.975937\" y=\"31.374375\" width=\"111.6\" height=\"54.36\"/>\n  </clipPath>\n </defs>\n</svg>\n\n</g>\n<!-- x0&#45;&gt;y -->\n<g id=\"edge1\" class=\"edge\"><title>x0-&gt;y</title>\n<g id=\"a_edge1\"><a xlink:title=\"(1, 0):\">\n<path fill=\"none\" stroke=\"#4a4a4a\" d=\"M90.4412,-106.844C84.4686,-97.933 78.0435,-88.3472 72.1488,-79.5526\"/>\n<polygon fill=\"#4a4a4a\" stroke=\"#4a4a4a\" points=\"74.9423,-77.434 66.4672,-71.0761 69.1276,-81.3315 74.9423,-77.434\"/>\n</a>\n</g>\n</g>\n<!-- x1 -->\n<g id=\"node3\" class=\"node\"><title>x1</title>\n<polygon fill=\"#e0e0e0\" stroke=\"#000000\" points=\"230,-66 120,-66 120,-28 230,-28 230,-66\"/>\n<svg viewBox=\"0 0 143.59 49.052422\" width=\"110px\" height=\"38px\" preserveAspectRatio=\"xMinYMin meet\" x=\"120\" y=\"-66\"> <metadata>\n  <rdf:RDF xmlns:dc=\"http://purl.org/dc/elements/1.1/\" xmlns:cc=\"http://creativecommons.org/ns#\" xmlns:rdf=\"http://www.w3.org/1999/02/22-rdf-syntax-ns#\">\n   <cc:Work>\n    <dc:type rdf:resource=\"http://purl.org/dc/dcmitype/StillImage\"/>\n    <dc:date>2022-07-08T01:17:00.466583</dc:date>\n    <dc:format>image/svg+xml</dc:format>\n    <dc:creator>\n     <cc:Agent>\n      <dc:title>Matplotlib v3.5.1, https://matplotlib.org/</dc:title>\n     </cc:Agent>\n    </dc:creator>\n   </cc:Work>\n  </rdf:RDF>\n </metadata>\n <defs>\n  <style type=\"text/css\">*{stroke-linejoin: round; stroke-linecap: butt}</style>\n </defs>\n <g id=\"figure_1\">\n  <g id=\"patch_1\">\n   <path d=\"M 0 49.052422  L 143.59 49.052422  L 143.59 0  L 0 0  z \" style=\"fill: #e0e0e0\"/>\n  </g>\n  <g id=\"axes_1\">\n   <g id=\"patch_2\">\n    <path d=\"M 28.39 45.369375  L 139.99 45.369375  L 139.99 18.189375  L 28.39 18.189375  z \" style=\"fill: #ffffff\"/>\n   </g>\n   <g id=\"matplotlib.axis_1\">\n    <g id=\"xtick_1\">\n     <g id=\"line2d_1\">\n      <path d=\"M 28.39 45.369375  L 28.39 18.189375  \" clip-path=\"url(#pcdf701f9f2)\" style=\"fill: none; stroke: #ffffff; stroke-linecap: round\"/>\n     </g>\n    </g>\n    <g id=\"xtick_2\">\n     <g id=\"line2d_2\">\n      <path d=\"M 84.19 45.369375  L 84.19 18.189375  \" clip-path=\"url(#pcdf701f9f2)\" style=\"fill: none; stroke: #ffffff; stroke-linecap: round\"/>\n     </g>\n    </g>\n    <g id=\"xtick_3\">\n     <g id=\"line2d_3\">\n      <path d=\"M 139.99 45.369375  L 139.99 18.189375  \" clip-path=\"url(#pcdf701f9f2)\" style=\"fill: none; stroke: #ffffff; stroke-linecap: round\"/>\n     </g>\n    </g>\n   </g>\n   <g id=\"matplotlib.axis_2\">\n    <g id=\"ytick_1\">\n     <g id=\"line2d_4\">\n      <path d=\"M 28.39 39.329375  L 139.99 39.329375  \" clip-path=\"url(#pcdf701f9f2)\" style=\"fill: none; stroke: #ffffff; stroke-linecap: round\"/>\n     </g>\n     <g id=\"text_1\">\n      <!-- 1.0 -->\n      <g transform=\"translate(3.6 43.266172)scale(0.11 -0.11)\">\n       <defs>\n        <path id=\"ArialMT-31\" d=\"M 2384 0  L 1822 0  L 1822 3584  Q 1619 3391 1289 3197  Q 959 3003 697 2906  L 697 3450  Q 1169 3672 1522 3987  Q 1875 4303 2022 4600  L 2384 4600  L 2384 0  z \" transform=\"scale(0.015625)\"/>\n        <path id=\"ArialMT-2e\" d=\"M 581 0  L 581 641  L 1222 641  L 1222 0  L 581 0  z \" transform=\"scale(0.015625)\"/>\n        <path id=\"ArialMT-30\" d=\"M 266 2259  Q 266 3072 433 3567  Q 600 4063 929 4331  Q 1259 4600 1759 4600  Q 2128 4600 2406 4451  Q 2684 4303 2865 4023  Q 3047 3744 3150 3342  Q 3253 2941 3253 2259  Q 3253 1453 3087 958  Q 2922 463 2592 192  Q 2263 -78 1759 -78  Q 1097 -78 719 397  Q 266 969 266 2259  z M 844 2259  Q 844 1131 1108 757  Q 1372 384 1759 384  Q 2147 384 2411 759  Q 2675 1134 2675 2259  Q 2675 3391 2411 3762  Q 2147 4134 1753 4134  Q 1366 4134 1134 3806  Q 844 3388 844 2259  z \" transform=\"scale(0.015625)\"/>\n       </defs>\n       <use xlink:href=\"#ArialMT-31\"/>\n       <use xlink:href=\"#ArialMT-2e\" x=\"55.615234\"/>\n       <use xlink:href=\"#ArialMT-30\" x=\"83.398438\"/>\n      </g>\n     </g>\n    </g>\n    <g id=\"ytick_2\">\n     <g id=\"line2d_5\">\n      <path d=\"M 28.39 24.229375  L 139.99 24.229375  \" clip-path=\"url(#pcdf701f9f2)\" style=\"fill: none; stroke: #ffffff; stroke-linecap: round\"/>\n     </g>\n     <g id=\"text_2\">\n      <!-- 0.0 -->\n      <g transform=\"translate(3.6 28.166172)scale(0.11 -0.11)\">\n       <use xlink:href=\"#ArialMT-30\"/>\n       <use xlink:href=\"#ArialMT-2e\" x=\"55.615234\"/>\n       <use xlink:href=\"#ArialMT-30\" x=\"83.398438\"/>\n      </g>\n     </g>\n    </g>\n   </g>\n   <g id=\"patch_3\">\n    <path d=\"M 28.39 45.369375  L 61.921178 45.369375  L 61.921178 33.289375  L 28.39 33.289375  z \" clip-path=\"url(#pcdf701f9f2)\" style=\"fill: #8fbc8f; stroke: #ffffff; stroke-linejoin: miter\"/>\n   </g>\n   <g id=\"patch_4\">\n    <path d=\"M 28.39 30.269375  L 106.458822 30.269375  L 106.458822 18.189375  L 28.39 18.189375  z \" clip-path=\"url(#pcdf701f9f2)\" style=\"fill: #8fbc8f; stroke: #ffffff; stroke-linejoin: miter\"/>\n   </g>\n   <g id=\"patch_5\">\n    <path d=\"M 28.39 45.369375  L 28.39 18.189375  \" style=\"fill: none; stroke: #ffffff; stroke-width: 1.25; stroke-linejoin: miter; stroke-linecap: square\"/>\n   </g>\n   <g id=\"patch_6\">\n    <path d=\"M 139.99 45.369375  L 139.99 18.189375  \" style=\"fill: none; stroke: #ffffff; stroke-width: 1.25; stroke-linejoin: miter; stroke-linecap: square\"/>\n   </g>\n   <g id=\"patch_7\">\n    <path d=\"M 28.39 45.369375  L 139.99 45.369375  \" style=\"fill: none; stroke: #ffffff; stroke-width: 1.25; stroke-linejoin: miter; stroke-linecap: square\"/>\n   </g>\n   <g id=\"patch_8\">\n    <path d=\"M 28.39 18.189375  L 139.99 18.189375  \" style=\"fill: none; stroke: #ffffff; stroke-width: 1.25; stroke-linejoin: miter; stroke-linecap: square\"/>\n   </g>\n   <g id=\"text_3\">\n    <!-- 30.05% -->\n    <g style=\"fill: #262626\" transform=\"translate(99.293125 42.984375)scale(0.12 -0.12)\">\n     <defs>\n      <path id=\"ArialMT-33\" d=\"M 269 1209  L 831 1284  Q 928 806 1161 595  Q 1394 384 1728 384  Q 2125 384 2398 659  Q 2672 934 2672 1341  Q 2672 1728 2419 1979  Q 2166 2231 1775 2231  Q 1616 2231 1378 2169  L 1441 2663  Q 1497 2656 1531 2656  Q 1891 2656 2178 2843  Q 2466 3031 2466 3422  Q 2466 3731 2256 3934  Q 2047 4138 1716 4138  Q 1388 4138 1169 3931  Q 950 3725 888 3313  L 325 3413  Q 428 3978 793 4289  Q 1159 4600 1703 4600  Q 2078 4600 2393 4439  Q 2709 4278 2876 4000  Q 3044 3722 3044 3409  Q 3044 3113 2884 2869  Q 2725 2625 2413 2481  Q 2819 2388 3044 2092  Q 3269 1797 3269 1353  Q 3269 753 2831 336  Q 2394 -81 1725 -81  Q 1122 -81 723 278  Q 325 638 269 1209  z \" transform=\"scale(0.015625)\"/>\n      <path id=\"ArialMT-35\" d=\"M 266 1200  L 856 1250  Q 922 819 1161 601  Q 1400 384 1738 384  Q 2144 384 2425 690  Q 2706 997 2706 1503  Q 2706 1984 2436 2262  Q 2166 2541 1728 2541  Q 1456 2541 1237 2417  Q 1019 2294 894 2097  L 366 2166  L 809 4519  L 3088 4519  L 3088 3981  L 1259 3981  L 1013 2750  Q 1425 3038 1878 3038  Q 2478 3038 2890 2622  Q 3303 2206 3303 1553  Q 3303 931 2941 478  Q 2500 -78 1738 -78  Q 1113 -78 717 272  Q 322 622 266 1200  z \" transform=\"scale(0.015625)\"/>\n      <path id=\"ArialMT-25\" d=\"M 372 3481  Q 372 3972 619 4315  Q 866 4659 1334 4659  Q 1766 4659 2048 4351  Q 2331 4044 2331 3447  Q 2331 2866 2045 2552  Q 1759 2238 1341 2238  Q 925 2238 648 2547  Q 372 2856 372 3481  z M 1350 4272  Q 1141 4272 1002 4090  Q 863 3909 863 3425  Q 863 2984 1003 2804  Q 1144 2625 1350 2625  Q 1563 2625 1702 2806  Q 1841 2988 1841 3469  Q 1841 3913 1700 4092  Q 1559 4272 1350 4272  z M 1353 -169  L 3859 4659  L 4316 4659  L 1819 -169  L 1353 -169  z M 3334 1075  Q 3334 1569 3581 1911  Q 3828 2253 4300 2253  Q 4731 2253 5014 1945  Q 5297 1638 5297 1041  Q 5297 459 5011 145  Q 4725 -169 4303 -169  Q 3888 -169 3611 142  Q 3334 453 3334 1075  z M 4316 1866  Q 4103 1866 3964 1684  Q 3825 1503 3825 1019  Q 3825 581 3965 400  Q 4106 219 4313 219  Q 4528 219 4667 400  Q 4806 581 4806 1063  Q 4806 1506 4665 1686  Q 4525 1866 4316 1866  z \" transform=\"scale(0.015625)\"/>\n     </defs>\n     <use xlink:href=\"#ArialMT-33\"/>\n     <use xlink:href=\"#ArialMT-30\" x=\"55.615234\"/>\n     <use xlink:href=\"#ArialMT-2e\" x=\"111.230469\"/>\n     <use xlink:href=\"#ArialMT-30\" x=\"139.013672\"/>\n     <use xlink:href=\"#ArialMT-35\" x=\"194.628906\"/>\n     <use xlink:href=\"#ArialMT-25\" x=\"250.244141\"/>\n    </g>\n   </g>\n   <g id=\"text_4\">\n    <!-- 69.95% -->\n    <g style=\"fill: #262626\" transform=\"translate(99.293125 27.884375)scale(0.12 -0.12)\">\n     <defs>\n      <path id=\"ArialMT-36\" d=\"M 3184 3459  L 2625 3416  Q 2550 3747 2413 3897  Q 2184 4138 1850 4138  Q 1581 4138 1378 3988  Q 1113 3794 959 3422  Q 806 3050 800 2363  Q 1003 2672 1297 2822  Q 1591 2972 1913 2972  Q 2475 2972 2870 2558  Q 3266 2144 3266 1488  Q 3266 1056 3080 686  Q 2894 316 2569 119  Q 2244 -78 1831 -78  Q 1128 -78 684 439  Q 241 956 241 2144  Q 241 3472 731 4075  Q 1159 4600 1884 4600  Q 2425 4600 2770 4297  Q 3116 3994 3184 3459  z M 888 1484  Q 888 1194 1011 928  Q 1134 663 1356 523  Q 1578 384 1822 384  Q 2178 384 2434 671  Q 2691 959 2691 1453  Q 2691 1928 2437 2201  Q 2184 2475 1800 2475  Q 1419 2475 1153 2201  Q 888 1928 888 1484  z \" transform=\"scale(0.015625)\"/>\n      <path id=\"ArialMT-39\" d=\"M 350 1059  L 891 1109  Q 959 728 1153 556  Q 1347 384 1650 384  Q 1909 384 2104 503  Q 2300 622 2425 820  Q 2550 1019 2634 1356  Q 2719 1694 2719 2044  Q 2719 2081 2716 2156  Q 2547 1888 2255 1720  Q 1963 1553 1622 1553  Q 1053 1553 659 1965  Q 266 2378 266 3053  Q 266 3750 677 4175  Q 1088 4600 1706 4600  Q 2153 4600 2523 4359  Q 2894 4119 3086 3673  Q 3278 3228 3278 2384  Q 3278 1506 3087 986  Q 2897 466 2520 194  Q 2144 -78 1638 -78  Q 1100 -78 759 220  Q 419 519 350 1059  z M 2653 3081  Q 2653 3566 2395 3850  Q 2138 4134 1775 4134  Q 1400 4134 1122 3828  Q 844 3522 844 3034  Q 844 2597 1108 2323  Q 1372 2050 1759 2050  Q 2150 2050 2401 2323  Q 2653 2597 2653 3081  z \" transform=\"scale(0.015625)\"/>\n     </defs>\n     <use xlink:href=\"#ArialMT-36\"/>\n     <use xlink:href=\"#ArialMT-39\" x=\"55.615234\"/>\n     <use xlink:href=\"#ArialMT-2e\" x=\"111.230469\"/>\n     <use xlink:href=\"#ArialMT-39\" x=\"139.013672\"/>\n     <use xlink:href=\"#ArialMT-35\" x=\"194.628906\"/>\n     <use xlink:href=\"#ArialMT-25\" x=\"250.244141\"/>\n    </g>\n   </g>\n   <g id=\"text_5\">\n    <!-- x1 -->\n    <g transform=\"translate(77.853437 12.189375)scale(0.12 -0.12)\">\n     <defs>\n      <path id=\"ArialMT-78\" d=\"M 47 0  L 1259 1725  L 138 3319  L 841 3319  L 1350 2541  Q 1494 2319 1581 2169  Q 1719 2375 1834 2534  L 2394 3319  L 3066 3319  L 1919 1756  L 3153 0  L 2463 0  L 1781 1031  L 1600 1309  L 728 0  L 47 0  z \" transform=\"scale(0.015625)\"/>\n     </defs>\n     <use xlink:href=\"#ArialMT-78\"/>\n     <use xlink:href=\"#ArialMT-31\" x=\"50\"/>\n    </g>\n   </g>\n  </g>\n </g>\n <defs>\n  <clipPath id=\"pcdf701f9f2\">\n   <rect x=\"28.39\" y=\"18.189375\" width=\"111.6\" height=\"27.18\"/>\n  </clipPath>\n </defs>\n</svg>\n\n</g>\n<!-- x0&#45;&gt;x1 -->\n<g id=\"edge2\" class=\"edge\"><title>x0-&gt;x1</title>\n<g id=\"a_edge2\"><a xlink:title=\"(1, 2):\">\n<path fill=\"none\" stroke=\"#4a4a4a\" d=\"M135.559,-106.844C142.682,-96.2162 150.449,-84.6284 157.192,-74.568\"/>\n<polygon fill=\"#4a4a4a\" stroke=\"#4a4a4a\" points=\"160.152,-76.4381 162.813,-66.1827 154.338,-72.5407 160.152,-76.4381\"/>\n</a>\n</g>\n</g>\n</g>\n</svg>",
      "text/plain": [
       "<IPython.core.display.SVG object>"
      ]
     },
     "metadata": {},
     "output_type": "display_data"
    }
   ],
   "source": [
    "clf_BNet.show_query_mode()"
   ]
  },
  {
   "cell_type": "code",
   "execution_count": null,
   "metadata": {},
   "outputs": [],
   "source": [
    "# generate instances to explain\n",
    "df_expl = gum.generateSample(clf_BNet.getBN(), n=10, name_out=None, show_progress=False, with_labels=True, random_order=True)\n",
    "df_expl[0].to_csv(os.path.join(\"gen_data\", \"common_cause_v3.csv\"))\n"
   ]
  },
  {
   "cell_type": "code",
   "execution_count": null,
   "metadata": {},
   "outputs": [],
   "source": [
    "clf_BNet.explainShapCondInd()\n"
   ]
  },
  {
   "cell_type": "code",
   "execution_count": 8,
   "metadata": {},
   "outputs": [],
   "source": [
    "import time\n",
    "\n",
    "from pyAgrum.lib.bn2graph import BN2dot\n",
    "import numpy as np\n",
    "import pandas as pd\n",
    "\n",
    "import pyAgrum as gum\n",
    "import pyAgrum.lib.notebook as gnb\n",
    "import pyAgrum.lib.explain as expl\n",
    "\n",
    "import matplotlib.pyplot as plt"
   ]
  },
  {
   "cell_type": "code",
   "execution_count": null,
   "metadata": {},
   "outputs": [],
   "source": [
    "template=gum.fastBN(\"X1->X2->Y;X3->Z->Y;X0->Z;X1->Z;X2->R[5];Z->R;X1->Y\")\n",
    "data_path = \"res/shap/Data_6var_direct_indirect.csv\"\n",
    "\n",
    "#gum.generateSample(template,1000,data_path)\n",
    "\n",
    "learner = gum.BNLearner(data_path,template)\n",
    "bn = learner.learnParameters(template.dag())\n",
    "bn"
   ]
  },
  {
   "cell_type": "code",
   "execution_count": null,
   "metadata": {},
   "outputs": [],
   "source": [
    "clf_xgboost = XGBoost(False, \"common_cause_v3\", data_common_cause,\"Y\")\n",
    "clf_xgboost.classify()"
   ]
  },
  {
   "cell_type": "code",
   "execution_count": null,
   "metadata": {},
   "outputs": [],
   "source": [
    "clf_bn = Classifier(\"Bayesian Network\", \"common_cause_v2\", data_common_cause, \"Y\")\n",
    "bnc = clf_bn.applyClassifer(learningMethod=\"GHC\")\n"
   ]
  },
  {
   "cell_type": "code",
   "execution_count": null,
   "metadata": {},
   "outputs": [],
   "source": [
    "gnb.showBN(bnc.bn)"
   ]
  },
  {
   "cell_type": "code",
   "execution_count": null,
   "metadata": {},
   "outputs": [],
   "source": [
    "gnb.showInference(bnc.bn)"
   ]
  },
  {
   "cell_type": "code",
   "execution_count": null,
   "metadata": {},
   "outputs": [],
   "source": [
    "clf_nn = Classifier(\"Neural Network\", \"common_cause_v2\", data_common_cause, \"Y\")\n",
    "NN = clf_nn.applyClassifer()\n",
    "NN\n"
   ]
  },
  {
   "cell_type": "markdown",
   "metadata": {},
   "source": [
    "### Training a Neural Network Classifier\n"
   ]
  },
  {
   "cell_type": "code",
   "execution_count": null,
   "metadata": {},
   "outputs": [],
   "source": [
    "logs = pd.DataFrame(history.history)\n",
    "\n",
    "plt.figure(figsize=(14, 4))\n",
    "plt.subplot(1, 2, 1)\n",
    "plt.plot(logs.loc[5:,\"loss\"], lw=2, label='training loss')\n",
    "plt.plot(logs.loc[5:,\"val_loss\"], lw=2, label='validation loss')\n",
    "plt.xlabel(\"Epoch\")\n",
    "plt.ylabel(\"Loss\")\n",
    "plt.legend()\n",
    "plt.subplot(1, 2, 2)\n",
    "plt.plot(logs.loc[5:,\"accuracy\"], lw=2, label='training accuracy score')\n",
    "plt.plot(logs.loc[5:,\"val_accuracy\"], lw=2, label='validation accuracy score')\n",
    "plt.xlabel(\"Epoch\")\n",
    "plt.ylabel(\"accuracy\")\n",
    "plt.legend(loc='lower right')\n",
    "plt.show()"
   ]
  },
  {
   "cell_type": "markdown",
   "metadata": {},
   "source": [
    "### Training an XGBoost Classifier"
   ]
  },
  {
   "cell_type": "markdown",
   "metadata": {},
   "source": [
    "### Generating Explanations for XGBoost"
   ]
  },
  {
   "cell_type": "code",
   "execution_count": null,
   "metadata": {},
   "outputs": [],
   "source": [
    "from  lime.lime_tabular import LimeTabularExplainer\n",
    "explainer = LimeTabularExplainer(X_train, feature_names=features, class_names=[\"Y:0\", \"Y:1\"])\n",
    "explainer"
   ]
  },
  {
   "cell_type": "code",
   "execution_count": null,
   "metadata": {},
   "outputs": [],
   "source": [
    "indx = 5\n",
    "\n",
    "res = xgb.predict_proba([X_test[indx]])\n",
    "print( \"Prediction: \" + str(np.argmax(res[0])) )\n",
    "\n",
    "exp = explainer.explain_instance(X_test[indx], xgb.predict_proba, num_features=3)\n",
    "fig = exp.as_pyplot_figure()"
   ]
  },
  {
   "cell_type": "markdown",
   "metadata": {},
   "source": [
    "### Generating Explanations for Neural Net\n"
   ]
  },
  {
   "cell_type": "code",
   "execution_count": null,
   "metadata": {},
   "outputs": [],
   "source": [
    "from  lime.lime_tabular import LimeTabularExplainer\n",
    "explainer_nn = LimeTabularExplainer(X_train, feature_names=features, class_names=[\"Y:0\", \"Y:1\"])\n",
    "explainer_nn"
   ]
  },
  {
   "cell_type": "code",
   "execution_count": null,
   "metadata": {},
   "outputs": [],
   "source": [
    "predict_fn = lambda x:  1.0 if nn.predict(x) >= 0.5 else 0.0"
   ]
  },
  {
   "cell_type": "code",
   "execution_count": null,
   "metadata": {},
   "outputs": [],
   "source": [
    "indx = 5\n",
    "\n",
    "instance1 =  np.expand_dims(X_test[indx], axis=0) \n",
    "instance2 =  X_test[indx]\n",
    "\n",
    "exp = explainer.explain_instance(X_test[indx], nn.predict, num_features=3)\n",
    "fig = exp.as_pyplot_figure()"
   ]
  },
  {
   "cell_type": "code",
   "execution_count": null,
   "metadata": {},
   "outputs": [],
   "source": [
    "explainer_bn = LimeTabularExplainer(X_train, feature_names=features, class_names=[\"Y:0\", \"Y:1\"])\n",
    "explainer_bn"
   ]
  },
  {
   "cell_type": "code",
   "execution_count": null,
   "metadata": {},
   "outputs": [],
   "source": []
  }
 ],
 "metadata": {
  "kernelspec": {
   "display_name": "Python 3.9.12 ('base')",
   "language": "python",
   "name": "python3"
  },
  "language_info": {
   "codemirror_mode": {
    "name": "ipython",
    "version": 3
   },
   "file_extension": ".py",
   "mimetype": "text/x-python",
   "name": "python",
   "nbconvert_exporter": "python",
   "pygments_lexer": "ipython3",
   "version": "3.9.12"
  },
  "orig_nbformat": 4,
  "vscode": {
   "interpreter": {
    "hash": "6260509064eb67b36916815bc82da85b0a66bf2dbc63b7ed396e364365f7498b"
   }
  }
 },
 "nbformat": 4,
 "nbformat_minor": 2
}

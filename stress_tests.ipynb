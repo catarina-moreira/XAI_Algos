{
 "cells": [
  {
   "cell_type": "markdown",
   "metadata": {},
   "source": [
    "# Stress Testing Common XAI Algos in the Literature"
   ]
  },
  {
   "cell_type": "code",
   "execution_count": 1,
   "metadata": {},
   "outputs": [
    {
     "name": "stderr",
     "output_type": "stream",
     "text": [
      "C:\\Users\\cmore\\AppData\\Local\\Temp\\ipykernel_31188\\1095695072.py:12: DeprecationWarning: Importing display from IPython.core.display is deprecated since IPython 7.14, please import from IPython display\n",
      "  from IPython.core.display import display, HTML\n"
     ]
    }
   ],
   "source": [
    "import pandas as pd\n",
    "import numpy as np\n",
    "import lime\n",
    "import os\n",
    "import numpy as np\n",
    "\n",
    "from Classifiers import Classifier\n",
    "\n",
    "import matplotlib.pyplot as plt\n",
    "import seaborn as sns\n",
    "\n",
    "from IPython.core.display import display, HTML\n",
    "\n",
    "import warnings\n",
    "warnings.filterwarnings(\"ignore\", category=DeprecationWarning)\n",
    "%matplotlib inline\n",
    "\n",
    "import pyAgrum as gum\n",
    "import pyAgrum.lib.notebook as gnb\n",
    "\n",
    "from pyAgrum.lib.bn2roc import showROC, showPR, showROC_PR\n",
    "\n",
    "SMALL_SIZE = 10\n",
    "MEDIUM_SIZE = 12\n",
    "plt.rc('font', size=SMALL_SIZE)\n",
    "plt.rc('axes', titlesize=MEDIUM_SIZE)\n",
    "plt.rc('axes', labelsize=MEDIUM_SIZE)\n",
    "plt.rcParams['figure.dpi']=150\n",
    "\n",
    "sns.set()"
   ]
  },
  {
   "cell_type": "markdown",
   "metadata": {},
   "source": [
    "## Case #1: Data Generated from a Common Cause Structure with Independent Vars\n",
    "\n",
    "The purpose of this test is to understand how current algorithms of the literature such as LIME and SHAP can represent feature in important in situations where data is generated from a common cause structure. We also added an independent variable to understand if this variable will be considered as relevant to the algorithm. We will train an XGboost classifier with data generated from the model below and run XAI algortihms to understand the computed feature importance.\n",
    "\n",
    "<img src=\"https://raw.githubusercontent.com/catarina-moreira/XAI_Algos/0de91f13187c7a136676e049804c6b6e4de3ff44/networks/common_cause.png\" />"
   ]
  },
  {
   "cell_type": "code",
   "execution_count": 2,
   "metadata": {},
   "outputs": [
    {
     "data": {
      "text/html": [
       "<div>\n",
       "<style scoped>\n",
       "    .dataframe tbody tr th:only-of-type {\n",
       "        vertical-align: middle;\n",
       "    }\n",
       "\n",
       "    .dataframe tbody tr th {\n",
       "        vertical-align: top;\n",
       "    }\n",
       "\n",
       "    .dataframe thead th {\n",
       "        text-align: right;\n",
       "    }\n",
       "</style>\n",
       "<table border=\"1\" class=\"dataframe\">\n",
       "  <thead>\n",
       "    <tr style=\"text-align: right;\">\n",
       "      <th></th>\n",
       "      <th>X1</th>\n",
       "      <th>X2</th>\n",
       "      <th>X3</th>\n",
       "      <th>Y</th>\n",
       "    </tr>\n",
       "  </thead>\n",
       "  <tbody>\n",
       "    <tr>\n",
       "      <th>0</th>\n",
       "      <td>0.162166</td>\n",
       "      <td>0</td>\n",
       "      <td>0.341992</td>\n",
       "      <td>0</td>\n",
       "    </tr>\n",
       "    <tr>\n",
       "      <th>1</th>\n",
       "      <td>0.724821</td>\n",
       "      <td>1</td>\n",
       "      <td>0.666446</td>\n",
       "      <td>0</td>\n",
       "    </tr>\n",
       "    <tr>\n",
       "      <th>2</th>\n",
       "      <td>0.784591</td>\n",
       "      <td>1</td>\n",
       "      <td>0.956853</td>\n",
       "      <td>1</td>\n",
       "    </tr>\n",
       "    <tr>\n",
       "      <th>3</th>\n",
       "      <td>0.216756</td>\n",
       "      <td>0</td>\n",
       "      <td>0.625276</td>\n",
       "      <td>0</td>\n",
       "    </tr>\n",
       "    <tr>\n",
       "      <th>4</th>\n",
       "      <td>0.828123</td>\n",
       "      <td>0</td>\n",
       "      <td>0.300219</td>\n",
       "      <td>1</td>\n",
       "    </tr>\n",
       "  </tbody>\n",
       "</table>\n",
       "</div>"
      ],
      "text/plain": [
       "         X1  X2        X3  Y\n",
       "0  0.162166   0  0.341992  0\n",
       "1  0.724821   1  0.666446  0\n",
       "2  0.784591   1  0.956853  1\n",
       "3  0.216756   0  0.625276  0\n",
       "4  0.828123   0  0.300219  1"
      ]
     },
     "execution_count": 2,
     "metadata": {},
     "output_type": "execute_result"
    }
   ],
   "source": [
    "# load the common cause data\n",
    "data_common_cause = pd.read_csv(os.path.join(\"gen_data\", \"common_cause_v2.dat\"))\n",
    "data_common_cause.head()"
   ]
  },
  {
   "cell_type": "code",
   "execution_count": null,
   "metadata": {},
   "outputs": [
    {
     "name": "stdout",
     "output_type": "stream",
     "text": [
      "[0]\tvalidation_0-mlogloss:0.68324\tvalidation_1-mlogloss:0.68325\n",
      "[1]\tvalidation_0-mlogloss:0.67351\tvalidation_1-mlogloss:0.67355\n",
      "[2]\tvalidation_0-mlogloss:0.66398\tvalidation_1-mlogloss:0.66404\n",
      "[3]\tvalidation_0-mlogloss:0.65464\tvalidation_1-mlogloss:0.65472\n",
      "[4]\tvalidation_0-mlogloss:0.64547\tvalidation_1-mlogloss:0.64557\n",
      "[5]\tvalidation_0-mlogloss:0.63648\tvalidation_1-mlogloss:0.63657\n",
      "[6]\tvalidation_0-mlogloss:0.62766\tvalidation_1-mlogloss:0.62777\n",
      "[7]\tvalidation_0-mlogloss:0.61900\tvalidation_1-mlogloss:0.61910\n",
      "[8]\tvalidation_0-mlogloss:0.61051\tvalidation_1-mlogloss:0.61062\n",
      "[9]\tvalidation_0-mlogloss:0.60216\tvalidation_1-mlogloss:0.60227\n",
      "[10]\tvalidation_0-mlogloss:0.59397\tvalidation_1-mlogloss:0.59408\n",
      "[11]\tvalidation_0-mlogloss:0.58592\tvalidation_1-mlogloss:0.58603\n",
      "[12]\tvalidation_0-mlogloss:0.57802\tvalidation_1-mlogloss:0.57812\n",
      "[13]\tvalidation_0-mlogloss:0.57027\tvalidation_1-mlogloss:0.57036\n",
      "[14]\tvalidation_0-mlogloss:0.56264\tvalidation_1-mlogloss:0.56273\n",
      "[15]\tvalidation_0-mlogloss:0.55515\tvalidation_1-mlogloss:0.55526\n",
      "[16]\tvalidation_0-mlogloss:0.54779\tvalidation_1-mlogloss:0.54789\n",
      "[17]\tvalidation_0-mlogloss:0.54056\tvalidation_1-mlogloss:0.54066\n",
      "[18]\tvalidation_0-mlogloss:0.53345\tvalidation_1-mlogloss:0.53354\n",
      "[19]\tvalidation_0-mlogloss:0.52645\tvalidation_1-mlogloss:0.52655\n",
      "[20]\tvalidation_0-mlogloss:0.51959\tvalidation_1-mlogloss:0.51969\n",
      "[21]\tvalidation_0-mlogloss:0.51283\tvalidation_1-mlogloss:0.51293\n",
      "[22]\tvalidation_0-mlogloss:0.50618\tvalidation_1-mlogloss:0.50631\n",
      "[23]\tvalidation_0-mlogloss:0.49965\tvalidation_1-mlogloss:0.49977\n",
      "[24]\tvalidation_0-mlogloss:0.49323\tvalidation_1-mlogloss:0.49334\n",
      "[25]\tvalidation_0-mlogloss:0.48691\tvalidation_1-mlogloss:0.48701\n",
      "[26]\tvalidation_0-mlogloss:0.48069\tvalidation_1-mlogloss:0.48081\n",
      "[27]\tvalidation_0-mlogloss:0.47456\tvalidation_1-mlogloss:0.47468\n",
      "[28]\tvalidation_0-mlogloss:0.46854\tvalidation_1-mlogloss:0.46866\n",
      "[29]\tvalidation_0-mlogloss:0.46262\tvalidation_1-mlogloss:0.46273\n",
      "[30]\tvalidation_0-mlogloss:0.45678\tvalidation_1-mlogloss:0.45691\n",
      "[31]\tvalidation_0-mlogloss:0.45104\tvalidation_1-mlogloss:0.45116\n",
      "[32]\tvalidation_0-mlogloss:0.44539\tvalidation_1-mlogloss:0.44551\n",
      "[33]\tvalidation_0-mlogloss:0.43983\tvalidation_1-mlogloss:0.43994\n",
      "[34]\tvalidation_0-mlogloss:0.43435\tvalidation_1-mlogloss:0.43446\n",
      "[35]\tvalidation_0-mlogloss:0.42896\tvalidation_1-mlogloss:0.42906\n",
      "[36]\tvalidation_0-mlogloss:0.42365\tvalidation_1-mlogloss:0.42377\n",
      "[37]\tvalidation_0-mlogloss:0.41842\tvalidation_1-mlogloss:0.41853\n",
      "[38]\tvalidation_0-mlogloss:0.41327\tvalidation_1-mlogloss:0.41339\n",
      "[39]\tvalidation_0-mlogloss:0.40820\tvalidation_1-mlogloss:0.40833\n",
      "[40]\tvalidation_0-mlogloss:0.40320\tvalidation_1-mlogloss:0.40333\n",
      "[41]\tvalidation_0-mlogloss:0.39827\tvalidation_1-mlogloss:0.39840\n",
      "[42]\tvalidation_0-mlogloss:0.39342\tvalidation_1-mlogloss:0.39355\n",
      "[43]\tvalidation_0-mlogloss:0.38865\tvalidation_1-mlogloss:0.38878\n",
      "[44]\tvalidation_0-mlogloss:0.38394\tvalidation_1-mlogloss:0.38407\n",
      "[45]\tvalidation_0-mlogloss:0.37930\tvalidation_1-mlogloss:0.37943\n",
      "[46]\tvalidation_0-mlogloss:0.37473\tvalidation_1-mlogloss:0.37487\n",
      "[47]\tvalidation_0-mlogloss:0.37022\tvalidation_1-mlogloss:0.37036\n",
      "[48]\tvalidation_0-mlogloss:0.36578\tvalidation_1-mlogloss:0.36591\n",
      "[49]\tvalidation_0-mlogloss:0.36140\tvalidation_1-mlogloss:0.36153\n",
      "[50]\tvalidation_0-mlogloss:0.35708\tvalidation_1-mlogloss:0.35721\n",
      "[51]\tvalidation_0-mlogloss:0.35283\tvalidation_1-mlogloss:0.35296\n",
      "[52]\tvalidation_0-mlogloss:0.34864\tvalidation_1-mlogloss:0.34877\n",
      "[53]\tvalidation_0-mlogloss:0.34450\tvalidation_1-mlogloss:0.34465\n",
      "[54]\tvalidation_0-mlogloss:0.34043\tvalidation_1-mlogloss:0.34058\n",
      "[55]\tvalidation_0-mlogloss:0.33641\tvalidation_1-mlogloss:0.33657\n",
      "[56]\tvalidation_0-mlogloss:0.33245\tvalidation_1-mlogloss:0.33261\n",
      "[57]\tvalidation_0-mlogloss:0.32853\tvalidation_1-mlogloss:0.32870\n",
      "[58]\tvalidation_0-mlogloss:0.32468\tvalidation_1-mlogloss:0.32485\n",
      "[59]\tvalidation_0-mlogloss:0.32088\tvalidation_1-mlogloss:0.32105\n",
      "[60]\tvalidation_0-mlogloss:0.31713\tvalidation_1-mlogloss:0.31731\n",
      "[61]\tvalidation_0-mlogloss:0.31343\tvalidation_1-mlogloss:0.31360\n",
      "[62]\tvalidation_0-mlogloss:0.30978\tvalidation_1-mlogloss:0.30995\n",
      "[63]\tvalidation_0-mlogloss:0.30618\tvalidation_1-mlogloss:0.30635\n",
      "[64]\tvalidation_0-mlogloss:0.30263\tvalidation_1-mlogloss:0.30280\n",
      "[65]\tvalidation_0-mlogloss:0.29913\tvalidation_1-mlogloss:0.29929\n",
      "[66]\tvalidation_0-mlogloss:0.29567\tvalidation_1-mlogloss:0.29583\n",
      "[67]\tvalidation_0-mlogloss:0.29226\tvalidation_1-mlogloss:0.29242\n",
      "[68]\tvalidation_0-mlogloss:0.28890\tvalidation_1-mlogloss:0.28906\n",
      "[69]\tvalidation_0-mlogloss:0.28558\tvalidation_1-mlogloss:0.28575\n",
      "[70]\tvalidation_0-mlogloss:0.28231\tvalidation_1-mlogloss:0.28248\n",
      "[71]\tvalidation_0-mlogloss:0.27908\tvalidation_1-mlogloss:0.27924\n",
      "[72]\tvalidation_0-mlogloss:0.27589\tvalidation_1-mlogloss:0.27605\n",
      "[73]\tvalidation_0-mlogloss:0.27274\tvalidation_1-mlogloss:0.27290\n",
      "[74]\tvalidation_0-mlogloss:0.26963\tvalidation_1-mlogloss:0.26979\n",
      "[75]\tvalidation_0-mlogloss:0.26657\tvalidation_1-mlogloss:0.26672\n",
      "[76]\tvalidation_0-mlogloss:0.26354\tvalidation_1-mlogloss:0.26371\n",
      "[77]\tvalidation_0-mlogloss:0.26056\tvalidation_1-mlogloss:0.26073\n",
      "[78]\tvalidation_0-mlogloss:0.25761\tvalidation_1-mlogloss:0.25779\n",
      "[79]\tvalidation_0-mlogloss:0.25470\tvalidation_1-mlogloss:0.25488\n",
      "[80]\tvalidation_0-mlogloss:0.25183\tvalidation_1-mlogloss:0.25201\n",
      "[81]\tvalidation_0-mlogloss:0.24899\tvalidation_1-mlogloss:0.24917\n",
      "[82]\tvalidation_0-mlogloss:0.24619\tvalidation_1-mlogloss:0.24637\n",
      "[83]\tvalidation_0-mlogloss:0.24343\tvalidation_1-mlogloss:0.24360\n",
      "[84]\tvalidation_0-mlogloss:0.24070\tvalidation_1-mlogloss:0.24087\n",
      "[85]\tvalidation_0-mlogloss:0.23800\tvalidation_1-mlogloss:0.23817\n",
      "[86]\tvalidation_0-mlogloss:0.23534\tvalidation_1-mlogloss:0.23550\n",
      "[87]\tvalidation_0-mlogloss:0.23271\tvalidation_1-mlogloss:0.23287\n",
      "[88]\tvalidation_0-mlogloss:0.23012\tvalidation_1-mlogloss:0.23028\n",
      "[89]\tvalidation_0-mlogloss:0.22756\tvalidation_1-mlogloss:0.22771\n",
      "[90]\tvalidation_0-mlogloss:0.22503\tvalidation_1-mlogloss:0.22518\n",
      "[91]\tvalidation_0-mlogloss:0.22253\tvalidation_1-mlogloss:0.22269\n",
      "[92]\tvalidation_0-mlogloss:0.22006\tvalidation_1-mlogloss:0.22023\n",
      "[93]\tvalidation_0-mlogloss:0.21763\tvalidation_1-mlogloss:0.21779\n",
      "[94]\tvalidation_0-mlogloss:0.21522\tvalidation_1-mlogloss:0.21538\n",
      "[95]\tvalidation_0-mlogloss:0.21285\tvalidation_1-mlogloss:0.21300\n",
      "[96]\tvalidation_0-mlogloss:0.21050\tvalidation_1-mlogloss:0.21065\n",
      "[97]\tvalidation_0-mlogloss:0.20818\tvalidation_1-mlogloss:0.20833\n",
      "[98]\tvalidation_0-mlogloss:0.20589\tvalidation_1-mlogloss:0.20604\n",
      "[99]\tvalidation_0-mlogloss:0.20363\tvalidation_1-mlogloss:0.20378\n",
      "[100]\tvalidation_0-mlogloss:0.20139\tvalidation_1-mlogloss:0.20154\n",
      "[101]\tvalidation_0-mlogloss:0.19918\tvalidation_1-mlogloss:0.19933\n",
      "[102]\tvalidation_0-mlogloss:0.19700\tvalidation_1-mlogloss:0.19715\n",
      "[103]\tvalidation_0-mlogloss:0.19484\tvalidation_1-mlogloss:0.19499\n",
      "[104]\tvalidation_0-mlogloss:0.19271\tvalidation_1-mlogloss:0.19286\n",
      "[105]\tvalidation_0-mlogloss:0.19061\tvalidation_1-mlogloss:0.19076\n",
      "[106]\tvalidation_0-mlogloss:0.18853\tvalidation_1-mlogloss:0.18867\n",
      "[107]\tvalidation_0-mlogloss:0.18648\tvalidation_1-mlogloss:0.18662\n",
      "[108]\tvalidation_0-mlogloss:0.18445\tvalidation_1-mlogloss:0.18459\n",
      "[109]\tvalidation_0-mlogloss:0.18244\tvalidation_1-mlogloss:0.18258\n",
      "[110]\tvalidation_0-mlogloss:0.18046\tvalidation_1-mlogloss:0.18060\n",
      "[111]\tvalidation_0-mlogloss:0.17851\tvalidation_1-mlogloss:0.17865\n",
      "[112]\tvalidation_0-mlogloss:0.17658\tvalidation_1-mlogloss:0.17671\n",
      "[113]\tvalidation_0-mlogloss:0.17466\tvalidation_1-mlogloss:0.17480\n",
      "[114]\tvalidation_0-mlogloss:0.17278\tvalidation_1-mlogloss:0.17291\n",
      "[115]\tvalidation_0-mlogloss:0.17091\tvalidation_1-mlogloss:0.17105\n",
      "[116]\tvalidation_0-mlogloss:0.16907\tvalidation_1-mlogloss:0.16921\n",
      "[117]\tvalidation_0-mlogloss:0.16725\tvalidation_1-mlogloss:0.16739\n",
      "[118]\tvalidation_0-mlogloss:0.16545\tvalidation_1-mlogloss:0.16560\n",
      "[119]\tvalidation_0-mlogloss:0.16367\tvalidation_1-mlogloss:0.16382\n",
      "[120]\tvalidation_0-mlogloss:0.16191\tvalidation_1-mlogloss:0.16206\n",
      "[121]\tvalidation_0-mlogloss:0.16018\tvalidation_1-mlogloss:0.16033\n",
      "[122]\tvalidation_0-mlogloss:0.15846\tvalidation_1-mlogloss:0.15862\n",
      "[123]\tvalidation_0-mlogloss:0.15676\tvalidation_1-mlogloss:0.15692\n",
      "[124]\tvalidation_0-mlogloss:0.15509\tvalidation_1-mlogloss:0.15525\n",
      "[125]\tvalidation_0-mlogloss:0.15343\tvalidation_1-mlogloss:0.15359\n",
      "[126]\tvalidation_0-mlogloss:0.15179\tvalidation_1-mlogloss:0.15195\n",
      "[127]\tvalidation_0-mlogloss:0.15017\tvalidation_1-mlogloss:0.15032\n",
      "[128]\tvalidation_0-mlogloss:0.14857\tvalidation_1-mlogloss:0.14872\n",
      "[129]\tvalidation_0-mlogloss:0.14698\tvalidation_1-mlogloss:0.14714\n",
      "[130]\tvalidation_0-mlogloss:0.14542\tvalidation_1-mlogloss:0.14557\n",
      "[131]\tvalidation_0-mlogloss:0.14387\tvalidation_1-mlogloss:0.14402\n",
      "[132]\tvalidation_0-mlogloss:0.14234\tvalidation_1-mlogloss:0.14249\n",
      "[133]\tvalidation_0-mlogloss:0.14083\tvalidation_1-mlogloss:0.14099\n",
      "[134]\tvalidation_0-mlogloss:0.13934\tvalidation_1-mlogloss:0.13949\n",
      "[135]\tvalidation_0-mlogloss:0.13786\tvalidation_1-mlogloss:0.13802\n",
      "[136]\tvalidation_0-mlogloss:0.13640\tvalidation_1-mlogloss:0.13656\n",
      "[137]\tvalidation_0-mlogloss:0.13496\tvalidation_1-mlogloss:0.13512\n",
      "[138]\tvalidation_0-mlogloss:0.13353\tvalidation_1-mlogloss:0.13369\n",
      "[139]\tvalidation_0-mlogloss:0.13212\tvalidation_1-mlogloss:0.13228\n",
      "[140]\tvalidation_0-mlogloss:0.13072\tvalidation_1-mlogloss:0.13088\n",
      "[141]\tvalidation_0-mlogloss:0.12934\tvalidation_1-mlogloss:0.12951\n",
      "[142]\tvalidation_0-mlogloss:0.12798\tvalidation_1-mlogloss:0.12815\n",
      "[143]\tvalidation_0-mlogloss:0.12663\tvalidation_1-mlogloss:0.12680\n",
      "[144]\tvalidation_0-mlogloss:0.12530\tvalidation_1-mlogloss:0.12548\n",
      "[145]\tvalidation_0-mlogloss:0.12398\tvalidation_1-mlogloss:0.12416\n",
      "[146]\tvalidation_0-mlogloss:0.12268\tvalidation_1-mlogloss:0.12285\n",
      "[147]\tvalidation_0-mlogloss:0.12139\tvalidation_1-mlogloss:0.12156\n",
      "[148]\tvalidation_0-mlogloss:0.12011\tvalidation_1-mlogloss:0.12028\n",
      "[149]\tvalidation_0-mlogloss:0.11885\tvalidation_1-mlogloss:0.11902\n",
      "[150]\tvalidation_0-mlogloss:0.11761\tvalidation_1-mlogloss:0.11777\n",
      "[151]\tvalidation_0-mlogloss:0.11637\tvalidation_1-mlogloss:0.11654\n",
      "[152]\tvalidation_0-mlogloss:0.11515\tvalidation_1-mlogloss:0.11532\n",
      "[153]\tvalidation_0-mlogloss:0.11395\tvalidation_1-mlogloss:0.11411\n",
      "[154]\tvalidation_0-mlogloss:0.11276\tvalidation_1-mlogloss:0.11292\n",
      "[155]\tvalidation_0-mlogloss:0.11158\tvalidation_1-mlogloss:0.11174\n",
      "[156]\tvalidation_0-mlogloss:0.11042\tvalidation_1-mlogloss:0.11058\n",
      "[157]\tvalidation_0-mlogloss:0.10926\tvalidation_1-mlogloss:0.10942\n",
      "[158]\tvalidation_0-mlogloss:0.10813\tvalidation_1-mlogloss:0.10828\n",
      "[159]\tvalidation_0-mlogloss:0.10700\tvalidation_1-mlogloss:0.10715\n",
      "[160]\tvalidation_0-mlogloss:0.10589\tvalidation_1-mlogloss:0.10604\n",
      "[161]\tvalidation_0-mlogloss:0.10478\tvalidation_1-mlogloss:0.10494\n",
      "[162]\tvalidation_0-mlogloss:0.10369\tvalidation_1-mlogloss:0.10385\n",
      "[163]\tvalidation_0-mlogloss:0.10262\tvalidation_1-mlogloss:0.10277\n",
      "[164]\tvalidation_0-mlogloss:0.10155\tvalidation_1-mlogloss:0.10171\n",
      "[165]\tvalidation_0-mlogloss:0.10050\tvalidation_1-mlogloss:0.10065\n",
      "[166]\tvalidation_0-mlogloss:0.09946\tvalidation_1-mlogloss:0.09961\n",
      "[167]\tvalidation_0-mlogloss:0.09842\tvalidation_1-mlogloss:0.09858\n",
      "[168]\tvalidation_0-mlogloss:0.09740\tvalidation_1-mlogloss:0.09756\n",
      "[169]\tvalidation_0-mlogloss:0.09640\tvalidation_1-mlogloss:0.09655\n",
      "[170]\tvalidation_0-mlogloss:0.09540\tvalidation_1-mlogloss:0.09556\n",
      "[171]\tvalidation_0-mlogloss:0.09441\tvalidation_1-mlogloss:0.09458\n",
      "[172]\tvalidation_0-mlogloss:0.09344\tvalidation_1-mlogloss:0.09360\n",
      "[173]\tvalidation_0-mlogloss:0.09247\tvalidation_1-mlogloss:0.09264\n",
      "[174]\tvalidation_0-mlogloss:0.09152\tvalidation_1-mlogloss:0.09169\n",
      "[175]\tvalidation_0-mlogloss:0.09057\tvalidation_1-mlogloss:0.09075\n",
      "[176]\tvalidation_0-mlogloss:0.08964\tvalidation_1-mlogloss:0.08982\n",
      "[177]\tvalidation_0-mlogloss:0.08871\tvalidation_1-mlogloss:0.08889\n",
      "[178]\tvalidation_0-mlogloss:0.08780\tvalidation_1-mlogloss:0.08798\n",
      "[179]\tvalidation_0-mlogloss:0.08690\tvalidation_1-mlogloss:0.08708\n",
      "[180]\tvalidation_0-mlogloss:0.08600\tvalidation_1-mlogloss:0.08618\n",
      "[181]\tvalidation_0-mlogloss:0.08512\tvalidation_1-mlogloss:0.08530\n",
      "[182]\tvalidation_0-mlogloss:0.08424\tvalidation_1-mlogloss:0.08443\n",
      "[183]\tvalidation_0-mlogloss:0.08338\tvalidation_1-mlogloss:0.08356\n",
      "[184]\tvalidation_0-mlogloss:0.08252\tvalidation_1-mlogloss:0.08271\n",
      "[185]\tvalidation_0-mlogloss:0.08168\tvalidation_1-mlogloss:0.08186\n",
      "[186]\tvalidation_0-mlogloss:0.08084\tvalidation_1-mlogloss:0.08103\n",
      "[187]\tvalidation_0-mlogloss:0.08001\tvalidation_1-mlogloss:0.08019\n",
      "[188]\tvalidation_0-mlogloss:0.07919\tvalidation_1-mlogloss:0.07937\n",
      "[189]\tvalidation_0-mlogloss:0.07838\tvalidation_1-mlogloss:0.07856\n",
      "[190]\tvalidation_0-mlogloss:0.07757\tvalidation_1-mlogloss:0.07775\n",
      "[191]\tvalidation_0-mlogloss:0.07678\tvalidation_1-mlogloss:0.07696\n",
      "[192]\tvalidation_0-mlogloss:0.07600\tvalidation_1-mlogloss:0.07618\n",
      "[193]\tvalidation_0-mlogloss:0.07522\tvalidation_1-mlogloss:0.07540\n",
      "[194]\tvalidation_0-mlogloss:0.07445\tvalidation_1-mlogloss:0.07463\n",
      "[195]\tvalidation_0-mlogloss:0.07369\tvalidation_1-mlogloss:0.07387\n",
      "[196]\tvalidation_0-mlogloss:0.07294\tvalidation_1-mlogloss:0.07311\n",
      "[197]\tvalidation_0-mlogloss:0.07219\tvalidation_1-mlogloss:0.07237\n",
      "[198]\tvalidation_0-mlogloss:0.07146\tvalidation_1-mlogloss:0.07163\n",
      "[199]\tvalidation_0-mlogloss:0.07073\tvalidation_1-mlogloss:0.07090\n",
      "Overall Performace: \n",
      "\tClassifier: XGBoost\n",
      "\tAccuracy: 1.0\n",
      "\tPrecision: 1.0\n",
      "\tRecall: 1.0\n",
      "\tF1 Score: 1.0\n"
     ]
    }
   ],
   "source": [
    "clf = Classifier(\"XGBoost\", \"common_cause_v2\", data_common_cause, \"Y\")\n",
    "xgb = clf.applyClassifer()\n"
   ]
  },
  {
   "cell_type": "code",
   "execution_count": null,
   "metadata": {},
   "outputs": [],
   "source": [
    "clf_bn = Classifier(\"Bayesian Network\", \"common_cause_v2\", data_common_cause, \"Y\")\n",
    "bnc = clf_bn.applyClassifer(learningMethod=\"Tabu\")\n"
   ]
  },
  {
   "cell_type": "code",
   "execution_count": 2,
   "metadata": {},
   "outputs": [
    {
     "ename": "NameError",
     "evalue": "name 'gnb' is not defined",
     "output_type": "error",
     "traceback": [
      "\u001b[1;31m---------------------------------------------------------------------------\u001b[0m",
      "\u001b[1;31mNameError\u001b[0m                                 Traceback (most recent call last)",
      "\u001b[1;32mc:\\Users\\cmore\\GitHub\\XAI_Algos\\stress_tests.ipynb Cell 7'\u001b[0m in \u001b[0;36m<cell line: 1>\u001b[1;34m()\u001b[0m\n\u001b[1;32m----> <a href='vscode-notebook-cell:/c%3A/Users/cmore/GitHub/XAI_Algos/stress_tests.ipynb#ch0000007?line=0'>1</a>\u001b[0m gnb\u001b[39m.\u001b[39mshowBN(bnc\u001b[39m.\u001b[39mbn)\n",
      "\u001b[1;31mNameError\u001b[0m: name 'gnb' is not defined"
     ]
    }
   ],
   "source": [
    "gnb.showBN(bnc.bn)"
   ]
  },
  {
   "cell_type": "code",
   "execution_count": 3,
   "metadata": {},
   "outputs": [
    {
     "ename": "NameError",
     "evalue": "name 'gnb' is not defined",
     "output_type": "error",
     "traceback": [
      "\u001b[1;31m---------------------------------------------------------------------------\u001b[0m",
      "\u001b[1;31mNameError\u001b[0m                                 Traceback (most recent call last)",
      "\u001b[1;32mc:\\Users\\cmore\\GitHub\\XAI_Algos\\stress_tests.ipynb Cell 11'\u001b[0m in \u001b[0;36m<cell line: 1>\u001b[1;34m()\u001b[0m\n\u001b[1;32m----> <a href='vscode-notebook-cell:/c%3A/Users/cmore/GitHub/XAI_Algos/stress_tests.ipynb#ch0000027?line=0'>1</a>\u001b[0m gnb\u001b[39m.\u001b[39mshowInference(bnc\u001b[39m.\u001b[39mbn)\n",
      "\u001b[1;31mNameError\u001b[0m: name 'gnb' is not defined"
     ]
    }
   ],
   "source": [
    "gnb.showInference(bnc.bn)"
   ]
  },
  {
   "cell_type": "code",
   "execution_count": null,
   "metadata": {},
   "outputs": [],
   "source": [
    "# for NN\n",
    "X_train, X_test, y_train, y_test = train_test_split(X.values, Y.values, test_size=0.3, random_state=515)\n",
    "X_test, X_val, y_test, y_val = train_test_split(X_test, y_test, test_size=0.5, random_state=515)"
   ]
  },
  {
   "cell_type": "code",
   "execution_count": 6,
   "metadata": {},
   "outputs": [
    {
     "ename": "TypeError",
     "evalue": "applyNN() missing 5 required positional arguments: 'save_model', 'act_fn', 'batch_size', 'epochs', and 'learning_rate'",
     "output_type": "error",
     "traceback": [
      "\u001b[1;31m---------------------------------------------------------------------------\u001b[0m",
      "\u001b[1;31mTypeError\u001b[0m                                 Traceback (most recent call last)",
      "\u001b[1;32mc:\\Users\\cmore\\GitHub\\XAI_Algos\\stress_tests.ipynb Cell 10'\u001b[0m in \u001b[0;36m<cell line: 1>\u001b[1;34m()\u001b[0m\n\u001b[1;32m----> <a href='vscode-notebook-cell:/c%3A/Users/cmore/GitHub/XAI_Algos/stress_tests.ipynb#ch0000029?line=0'>1</a>\u001b[0m clf_nn\u001b[39m.\u001b[39;49mapplyNN()\n",
      "\u001b[1;31mTypeError\u001b[0m: applyNN() missing 5 required positional arguments: 'save_model', 'act_fn', 'batch_size', 'epochs', and 'learning_rate'"
     ]
    }
   ],
   "source": [
    "clf_nn.applyNN('save_model', 'act_fn', 'batch_size', 'epochs, learning_rate)"
   ]
  },
  {
   "cell_type": "code",
   "execution_count": 3,
   "metadata": {},
   "outputs": [
    {
     "name": "stdout",
     "output_type": "stream",
     "text": [
      "Epoch 1/50\n",
      "110/110 [==============================] - 4s 9ms/step - loss: 0.3625 - accuracy: 0.8471 - val_loss: 0.1041 - val_accuracy: 0.9880\n",
      "Epoch 2/50\n",
      "110/110 [==============================] - 1s 7ms/step - loss: 0.0748 - accuracy: 0.9771 - val_loss: 0.0410 - val_accuracy: 0.9947\n",
      "Epoch 3/50\n",
      "110/110 [==============================] - 1s 8ms/step - loss: 0.0519 - accuracy: 0.9817 - val_loss: 0.0683 - val_accuracy: 0.9720\n",
      "Epoch 4/50\n",
      "110/110 [==============================] - 1s 9ms/step - loss: 0.0786 - accuracy: 0.9674 - val_loss: 0.0527 - val_accuracy: 0.9773\n",
      "Epoch 5/50\n",
      "110/110 [==============================] - 1s 6ms/step - loss: 0.0361 - accuracy: 0.9860 - val_loss: 0.1378 - val_accuracy: 0.9360\n",
      "Epoch 6/50\n",
      "110/110 [==============================] - 1s 6ms/step - loss: 0.0548 - accuracy: 0.9794 - val_loss: 0.0248 - val_accuracy: 0.9933\n",
      "Epoch 7/50\n",
      "110/110 [==============================] - 1s 6ms/step - loss: 0.0343 - accuracy: 0.9860 - val_loss: 0.0136 - val_accuracy: 1.0000\n",
      "Epoch 8/50\n",
      "110/110 [==============================] - 1s 7ms/step - loss: 0.0491 - accuracy: 0.9786 - val_loss: 0.0341 - val_accuracy: 0.9827\n",
      "Epoch 9/50\n",
      "110/110 [==============================] - 1s 9ms/step - loss: 0.0251 - accuracy: 0.9909 - val_loss: 0.0391 - val_accuracy: 0.9840\n",
      "Epoch 10/50\n",
      "110/110 [==============================] - 1s 7ms/step - loss: 0.0427 - accuracy: 0.9843 - val_loss: 0.0703 - val_accuracy: 0.9707\n",
      "Epoch 11/50\n",
      "110/110 [==============================] - 1s 9ms/step - loss: 0.0544 - accuracy: 0.9763 - val_loss: 0.0171 - val_accuracy: 1.0000\n",
      "Epoch 12/50\n",
      "110/110 [==============================] - 1s 11ms/step - loss: 0.0283 - accuracy: 0.9897 - val_loss: 0.0289 - val_accuracy: 0.9880\n",
      "Epoch 13/50\n",
      "110/110 [==============================] - 1s 8ms/step - loss: 0.0601 - accuracy: 0.9811 - val_loss: 0.2444 - val_accuracy: 0.9280\n",
      "Epoch 14/50\n",
      "110/110 [==============================] - 1s 7ms/step - loss: 0.0420 - accuracy: 0.9834 - val_loss: 0.0247 - val_accuracy: 0.9907\n",
      "Epoch 15/50\n",
      "110/110 [==============================] - 1s 6ms/step - loss: 0.0458 - accuracy: 0.9791 - val_loss: 0.0155 - val_accuracy: 0.9973\n",
      "Epoch 16/50\n",
      "110/110 [==============================] - 1s 5ms/step - loss: 0.0437 - accuracy: 0.9820 - val_loss: 0.0137 - val_accuracy: 1.0000\n",
      "Epoch 17/50\n",
      "110/110 [==============================] - 1s 5ms/step - loss: 0.0293 - accuracy: 0.9871 - val_loss: 0.0279 - val_accuracy: 0.9880\n",
      "Epoch 18/50\n",
      "110/110 [==============================] - 1s 6ms/step - loss: 0.0359 - accuracy: 0.9837 - val_loss: 0.0148 - val_accuracy: 0.9973\n",
      "Epoch 19/50\n",
      "110/110 [==============================] - 1s 6ms/step - loss: 0.0273 - accuracy: 0.9889 - val_loss: 0.0138 - val_accuracy: 0.9973\n",
      "Epoch 20/50\n",
      "110/110 [==============================] - 1s 5ms/step - loss: 0.0429 - accuracy: 0.9829 - val_loss: 0.0123 - val_accuracy: 0.9987\n",
      "Epoch 21/50\n",
      "110/110 [==============================] - 1s 5ms/step - loss: 0.0302 - accuracy: 0.9889 - val_loss: 0.0162 - val_accuracy: 0.9947\n",
      "Epoch 22/50\n",
      "110/110 [==============================] - 1s 5ms/step - loss: 0.0311 - accuracy: 0.9860 - val_loss: 0.0100 - val_accuracy: 0.9973\n",
      "Epoch 23/50\n",
      "110/110 [==============================] - 1s 6ms/step - loss: 0.0284 - accuracy: 0.9877 - val_loss: 0.0094 - val_accuracy: 0.9973\n",
      "Epoch 24/50\n",
      "110/110 [==============================] - 1s 5ms/step - loss: 0.0256 - accuracy: 0.9897 - val_loss: 0.0259 - val_accuracy: 0.9893\n",
      "Epoch 25/50\n",
      "110/110 [==============================] - 1s 6ms/step - loss: 0.0296 - accuracy: 0.9886 - val_loss: 0.0109 - val_accuracy: 0.9947\n",
      "Epoch 26/50\n",
      "110/110 [==============================] - 1s 5ms/step - loss: 0.0216 - accuracy: 0.9909 - val_loss: 0.0785 - val_accuracy: 0.9693\n",
      "Epoch 27/50\n",
      "110/110 [==============================] - 1s 5ms/step - loss: 0.0354 - accuracy: 0.9851 - val_loss: 0.0401 - val_accuracy: 0.9773\n",
      "Epoch 28/50\n",
      "110/110 [==============================] - 1s 5ms/step - loss: 0.0585 - accuracy: 0.9797 - val_loss: 0.0164 - val_accuracy: 0.9960\n",
      "Epoch 29/50\n",
      "110/110 [==============================] - 1s 6ms/step - loss: 0.0328 - accuracy: 0.9871 - val_loss: 0.0133 - val_accuracy: 0.9973\n",
      "Epoch 30/50\n",
      "110/110 [==============================] - 1s 6ms/step - loss: 0.0340 - accuracy: 0.9877 - val_loss: 0.0360 - val_accuracy: 0.9840\n",
      "Epoch 31/50\n",
      "110/110 [==============================] - 1s 6ms/step - loss: 0.0277 - accuracy: 0.9894 - val_loss: 0.0106 - val_accuracy: 0.9960\n",
      "Epoch 32/50\n",
      "110/110 [==============================] - 1s 7ms/step - loss: 0.0195 - accuracy: 0.9926 - val_loss: 0.0242 - val_accuracy: 0.9867\n",
      "Epoch 33/50\n",
      "110/110 [==============================] - 1s 8ms/step - loss: 0.0410 - accuracy: 0.9869 - val_loss: 0.0152 - val_accuracy: 0.9947\n",
      "Epoch 34/50\n",
      "110/110 [==============================] - 1s 8ms/step - loss: 0.0371 - accuracy: 0.9843 - val_loss: 0.0099 - val_accuracy: 1.0000\n",
      "Epoch 35/50\n",
      "110/110 [==============================] - 1s 7ms/step - loss: 0.0278 - accuracy: 0.9869 - val_loss: 0.0115 - val_accuracy: 0.9947\n",
      "Epoch 36/50\n",
      "110/110 [==============================] - 1s 10ms/step - loss: 0.0205 - accuracy: 0.9917 - val_loss: 0.0090 - val_accuracy: 0.9973\n",
      "Epoch 37/50\n",
      "110/110 [==============================] - 1s 8ms/step - loss: 0.0558 - accuracy: 0.9769 - val_loss: 0.0332 - val_accuracy: 0.9893\n",
      "Epoch 38/50\n",
      "110/110 [==============================] - 1s 7ms/step - loss: 0.0256 - accuracy: 0.9900 - val_loss: 0.0203 - val_accuracy: 0.9880\n",
      "Epoch 39/50\n",
      "110/110 [==============================] - 1s 7ms/step - loss: 0.0309 - accuracy: 0.9869 - val_loss: 0.0080 - val_accuracy: 1.0000\n",
      "Epoch 40/50\n",
      "110/110 [==============================] - 1s 10ms/step - loss: 0.0457 - accuracy: 0.9849 - val_loss: 0.0156 - val_accuracy: 0.9973\n",
      "Epoch 41/50\n",
      "110/110 [==============================] - 1s 9ms/step - loss: 0.0279 - accuracy: 0.9886 - val_loss: 0.0111 - val_accuracy: 0.9973\n",
      "Epoch 42/50\n",
      "110/110 [==============================] - 1s 10ms/step - loss: 0.0175 - accuracy: 0.9931 - val_loss: 0.0154 - val_accuracy: 0.9920\n",
      "Epoch 43/50\n",
      "110/110 [==============================] - 1s 10ms/step - loss: 0.0407 - accuracy: 0.9837 - val_loss: 0.0228 - val_accuracy: 0.9933\n",
      "Epoch 44/50\n",
      "110/110 [==============================] - 1s 9ms/step - loss: 0.0591 - accuracy: 0.9729 - val_loss: 0.0339 - val_accuracy: 0.9853\n",
      "Epoch 45/50\n",
      "110/110 [==============================] - 1s 9ms/step - loss: 0.0292 - accuracy: 0.9900 - val_loss: 0.0197 - val_accuracy: 0.9920\n",
      "Epoch 46/50\n",
      "110/110 [==============================] - 1s 8ms/step - loss: 0.0235 - accuracy: 0.9920 - val_loss: 0.0064 - val_accuracy: 1.0000\n",
      "Epoch 47/50\n",
      "110/110 [==============================] - 1s 8ms/step - loss: 0.0394 - accuracy: 0.9837 - val_loss: 0.0132 - val_accuracy: 0.9987\n",
      "Epoch 48/50\n",
      "110/110 [==============================] - 1s 9ms/step - loss: 0.0207 - accuracy: 0.9917 - val_loss: 0.0099 - val_accuracy: 0.9933\n",
      "Epoch 49/50\n",
      "110/110 [==============================] - 1s 9ms/step - loss: 0.0280 - accuracy: 0.9874 - val_loss: 0.0128 - val_accuracy: 0.9973\n",
      "Epoch 50/50\n",
      "110/110 [==============================] - 1s 8ms/step - loss: 0.0239 - accuracy: 0.9886 - val_loss: 0.0354 - val_accuracy: 0.9840\n",
      "24/24 [==============================] - 0s 2ms/step\n"
     ]
    },
    {
     "ename": "TypeError",
     "evalue": "Singleton array 1 cannot be considered a valid collection.",
     "output_type": "error",
     "traceback": [
      "\u001b[1;31m---------------------------------------------------------------------------\u001b[0m",
      "\u001b[1;31mTypeError\u001b[0m                                 Traceback (most recent call last)",
      "\u001b[1;32mc:\\Users\\cmore\\GitHub\\XAI_Algos\\stress_tests.ipynb Cell 8'\u001b[0m in \u001b[0;36m<cell line: 2>\u001b[1;34m()\u001b[0m\n\u001b[0;32m      <a href='vscode-notebook-cell:/c%3A/Users/cmore/GitHub/XAI_Algos/stress_tests.ipynb#ch0000008?line=0'>1</a>\u001b[0m clf_nn \u001b[39m=\u001b[39m Classifier(\u001b[39m\"\u001b[39m\u001b[39mNeural Network\u001b[39m\u001b[39m\"\u001b[39m, \u001b[39m\"\u001b[39m\u001b[39mcommon_cause_v2\u001b[39m\u001b[39m\"\u001b[39m, data_common_cause, \u001b[39m\"\u001b[39m\u001b[39mY\u001b[39m\u001b[39m\"\u001b[39m)\n\u001b[1;32m----> <a href='vscode-notebook-cell:/c%3A/Users/cmore/GitHub/XAI_Algos/stress_tests.ipynb#ch0000008?line=1'>2</a>\u001b[0m NN \u001b[39m=\u001b[39m clf_nn\u001b[39m.\u001b[39;49mapplyClassifer()\n\u001b[0;32m      <a href='vscode-notebook-cell:/c%3A/Users/cmore/GitHub/XAI_Algos/stress_tests.ipynb#ch0000008?line=2'>3</a>\u001b[0m NN\n",
      "File \u001b[1;32mc:\\Users\\cmore\\GitHub\\XAI_Algos\\Classifiers.py:72\u001b[0m, in \u001b[0;36mClassifier.applyClassifer\u001b[1;34m(self, save_model, learning_rate, max_depth, n_estimators, min_child_weight, subsample, early_stopping, learningMethod, prior, priorWeight, discretizationNbBins, discretizationStrategy, usePR, act_fn, batch_size, epochs)\u001b[0m\n\u001b[0;32m     67\u001b[0m     clf \u001b[39m=\u001b[39m \u001b[39mself\u001b[39m\u001b[39m.\u001b[39mapplyBN(save_model\u001b[39m=\u001b[39msave_model, learningMethod\u001b[39m=\u001b[39mlearningMethod, prior\u001b[39m=\u001b[39mprior, \n\u001b[0;32m     68\u001b[0m                         priorWeight\u001b[39m=\u001b[39mpriorWeight, discretizationNbBins\u001b[39m=\u001b[39mdiscretizationNbBins, \n\u001b[0;32m     69\u001b[0m                         discretizationStrategy\u001b[39m=\u001b[39mdiscretizationStrategy,usePR\u001b[39m=\u001b[39musePR, act_fn \u001b[39m=\u001b[39m act_fn)\n\u001b[0;32m     71\u001b[0m \u001b[39mif\u001b[39;00m \u001b[39mself\u001b[39m\u001b[39m.\u001b[39mclf_name \u001b[39m==\u001b[39m \u001b[39m\"\u001b[39m\u001b[39mNeural Network\u001b[39m\u001b[39m\"\u001b[39m:\n\u001b[1;32m---> 72\u001b[0m     clf \u001b[39m=\u001b[39m \u001b[39mself\u001b[39;49m\u001b[39m.\u001b[39;49mapplyNN(save_model\u001b[39m=\u001b[39;49msave_model, act_fn\u001b[39m=\u001b[39;49mact_fn, batch_size\u001b[39m=\u001b[39;49mbatch_size, epochs\u001b[39m=\u001b[39;49mepochs, learning_rate\u001b[39m=\u001b[39;49mlearning_rate)\n\u001b[0;32m     74\u001b[0m \u001b[39mreturn\u001b[39;00m clf\n",
      "File \u001b[1;32mc:\\Users\\cmore\\GitHub\\XAI_Algos\\Classifiers.py:87\u001b[0m, in \u001b[0;36mClassifier.applyNN\u001b[1;34m(self, save_model, act_fn, batch_size, epochs, learning_rate)\u001b[0m\n\u001b[0;32m     84\u001b[0m \u001b[39mself\u001b[39m\u001b[39m.\u001b[39mhistory \u001b[39m=\u001b[39m nn\u001b[39m.\u001b[39mfit(\u001b[39mself\u001b[39m\u001b[39m.\u001b[39mX_train, \u001b[39mself\u001b[39m\u001b[39m.\u001b[39mY_train, epochs\u001b[39m=\u001b[39mepochs, batch_size\u001b[39m=\u001b[39mbatch_size, validation_data\u001b[39m=\u001b[39m(\u001b[39mself\u001b[39m\u001b[39m.\u001b[39mX_val, \u001b[39mself\u001b[39m\u001b[39m.\u001b[39mY_val), verbose\u001b[39m=\u001b[39m\u001b[39m1\u001b[39m)\n\u001b[0;32m     86\u001b[0m \u001b[39m# evaluate model\u001b[39;00m\n\u001b[1;32m---> 87\u001b[0m \u001b[39mself\u001b[39;49m\u001b[39m.\u001b[39;49mevaluate_model(nn)\n\u001b[0;32m     89\u001b[0m \u001b[39m# save model\u001b[39;00m\n\u001b[0;32m     90\u001b[0m \u001b[39mif\u001b[39;00m save_model:\n",
      "File \u001b[1;32mc:\\Users\\cmore\\GitHub\\XAI_Algos\\Classifiers.py:151\u001b[0m, in \u001b[0;36mClassifier.evaluate_model\u001b[1;34m(self, clf)\u001b[0m\n\u001b[0;32m    147\u001b[0m     Y_pred \u001b[39m=\u001b[39m np\u001b[39m.\u001b[39margmax(Y_pred)\n\u001b[0;32m    149\u001b[0m \u001b[39mself\u001b[39m\u001b[39m.\u001b[39mclf_results[\u001b[39m\"\u001b[39m\u001b[39mpredictions\u001b[39m\u001b[39m\"\u001b[39m] \u001b[39m=\u001b[39m Y_pred\n\u001b[1;32m--> 151\u001b[0m \u001b[39mself\u001b[39m\u001b[39m.\u001b[39mclf_results[\u001b[39m\"\u001b[39m\u001b[39maccuracy\u001b[39m\u001b[39m\"\u001b[39m] \u001b[39m=\u001b[39m accuracy_score(\u001b[39mself\u001b[39;49m\u001b[39m.\u001b[39;49mY_test, Y_pred) \n\u001b[0;32m    152\u001b[0m \u001b[39mself\u001b[39m\u001b[39m.\u001b[39mclf_results[\u001b[39m\"\u001b[39m\u001b[39mprecision\u001b[39m\u001b[39m\"\u001b[39m] \u001b[39m=\u001b[39m precision_score(\u001b[39mself\u001b[39m\u001b[39m.\u001b[39mY_test, Y_pred)\n\u001b[0;32m    153\u001b[0m \u001b[39mself\u001b[39m\u001b[39m.\u001b[39mclf_results[\u001b[39m\"\u001b[39m\u001b[39mrecall\u001b[39m\u001b[39m\"\u001b[39m] \u001b[39m=\u001b[39m recall_score(\u001b[39mself\u001b[39m\u001b[39m.\u001b[39mY_test, Y_pred)\n",
      "File \u001b[1;32mc:\\Users\\cmore\\anaconda3\\lib\\site-packages\\sklearn\\metrics\\_classification.py:211\u001b[0m, in \u001b[0;36maccuracy_score\u001b[1;34m(y_true, y_pred, normalize, sample_weight)\u001b[0m\n\u001b[0;32m    145\u001b[0m \u001b[39m\"\"\"Accuracy classification score.\u001b[39;00m\n\u001b[0;32m    146\u001b[0m \n\u001b[0;32m    147\u001b[0m \u001b[39mIn multilabel classification, this function computes subset accuracy:\u001b[39;00m\n\u001b[1;32m   (...)\u001b[0m\n\u001b[0;32m    207\u001b[0m \u001b[39m0.5\u001b[39;00m\n\u001b[0;32m    208\u001b[0m \u001b[39m\"\"\"\u001b[39;00m\n\u001b[0;32m    210\u001b[0m \u001b[39m# Compute accuracy for each possible representation\u001b[39;00m\n\u001b[1;32m--> 211\u001b[0m y_type, y_true, y_pred \u001b[39m=\u001b[39m _check_targets(y_true, y_pred)\n\u001b[0;32m    212\u001b[0m check_consistent_length(y_true, y_pred, sample_weight)\n\u001b[0;32m    213\u001b[0m \u001b[39mif\u001b[39;00m y_type\u001b[39m.\u001b[39mstartswith(\u001b[39m\"\u001b[39m\u001b[39mmultilabel\u001b[39m\u001b[39m\"\u001b[39m):\n",
      "File \u001b[1;32mc:\\Users\\cmore\\anaconda3\\lib\\site-packages\\sklearn\\metrics\\_classification.py:84\u001b[0m, in \u001b[0;36m_check_targets\u001b[1;34m(y_true, y_pred)\u001b[0m\n\u001b[0;32m     57\u001b[0m \u001b[39mdef\u001b[39;00m \u001b[39m_check_targets\u001b[39m(y_true, y_pred):\n\u001b[0;32m     58\u001b[0m     \u001b[39m\"\"\"Check that y_true and y_pred belong to the same classification task.\u001b[39;00m\n\u001b[0;32m     59\u001b[0m \n\u001b[0;32m     60\u001b[0m \u001b[39m    This converts multiclass or binary types to a common shape, and raises a\u001b[39;00m\n\u001b[1;32m   (...)\u001b[0m\n\u001b[0;32m     82\u001b[0m \u001b[39m    y_pred : array or indicator matrix\u001b[39;00m\n\u001b[0;32m     83\u001b[0m \u001b[39m    \"\"\"\u001b[39;00m\n\u001b[1;32m---> 84\u001b[0m     check_consistent_length(y_true, y_pred)\n\u001b[0;32m     85\u001b[0m     type_true \u001b[39m=\u001b[39m type_of_target(y_true)\n\u001b[0;32m     86\u001b[0m     type_pred \u001b[39m=\u001b[39m type_of_target(y_pred)\n",
      "File \u001b[1;32mc:\\Users\\cmore\\anaconda3\\lib\\site-packages\\sklearn\\utils\\validation.py:329\u001b[0m, in \u001b[0;36mcheck_consistent_length\u001b[1;34m(*arrays)\u001b[0m\n\u001b[0;32m    318\u001b[0m \u001b[39mdef\u001b[39;00m \u001b[39mcheck_consistent_length\u001b[39m(\u001b[39m*\u001b[39marrays):\n\u001b[0;32m    319\u001b[0m     \u001b[39m\"\"\"Check that all arrays have consistent first dimensions.\u001b[39;00m\n\u001b[0;32m    320\u001b[0m \n\u001b[0;32m    321\u001b[0m \u001b[39m    Checks whether all objects in arrays have the same shape or length.\u001b[39;00m\n\u001b[1;32m   (...)\u001b[0m\n\u001b[0;32m    326\u001b[0m \u001b[39m        Objects that will be checked for consistent length.\u001b[39;00m\n\u001b[0;32m    327\u001b[0m \u001b[39m    \"\"\"\u001b[39;00m\n\u001b[1;32m--> 329\u001b[0m     lengths \u001b[39m=\u001b[39m [_num_samples(X) \u001b[39mfor\u001b[39;00m X \u001b[39min\u001b[39;00m arrays \u001b[39mif\u001b[39;00m X \u001b[39mis\u001b[39;00m \u001b[39mnot\u001b[39;00m \u001b[39mNone\u001b[39;00m]\n\u001b[0;32m    330\u001b[0m     uniques \u001b[39m=\u001b[39m np\u001b[39m.\u001b[39munique(lengths)\n\u001b[0;32m    331\u001b[0m     \u001b[39mif\u001b[39;00m \u001b[39mlen\u001b[39m(uniques) \u001b[39m>\u001b[39m \u001b[39m1\u001b[39m:\n",
      "File \u001b[1;32mc:\\Users\\cmore\\anaconda3\\lib\\site-packages\\sklearn\\utils\\validation.py:329\u001b[0m, in \u001b[0;36m<listcomp>\u001b[1;34m(.0)\u001b[0m\n\u001b[0;32m    318\u001b[0m \u001b[39mdef\u001b[39;00m \u001b[39mcheck_consistent_length\u001b[39m(\u001b[39m*\u001b[39marrays):\n\u001b[0;32m    319\u001b[0m     \u001b[39m\"\"\"Check that all arrays have consistent first dimensions.\u001b[39;00m\n\u001b[0;32m    320\u001b[0m \n\u001b[0;32m    321\u001b[0m \u001b[39m    Checks whether all objects in arrays have the same shape or length.\u001b[39;00m\n\u001b[1;32m   (...)\u001b[0m\n\u001b[0;32m    326\u001b[0m \u001b[39m        Objects that will be checked for consistent length.\u001b[39;00m\n\u001b[0;32m    327\u001b[0m \u001b[39m    \"\"\"\u001b[39;00m\n\u001b[1;32m--> 329\u001b[0m     lengths \u001b[39m=\u001b[39m [_num_samples(X) \u001b[39mfor\u001b[39;00m X \u001b[39min\u001b[39;00m arrays \u001b[39mif\u001b[39;00m X \u001b[39mis\u001b[39;00m \u001b[39mnot\u001b[39;00m \u001b[39mNone\u001b[39;00m]\n\u001b[0;32m    330\u001b[0m     uniques \u001b[39m=\u001b[39m np\u001b[39m.\u001b[39munique(lengths)\n\u001b[0;32m    331\u001b[0m     \u001b[39mif\u001b[39;00m \u001b[39mlen\u001b[39m(uniques) \u001b[39m>\u001b[39m \u001b[39m1\u001b[39m:\n",
      "File \u001b[1;32mc:\\Users\\cmore\\anaconda3\\lib\\site-packages\\sklearn\\utils\\validation.py:269\u001b[0m, in \u001b[0;36m_num_samples\u001b[1;34m(x)\u001b[0m\n\u001b[0;32m    267\u001b[0m \u001b[39mif\u001b[39;00m \u001b[39mhasattr\u001b[39m(x, \u001b[39m\"\u001b[39m\u001b[39mshape\u001b[39m\u001b[39m\"\u001b[39m) \u001b[39mand\u001b[39;00m x\u001b[39m.\u001b[39mshape \u001b[39mis\u001b[39;00m \u001b[39mnot\u001b[39;00m \u001b[39mNone\u001b[39;00m:\n\u001b[0;32m    268\u001b[0m     \u001b[39mif\u001b[39;00m \u001b[39mlen\u001b[39m(x\u001b[39m.\u001b[39mshape) \u001b[39m==\u001b[39m \u001b[39m0\u001b[39m:\n\u001b[1;32m--> 269\u001b[0m         \u001b[39mraise\u001b[39;00m \u001b[39mTypeError\u001b[39;00m(\n\u001b[0;32m    270\u001b[0m             \u001b[39m\"\u001b[39m\u001b[39mSingleton array \u001b[39m\u001b[39m%r\u001b[39;00m\u001b[39m cannot be considered a valid collection.\u001b[39m\u001b[39m\"\u001b[39m \u001b[39m%\u001b[39m x\n\u001b[0;32m    271\u001b[0m         )\n\u001b[0;32m    272\u001b[0m     \u001b[39m# Check that shape is returning an integer or default to len\u001b[39;00m\n\u001b[0;32m    273\u001b[0m     \u001b[39m# Dask dataframes may not return numeric shape[0] value\u001b[39;00m\n\u001b[0;32m    274\u001b[0m     \u001b[39mif\u001b[39;00m \u001b[39misinstance\u001b[39m(x\u001b[39m.\u001b[39mshape[\u001b[39m0\u001b[39m], numbers\u001b[39m.\u001b[39mIntegral):\n",
      "\u001b[1;31mTypeError\u001b[0m: Singleton array 1 cannot be considered a valid collection."
     ]
    }
   ],
   "source": [
    "clf_nn = Classifier(\"Neural Network\", \"common_cause_v2\", data_common_cause, \"Y\")\n",
    "NN = clf_nn.applyClassifer()\n",
    "NN\n"
   ]
  },
  {
   "cell_type": "markdown",
   "metadata": {},
   "source": [
    "### Training a Neural Network Classifier\n"
   ]
  },
  {
   "cell_type": "code",
   "execution_count": null,
   "metadata": {},
   "outputs": [
    {
     "data": {
      "image/svg+xml": "<?xml version=\"1.0\" encoding=\"utf-8\" standalone=\"no\"?>\n<!DOCTYPE svg PUBLIC \"-//W3C//DTD SVG 1.1//EN\"\n  \"http://www.w3.org/Graphics/SVG/1.1/DTD/svg11.dtd\">\n<svg xmlns:xlink=\"http://www.w3.org/1999/xlink\" width=\"847.598437pt\" height=\"266.374219pt\" viewBox=\"0 0 847.598437 266.374219\" xmlns=\"http://www.w3.org/2000/svg\" version=\"1.1\">\n <metadata>\n  <rdf:RDF xmlns:dc=\"http://purl.org/dc/elements/1.1/\" xmlns:cc=\"http://creativecommons.org/ns#\" xmlns:rdf=\"http://www.w3.org/1999/02/22-rdf-syntax-ns#\">\n   <cc:Work>\n    <dc:type rdf:resource=\"http://purl.org/dc/dcmitype/StillImage\"/>\n    <dc:date>2022-07-06T16:25:57.674955</dc:date>\n    <dc:format>image/svg+xml</dc:format>\n    <dc:creator>\n     <cc:Agent>\n      <dc:title>Matplotlib v3.5.2, https://matplotlib.org/</dc:title>\n     </cc:Agent>\n    </dc:creator>\n   </cc:Work>\n  </rdf:RDF>\n </metadata>\n <defs>\n  <style type=\"text/css\">*{stroke-linejoin: round; stroke-linecap: butt}</style>\n </defs>\n <g id=\"figure_1\">\n  <g id=\"patch_1\">\n   <path d=\"M 0 266.374219 \nL 847.598437 266.374219 \nL 847.598437 0 \nL 0 0 \nz\n\" style=\"fill: #ffffff\"/>\n  </g>\n  <g id=\"axes_1\">\n   <g id=\"patch_2\">\n    <path d=\"M 59.198437 224.64 \nL 414.289347 224.64 \nL 414.289347 7.2 \nL 59.198437 7.2 \nz\n\" style=\"fill: #eaeaf2\"/>\n   </g>\n   <g id=\"matplotlib.axis_1\">\n    <g id=\"xtick_1\">\n     <g id=\"line2d_1\">\n      <path d=\"M 112.021879 224.64 \nL 112.021879 7.2 \n\" clip-path=\"url(#p742d6cf82b)\" style=\"fill: none; stroke: #ffffff; stroke-linecap: round\"/>\n     </g>\n     <g id=\"text_1\">\n      <!-- 10 -->\n      <g style=\"fill: #262626\" transform=\"translate(105.904847 242.013594)scale(0.11 -0.11)\">\n       <defs>\n        <path id=\"ArialMT-31\" d=\"M 2384 0 \nL 1822 0 \nL 1822 3584 \nQ 1619 3391 1289 3197 \nQ 959 3003 697 2906 \nL 697 3450 \nQ 1169 3672 1522 3987 \nQ 1875 4303 2022 4600 \nL 2384 4600 \nL 2384 0 \nz\n\" transform=\"scale(0.015625)\"/>\n        <path id=\"ArialMT-30\" d=\"M 266 2259 \nQ 266 3072 433 3567 \nQ 600 4063 929 4331 \nQ 1259 4600 1759 4600 \nQ 2128 4600 2406 4451 \nQ 2684 4303 2865 4023 \nQ 3047 3744 3150 3342 \nQ 3253 2941 3253 2259 \nQ 3253 1453 3087 958 \nQ 2922 463 2592 192 \nQ 2263 -78 1759 -78 \nQ 1097 -78 719 397 \nQ 266 969 266 2259 \nz\nM 844 2259 \nQ 844 1131 1108 757 \nQ 1372 384 1759 384 \nQ 2147 384 2411 759 \nQ 2675 1134 2675 2259 \nQ 2675 3391 2411 3762 \nQ 2147 4134 1753 4134 \nQ 1366 4134 1134 3806 \nQ 844 3388 844 2259 \nz\n\" transform=\"scale(0.015625)\"/>\n       </defs>\n       <use xlink:href=\"#ArialMT-31\"/>\n       <use xlink:href=\"#ArialMT-30\" x=\"55.615234\"/>\n      </g>\n     </g>\n    </g>\n    <g id=\"xtick_2\">\n     <g id=\"line2d_2\">\n      <path d=\"M 185.387769 224.64 \nL 185.387769 7.2 \n\" clip-path=\"url(#p742d6cf82b)\" style=\"fill: none; stroke: #ffffff; stroke-linecap: round\"/>\n     </g>\n     <g id=\"text_2\">\n      <!-- 20 -->\n      <g style=\"fill: #262626\" transform=\"translate(179.270738 242.013594)scale(0.11 -0.11)\">\n       <defs>\n        <path id=\"ArialMT-32\" d=\"M 3222 541 \nL 3222 0 \nL 194 0 \nQ 188 203 259 391 \nQ 375 700 629 1000 \nQ 884 1300 1366 1694 \nQ 2113 2306 2375 2664 \nQ 2638 3022 2638 3341 \nQ 2638 3675 2398 3904 \nQ 2159 4134 1775 4134 \nQ 1369 4134 1125 3890 \nQ 881 3647 878 3216 \nL 300 3275 \nQ 359 3922 746 4261 \nQ 1134 4600 1788 4600 \nQ 2447 4600 2831 4234 \nQ 3216 3869 3216 3328 \nQ 3216 3053 3103 2787 \nQ 2991 2522 2730 2228 \nQ 2469 1934 1863 1422 \nQ 1356 997 1212 845 \nQ 1069 694 975 541 \nL 3222 541 \nz\n\" transform=\"scale(0.015625)\"/>\n       </defs>\n       <use xlink:href=\"#ArialMT-32\"/>\n       <use xlink:href=\"#ArialMT-30\" x=\"55.615234\"/>\n      </g>\n     </g>\n    </g>\n    <g id=\"xtick_3\">\n     <g id=\"line2d_3\">\n      <path d=\"M 258.753659 224.64 \nL 258.753659 7.2 \n\" clip-path=\"url(#p742d6cf82b)\" style=\"fill: none; stroke: #ffffff; stroke-linecap: round\"/>\n     </g>\n     <g id=\"text_3\">\n      <!-- 30 -->\n      <g style=\"fill: #262626\" transform=\"translate(252.636628 242.013594)scale(0.11 -0.11)\">\n       <defs>\n        <path id=\"ArialMT-33\" d=\"M 269 1209 \nL 831 1284 \nQ 928 806 1161 595 \nQ 1394 384 1728 384 \nQ 2125 384 2398 659 \nQ 2672 934 2672 1341 \nQ 2672 1728 2419 1979 \nQ 2166 2231 1775 2231 \nQ 1616 2231 1378 2169 \nL 1441 2663 \nQ 1497 2656 1531 2656 \nQ 1891 2656 2178 2843 \nQ 2466 3031 2466 3422 \nQ 2466 3731 2256 3934 \nQ 2047 4138 1716 4138 \nQ 1388 4138 1169 3931 \nQ 950 3725 888 3313 \nL 325 3413 \nQ 428 3978 793 4289 \nQ 1159 4600 1703 4600 \nQ 2078 4600 2393 4439 \nQ 2709 4278 2876 4000 \nQ 3044 3722 3044 3409 \nQ 3044 3113 2884 2869 \nQ 2725 2625 2413 2481 \nQ 2819 2388 3044 2092 \nQ 3269 1797 3269 1353 \nQ 3269 753 2831 336 \nQ 2394 -81 1725 -81 \nQ 1122 -81 723 278 \nQ 325 638 269 1209 \nz\n\" transform=\"scale(0.015625)\"/>\n       </defs>\n       <use xlink:href=\"#ArialMT-33\"/>\n       <use xlink:href=\"#ArialMT-30\" x=\"55.615234\"/>\n      </g>\n     </g>\n    </g>\n    <g id=\"xtick_4\">\n     <g id=\"line2d_4\">\n      <path d=\"M 332.119549 224.64 \nL 332.119549 7.2 \n\" clip-path=\"url(#p742d6cf82b)\" style=\"fill: none; stroke: #ffffff; stroke-linecap: round\"/>\n     </g>\n     <g id=\"text_4\">\n      <!-- 40 -->\n      <g style=\"fill: #262626\" transform=\"translate(326.002518 242.013594)scale(0.11 -0.11)\">\n       <defs>\n        <path id=\"ArialMT-34\" d=\"M 2069 0 \nL 2069 1097 \nL 81 1097 \nL 81 1613 \nL 2172 4581 \nL 2631 4581 \nL 2631 1613 \nL 3250 1613 \nL 3250 1097 \nL 2631 1097 \nL 2631 0 \nL 2069 0 \nz\nM 2069 1613 \nL 2069 3678 \nL 634 1613 \nL 2069 1613 \nz\n\" transform=\"scale(0.015625)\"/>\n       </defs>\n       <use xlink:href=\"#ArialMT-34\"/>\n       <use xlink:href=\"#ArialMT-30\" x=\"55.615234\"/>\n      </g>\n     </g>\n    </g>\n    <g id=\"xtick_5\">\n     <g id=\"line2d_5\">\n      <path d=\"M 405.48544 224.64 \nL 405.48544 7.2 \n\" clip-path=\"url(#p742d6cf82b)\" style=\"fill: none; stroke: #ffffff; stroke-linecap: round\"/>\n     </g>\n     <g id=\"text_5\">\n      <!-- 50 -->\n      <g style=\"fill: #262626\" transform=\"translate(399.368409 242.013594)scale(0.11 -0.11)\">\n       <defs>\n        <path id=\"ArialMT-35\" d=\"M 266 1200 \nL 856 1250 \nQ 922 819 1161 601 \nQ 1400 384 1738 384 \nQ 2144 384 2425 690 \nQ 2706 997 2706 1503 \nQ 2706 1984 2436 2262 \nQ 2166 2541 1728 2541 \nQ 1456 2541 1237 2417 \nQ 1019 2294 894 2097 \nL 366 2166 \nL 809 4519 \nL 3088 4519 \nL 3088 3981 \nL 1259 3981 \nL 1013 2750 \nQ 1425 3038 1878 3038 \nQ 2478 3038 2890 2622 \nQ 3303 2206 3303 1553 \nQ 3303 931 2941 478 \nQ 2500 -78 1738 -78 \nQ 1113 -78 717 272 \nQ 322 622 266 1200 \nz\n\" transform=\"scale(0.015625)\"/>\n       </defs>\n       <use xlink:href=\"#ArialMT-35\"/>\n       <use xlink:href=\"#ArialMT-30\" x=\"55.615234\"/>\n      </g>\n     </g>\n    </g>\n    <g id=\"text_6\">\n     <!-- Epoch -->\n     <g style=\"fill: #262626\" transform=\"translate(219.732017 256.789219)scale(0.12 -0.12)\">\n      <defs>\n       <path id=\"ArialMT-45\" d=\"M 506 0 \nL 506 4581 \nL 3819 4581 \nL 3819 4041 \nL 1113 4041 \nL 1113 2638 \nL 3647 2638 \nL 3647 2100 \nL 1113 2100 \nL 1113 541 \nL 3925 541 \nL 3925 0 \nL 506 0 \nz\n\" transform=\"scale(0.015625)\"/>\n       <path id=\"ArialMT-70\" d=\"M 422 -1272 \nL 422 3319 \nL 934 3319 \nL 934 2888 \nQ 1116 3141 1344 3267 \nQ 1572 3394 1897 3394 \nQ 2322 3394 2647 3175 \nQ 2972 2956 3137 2557 \nQ 3303 2159 3303 1684 \nQ 3303 1175 3120 767 \nQ 2938 359 2589 142 \nQ 2241 -75 1856 -75 \nQ 1575 -75 1351 44 \nQ 1128 163 984 344 \nL 984 -1272 \nL 422 -1272 \nz\nM 931 1641 \nQ 931 1000 1190 694 \nQ 1450 388 1819 388 \nQ 2194 388 2461 705 \nQ 2728 1022 2728 1688 \nQ 2728 2322 2467 2637 \nQ 2206 2953 1844 2953 \nQ 1484 2953 1207 2617 \nQ 931 2281 931 1641 \nz\n\" transform=\"scale(0.015625)\"/>\n       <path id=\"ArialMT-6f\" d=\"M 213 1659 \nQ 213 2581 725 3025 \nQ 1153 3394 1769 3394 \nQ 2453 3394 2887 2945 \nQ 3322 2497 3322 1706 \nQ 3322 1066 3130 698 \nQ 2938 331 2570 128 \nQ 2203 -75 1769 -75 \nQ 1072 -75 642 372 \nQ 213 819 213 1659 \nz\nM 791 1659 \nQ 791 1022 1069 705 \nQ 1347 388 1769 388 \nQ 2188 388 2466 706 \nQ 2744 1025 2744 1678 \nQ 2744 2294 2464 2611 \nQ 2184 2928 1769 2928 \nQ 1347 2928 1069 2612 \nQ 791 2297 791 1659 \nz\n\" transform=\"scale(0.015625)\"/>\n       <path id=\"ArialMT-63\" d=\"M 2588 1216 \nL 3141 1144 \nQ 3050 572 2676 248 \nQ 2303 -75 1759 -75 \nQ 1078 -75 664 370 \nQ 250 816 250 1647 \nQ 250 2184 428 2587 \nQ 606 2991 970 3192 \nQ 1334 3394 1763 3394 \nQ 2303 3394 2647 3120 \nQ 2991 2847 3088 2344 \nL 2541 2259 \nQ 2463 2594 2264 2762 \nQ 2066 2931 1784 2931 \nQ 1359 2931 1093 2626 \nQ 828 2322 828 1663 \nQ 828 994 1084 691 \nQ 1341 388 1753 388 \nQ 2084 388 2306 591 \nQ 2528 794 2588 1216 \nz\n\" transform=\"scale(0.015625)\"/>\n       <path id=\"ArialMT-68\" d=\"M 422 0 \nL 422 4581 \nL 984 4581 \nL 984 2938 \nQ 1378 3394 1978 3394 \nQ 2347 3394 2619 3248 \nQ 2891 3103 3008 2847 \nQ 3125 2591 3125 2103 \nL 3125 0 \nL 2563 0 \nL 2563 2103 \nQ 2563 2525 2380 2717 \nQ 2197 2909 1863 2909 \nQ 1613 2909 1392 2779 \nQ 1172 2650 1078 2428 \nQ 984 2206 984 1816 \nL 984 0 \nL 422 0 \nz\n\" transform=\"scale(0.015625)\"/>\n      </defs>\n      <use xlink:href=\"#ArialMT-45\"/>\n      <use xlink:href=\"#ArialMT-70\" x=\"66.699219\"/>\n      <use xlink:href=\"#ArialMT-6f\" x=\"122.314453\"/>\n      <use xlink:href=\"#ArialMT-63\" x=\"177.929688\"/>\n      <use xlink:href=\"#ArialMT-68\" x=\"227.929688\"/>\n     </g>\n    </g>\n   </g>\n   <g id=\"matplotlib.axis_2\">\n    <g id=\"ytick_1\">\n     <g id=\"line2d_6\">\n      <path d=\"M 59.198437 221.504264 \nL 414.289347 221.504264 \n\" clip-path=\"url(#p742d6cf82b)\" style=\"fill: none; stroke: #ffffff; stroke-linecap: round\"/>\n     </g>\n     <g id=\"text_7\">\n      <!-- 0.000 -->\n      <g style=\"fill: #262626\" transform=\"translate(22.174375 225.441061)scale(0.11 -0.11)\">\n       <defs>\n        <path id=\"ArialMT-2e\" d=\"M 581 0 \nL 581 641 \nL 1222 641 \nL 1222 0 \nL 581 0 \nz\n\" transform=\"scale(0.015625)\"/>\n       </defs>\n       <use xlink:href=\"#ArialMT-30\"/>\n       <use xlink:href=\"#ArialMT-2e\" x=\"55.615234\"/>\n       <use xlink:href=\"#ArialMT-30\" x=\"83.398438\"/>\n       <use xlink:href=\"#ArialMT-30\" x=\"139.013672\"/>\n       <use xlink:href=\"#ArialMT-30\" x=\"194.628906\"/>\n      </g>\n     </g>\n    </g>\n    <g id=\"ytick_2\">\n     <g id=\"line2d_7\">\n      <path d=\"M 59.198437 193.802776 \nL 414.289347 193.802776 \n\" clip-path=\"url(#p742d6cf82b)\" style=\"fill: none; stroke: #ffffff; stroke-linecap: round\"/>\n     </g>\n     <g id=\"text_8\">\n      <!-- 0.025 -->\n      <g style=\"fill: #262626\" transform=\"translate(22.174375 197.739573)scale(0.11 -0.11)\">\n       <use xlink:href=\"#ArialMT-30\"/>\n       <use xlink:href=\"#ArialMT-2e\" x=\"55.615234\"/>\n       <use xlink:href=\"#ArialMT-30\" x=\"83.398438\"/>\n       <use xlink:href=\"#ArialMT-32\" x=\"139.013672\"/>\n       <use xlink:href=\"#ArialMT-35\" x=\"194.628906\"/>\n      </g>\n     </g>\n    </g>\n    <g id=\"ytick_3\">\n     <g id=\"line2d_8\">\n      <path d=\"M 59.198437 166.101288 \nL 414.289347 166.101288 \n\" clip-path=\"url(#p742d6cf82b)\" style=\"fill: none; stroke: #ffffff; stroke-linecap: round\"/>\n     </g>\n     <g id=\"text_9\">\n      <!-- 0.050 -->\n      <g style=\"fill: #262626\" transform=\"translate(22.174375 170.038085)scale(0.11 -0.11)\">\n       <use xlink:href=\"#ArialMT-30\"/>\n       <use xlink:href=\"#ArialMT-2e\" x=\"55.615234\"/>\n       <use xlink:href=\"#ArialMT-30\" x=\"83.398438\"/>\n       <use xlink:href=\"#ArialMT-35\" x=\"139.013672\"/>\n       <use xlink:href=\"#ArialMT-30\" x=\"194.628906\"/>\n      </g>\n     </g>\n    </g>\n    <g id=\"ytick_4\">\n     <g id=\"line2d_9\">\n      <path d=\"M 59.198437 138.3998 \nL 414.289347 138.3998 \n\" clip-path=\"url(#p742d6cf82b)\" style=\"fill: none; stroke: #ffffff; stroke-linecap: round\"/>\n     </g>\n     <g id=\"text_10\">\n      <!-- 0.075 -->\n      <g style=\"fill: #262626\" transform=\"translate(22.174375 142.336597)scale(0.11 -0.11)\">\n       <defs>\n        <path id=\"ArialMT-37\" d=\"M 303 3981 \nL 303 4522 \nL 3269 4522 \nL 3269 4084 \nQ 2831 3619 2401 2847 \nQ 1972 2075 1738 1259 \nQ 1569 684 1522 0 \nL 944 0 \nQ 953 541 1156 1306 \nQ 1359 2072 1739 2783 \nQ 2119 3494 2547 3981 \nL 303 3981 \nz\n\" transform=\"scale(0.015625)\"/>\n       </defs>\n       <use xlink:href=\"#ArialMT-30\"/>\n       <use xlink:href=\"#ArialMT-2e\" x=\"55.615234\"/>\n       <use xlink:href=\"#ArialMT-30\" x=\"83.398438\"/>\n       <use xlink:href=\"#ArialMT-37\" x=\"139.013672\"/>\n       <use xlink:href=\"#ArialMT-35\" x=\"194.628906\"/>\n      </g>\n     </g>\n    </g>\n    <g id=\"ytick_5\">\n     <g id=\"line2d_10\">\n      <path d=\"M 59.198437 110.698312 \nL 414.289347 110.698312 \n\" clip-path=\"url(#p742d6cf82b)\" style=\"fill: none; stroke: #ffffff; stroke-linecap: round\"/>\n     </g>\n     <g id=\"text_11\">\n      <!-- 0.100 -->\n      <g style=\"fill: #262626\" transform=\"translate(22.174375 114.635109)scale(0.11 -0.11)\">\n       <use xlink:href=\"#ArialMT-30\"/>\n       <use xlink:href=\"#ArialMT-2e\" x=\"55.615234\"/>\n       <use xlink:href=\"#ArialMT-31\" x=\"83.398438\"/>\n       <use xlink:href=\"#ArialMT-30\" x=\"139.013672\"/>\n       <use xlink:href=\"#ArialMT-30\" x=\"194.628906\"/>\n      </g>\n     </g>\n    </g>\n    <g id=\"ytick_6\">\n     <g id=\"line2d_11\">\n      <path d=\"M 59.198437 82.996824 \nL 414.289347 82.996824 \n\" clip-path=\"url(#p742d6cf82b)\" style=\"fill: none; stroke: #ffffff; stroke-linecap: round\"/>\n     </g>\n     <g id=\"text_12\">\n      <!-- 0.125 -->\n      <g style=\"fill: #262626\" transform=\"translate(22.174375 86.933621)scale(0.11 -0.11)\">\n       <use xlink:href=\"#ArialMT-30\"/>\n       <use xlink:href=\"#ArialMT-2e\" x=\"55.615234\"/>\n       <use xlink:href=\"#ArialMT-31\" x=\"83.398438\"/>\n       <use xlink:href=\"#ArialMT-32\" x=\"139.013672\"/>\n       <use xlink:href=\"#ArialMT-35\" x=\"194.628906\"/>\n      </g>\n     </g>\n    </g>\n    <g id=\"ytick_7\">\n     <g id=\"line2d_12\">\n      <path d=\"M 59.198437 55.295337 \nL 414.289347 55.295337 \n\" clip-path=\"url(#p742d6cf82b)\" style=\"fill: none; stroke: #ffffff; stroke-linecap: round\"/>\n     </g>\n     <g id=\"text_13\">\n      <!-- 0.150 -->\n      <g style=\"fill: #262626\" transform=\"translate(22.174375 59.232133)scale(0.11 -0.11)\">\n       <use xlink:href=\"#ArialMT-30\"/>\n       <use xlink:href=\"#ArialMT-2e\" x=\"55.615234\"/>\n       <use xlink:href=\"#ArialMT-31\" x=\"83.398438\"/>\n       <use xlink:href=\"#ArialMT-35\" x=\"139.013672\"/>\n       <use xlink:href=\"#ArialMT-30\" x=\"194.628906\"/>\n      </g>\n     </g>\n    </g>\n    <g id=\"ytick_8\">\n     <g id=\"line2d_13\">\n      <path d=\"M 59.198437 27.593849 \nL 414.289347 27.593849 \n\" clip-path=\"url(#p742d6cf82b)\" style=\"fill: none; stroke: #ffffff; stroke-linecap: round\"/>\n     </g>\n     <g id=\"text_14\">\n      <!-- 0.175 -->\n      <g style=\"fill: #262626\" transform=\"translate(22.174375 31.530646)scale(0.11 -0.11)\">\n       <use xlink:href=\"#ArialMT-30\"/>\n       <use xlink:href=\"#ArialMT-2e\" x=\"55.615234\"/>\n       <use xlink:href=\"#ArialMT-31\" x=\"83.398438\"/>\n       <use xlink:href=\"#ArialMT-37\" x=\"139.013672\"/>\n       <use xlink:href=\"#ArialMT-35\" x=\"194.628906\"/>\n      </g>\n     </g>\n    </g>\n    <g id=\"text_15\">\n     <!-- Loss -->\n     <g style=\"fill: #262626\" transform=\"translate(15.789375 128.593125)rotate(-90)scale(0.12 -0.12)\">\n      <defs>\n       <path id=\"ArialMT-4c\" d=\"M 469 0 \nL 469 4581 \nL 1075 4581 \nL 1075 541 \nL 3331 541 \nL 3331 0 \nL 469 0 \nz\n\" transform=\"scale(0.015625)\"/>\n       <path id=\"ArialMT-73\" d=\"M 197 991 \nL 753 1078 \nQ 800 744 1014 566 \nQ 1228 388 1613 388 \nQ 2000 388 2187 545 \nQ 2375 703 2375 916 \nQ 2375 1106 2209 1216 \nQ 2094 1291 1634 1406 \nQ 1016 1563 777 1677 \nQ 538 1791 414 1992 \nQ 291 2194 291 2438 \nQ 291 2659 392 2848 \nQ 494 3038 669 3163 \nQ 800 3259 1026 3326 \nQ 1253 3394 1513 3394 \nQ 1903 3394 2198 3281 \nQ 2494 3169 2634 2976 \nQ 2775 2784 2828 2463 \nL 2278 2388 \nQ 2241 2644 2061 2787 \nQ 1881 2931 1553 2931 \nQ 1166 2931 1000 2803 \nQ 834 2675 834 2503 \nQ 834 2394 903 2306 \nQ 972 2216 1119 2156 \nQ 1203 2125 1616 2013 \nQ 2213 1853 2448 1751 \nQ 2684 1650 2818 1456 \nQ 2953 1263 2953 975 \nQ 2953 694 2789 445 \nQ 2625 197 2315 61 \nQ 2006 -75 1616 -75 \nQ 969 -75 630 194 \nQ 291 463 197 991 \nz\n\" transform=\"scale(0.015625)\"/>\n      </defs>\n      <use xlink:href=\"#ArialMT-4c\"/>\n      <use xlink:href=\"#ArialMT-6f\" x=\"55.615234\"/>\n      <use xlink:href=\"#ArialMT-73\" x=\"111.230469\"/>\n      <use xlink:href=\"#ArialMT-73\" x=\"161.230469\"/>\n     </g>\n    </g>\n   </g>\n   <g id=\"line2d_14\">\n    <path d=\"M 75.338933 17.083636 \nL 82.675522 55.940727 \nL 90.012111 84.880508 \nL 97.3487 104.726403 \nL 104.685289 119.801741 \nL 112.021879 132.506879 \nL 119.358468 141.700676 \nL 126.695057 144.520893 \nL 134.031646 155.552959 \nL 141.368235 161.556701 \nL 148.704824 165.34022 \nL 156.041413 168.122036 \nL 163.378002 171.197201 \nL 170.714591 177.032394 \nL 178.05118 176.924901 \nL 185.387769 181.913148 \nL 192.724358 183.974312 \nL 200.060947 184.398745 \nL 207.397536 183.613844 \nL 214.734125 189.000368 \nL 222.070714 189.546005 \nL 229.407303 191.279289 \nL 236.743892 191.748761 \nL 244.080481 191.746065 \nL 251.41707 194.03966 \nL 258.753659 195.680236 \nL 266.090248 193.617361 \nL 273.426837 198.247204 \nL 280.763426 197.756634 \nL 288.100015 197.064003 \nL 295.436604 199.613429 \nL 302.773193 200.352499 \nL 310.109782 201.326412 \nL 317.446371 200.138109 \nL 324.78296 202.24914 \nL 332.119549 201.701911 \nL 339.456138 203.261477 \nL 346.792728 201.718931 \nL 354.129317 203.606814 \nL 361.465906 204.546775 \nL 368.802495 203.660453 \nL 376.139084 205.468867 \nL 383.475673 204.18736 \nL 390.812262 205.471178 \nL 398.148851 202.976195 \n\" clip-path=\"url(#p742d6cf82b)\" style=\"fill: none; stroke: #4c72b0; stroke-width: 2; stroke-linecap: round\"/>\n   </g>\n   <g id=\"line2d_15\">\n    <path d=\"M 75.338933 30.327657 \nL 82.675522 64.968914 \nL 90.012111 94.443516 \nL 97.3487 113.261487 \nL 104.685289 127.431894 \nL 112.021879 140.431307 \nL 119.358468 148.650008 \nL 126.695057 157.289844 \nL 134.031646 163.985235 \nL 141.368235 165.449542 \nL 148.704824 174.213189 \nL 156.041413 177.102093 \nL 163.378002 179.791899 \nL 170.714591 183.679787 \nL 178.05118 187.596421 \nL 185.387769 190.363215 \nL 192.724358 187.838407 \nL 200.060947 190.071762 \nL 207.397536 196.499644 \nL 214.734125 197.699645 \nL 222.070714 197.26363 \nL 229.407303 196.593243 \nL 236.743892 202.043526 \nL 244.080481 201.137476 \nL 251.41707 201.644442 \nL 258.753659 201.69152 \nL 266.090248 205.497439 \nL 273.426837 206.596829 \nL 280.763426 207.829052 \nL 288.100015 207.000742 \nL 295.436604 208.563536 \nL 302.773193 207.504089 \nL 310.109782 210.199412 \nL 317.446371 210.801471 \nL 324.78296 210.80002 \nL 332.119549 211.925669 \nL 339.456138 211.517488 \nL 346.792728 212.754 \nL 354.129317 213.429418 \nL 361.465906 213.096609 \nL 368.802495 213.210098 \nL 376.139084 214.400317 \nL 383.475673 214.252427 \nL 390.812262 214.756364 \nL 398.148851 214.153572 \n\" clip-path=\"url(#p742d6cf82b)\" style=\"fill: none; stroke: #dd8452; stroke-width: 2; stroke-linecap: round\"/>\n   </g>\n   <g id=\"patch_3\">\n    <path d=\"M 59.198437 224.64 \nL 59.198437 7.2 \n\" style=\"fill: none; stroke: #ffffff; stroke-width: 1.25; stroke-linejoin: miter; stroke-linecap: square\"/>\n   </g>\n   <g id=\"patch_4\">\n    <path d=\"M 414.289347 224.64 \nL 414.289347 7.2 \n\" style=\"fill: none; stroke: #ffffff; stroke-width: 1.25; stroke-linejoin: miter; stroke-linecap: square\"/>\n   </g>\n   <g id=\"patch_5\">\n    <path d=\"M 59.198437 224.64 \nL 414.289347 224.64 \n\" style=\"fill: none; stroke: #ffffff; stroke-width: 1.25; stroke-linejoin: miter; stroke-linecap: square\"/>\n   </g>\n   <g id=\"patch_6\">\n    <path d=\"M 59.198437 7.2 \nL 414.289347 7.2 \n\" style=\"fill: none; stroke: #ffffff; stroke-width: 1.25; stroke-linejoin: miter; stroke-linecap: square\"/>\n   </g>\n   <g id=\"legend_1\">\n    <g id=\"patch_7\">\n     <path d=\"M 302.299034 47.248594 \nL 406.589347 47.248594 \nQ 408.789347 47.248594 408.789347 45.048594 \nL 408.789347 14.9 \nQ 408.789347 12.7 406.589347 12.7 \nL 302.299034 12.7 \nQ 300.099034 12.7 300.099034 14.9 \nL 300.099034 45.048594 \nQ 300.099034 47.248594 302.299034 47.248594 \nz\n\" style=\"fill: #eaeaf2; opacity: 0.8; stroke: #cccccc; stroke-linejoin: miter\"/>\n    </g>\n    <g id=\"line2d_16\">\n     <path d=\"M 304.499034 21.123594 \nL 315.499034 21.123594 \nL 326.499034 21.123594 \n\" style=\"fill: none; stroke: #4c72b0; stroke-width: 2; stroke-linecap: round\"/>\n    </g>\n    <g id=\"text_16\">\n     <!-- training loss -->\n     <g style=\"fill: #262626\" transform=\"translate(335.299034 24.973594)scale(0.11 -0.11)\">\n      <defs>\n       <path id=\"ArialMT-74\" d=\"M 1650 503 \nL 1731 6 \nQ 1494 -44 1306 -44 \nQ 1000 -44 831 53 \nQ 663 150 594 308 \nQ 525 466 525 972 \nL 525 2881 \nL 113 2881 \nL 113 3319 \nL 525 3319 \nL 525 4141 \nL 1084 4478 \nL 1084 3319 \nL 1650 3319 \nL 1650 2881 \nL 1084 2881 \nL 1084 941 \nQ 1084 700 1114 631 \nQ 1144 563 1211 522 \nQ 1278 481 1403 481 \nQ 1497 481 1650 503 \nz\n\" transform=\"scale(0.015625)\"/>\n       <path id=\"ArialMT-72\" d=\"M 416 0 \nL 416 3319 \nL 922 3319 \nL 922 2816 \nQ 1116 3169 1280 3281 \nQ 1444 3394 1641 3394 \nQ 1925 3394 2219 3213 \nL 2025 2691 \nQ 1819 2813 1613 2813 \nQ 1428 2813 1281 2702 \nQ 1134 2591 1072 2394 \nQ 978 2094 978 1738 \nL 978 0 \nL 416 0 \nz\n\" transform=\"scale(0.015625)\"/>\n       <path id=\"ArialMT-61\" d=\"M 2588 409 \nQ 2275 144 1986 34 \nQ 1697 -75 1366 -75 \nQ 819 -75 525 192 \nQ 231 459 231 875 \nQ 231 1119 342 1320 \nQ 453 1522 633 1644 \nQ 813 1766 1038 1828 \nQ 1203 1872 1538 1913 \nQ 2219 1994 2541 2106 \nQ 2544 2222 2544 2253 \nQ 2544 2597 2384 2738 \nQ 2169 2928 1744 2928 \nQ 1347 2928 1158 2789 \nQ 969 2650 878 2297 \nL 328 2372 \nQ 403 2725 575 2942 \nQ 747 3159 1072 3276 \nQ 1397 3394 1825 3394 \nQ 2250 3394 2515 3294 \nQ 2781 3194 2906 3042 \nQ 3031 2891 3081 2659 \nQ 3109 2516 3109 2141 \nL 3109 1391 \nQ 3109 606 3145 398 \nQ 3181 191 3288 0 \nL 2700 0 \nQ 2613 175 2588 409 \nz\nM 2541 1666 \nQ 2234 1541 1622 1453 \nQ 1275 1403 1131 1340 \nQ 988 1278 909 1158 \nQ 831 1038 831 891 \nQ 831 666 1001 516 \nQ 1172 366 1500 366 \nQ 1825 366 2078 508 \nQ 2331 650 2450 897 \nQ 2541 1088 2541 1459 \nL 2541 1666 \nz\n\" transform=\"scale(0.015625)\"/>\n       <path id=\"ArialMT-69\" d=\"M 425 3934 \nL 425 4581 \nL 988 4581 \nL 988 3934 \nL 425 3934 \nz\nM 425 0 \nL 425 3319 \nL 988 3319 \nL 988 0 \nL 425 0 \nz\n\" transform=\"scale(0.015625)\"/>\n       <path id=\"ArialMT-6e\" d=\"M 422 0 \nL 422 3319 \nL 928 3319 \nL 928 2847 \nQ 1294 3394 1984 3394 \nQ 2284 3394 2536 3286 \nQ 2788 3178 2913 3003 \nQ 3038 2828 3088 2588 \nQ 3119 2431 3119 2041 \nL 3119 0 \nL 2556 0 \nL 2556 2019 \nQ 2556 2363 2490 2533 \nQ 2425 2703 2258 2804 \nQ 2091 2906 1866 2906 \nQ 1506 2906 1245 2678 \nQ 984 2450 984 1813 \nL 984 0 \nL 422 0 \nz\n\" transform=\"scale(0.015625)\"/>\n       <path id=\"ArialMT-67\" d=\"M 319 -275 \nL 866 -356 \nQ 900 -609 1056 -725 \nQ 1266 -881 1628 -881 \nQ 2019 -881 2231 -725 \nQ 2444 -569 2519 -288 \nQ 2563 -116 2559 434 \nQ 2191 0 1641 0 \nQ 956 0 581 494 \nQ 206 988 206 1678 \nQ 206 2153 378 2554 \nQ 550 2956 876 3175 \nQ 1203 3394 1644 3394 \nQ 2231 3394 2613 2919 \nL 2613 3319 \nL 3131 3319 \nL 3131 450 \nQ 3131 -325 2973 -648 \nQ 2816 -972 2473 -1159 \nQ 2131 -1347 1631 -1347 \nQ 1038 -1347 672 -1080 \nQ 306 -813 319 -275 \nz\nM 784 1719 \nQ 784 1066 1043 766 \nQ 1303 466 1694 466 \nQ 2081 466 2343 764 \nQ 2606 1063 2606 1700 \nQ 2606 2309 2336 2618 \nQ 2066 2928 1684 2928 \nQ 1309 2928 1046 2623 \nQ 784 2319 784 1719 \nz\n\" transform=\"scale(0.015625)\"/>\n       <path id=\"ArialMT-20\" transform=\"scale(0.015625)\"/>\n       <path id=\"ArialMT-6c\" d=\"M 409 0 \nL 409 4581 \nL 972 4581 \nL 972 0 \nL 409 0 \nz\n\" transform=\"scale(0.015625)\"/>\n      </defs>\n      <use xlink:href=\"#ArialMT-74\"/>\n      <use xlink:href=\"#ArialMT-72\" x=\"27.783203\"/>\n      <use xlink:href=\"#ArialMT-61\" x=\"61.083984\"/>\n      <use xlink:href=\"#ArialMT-69\" x=\"116.699219\"/>\n      <use xlink:href=\"#ArialMT-6e\" x=\"138.916016\"/>\n      <use xlink:href=\"#ArialMT-69\" x=\"194.53125\"/>\n      <use xlink:href=\"#ArialMT-6e\" x=\"216.748047\"/>\n      <use xlink:href=\"#ArialMT-67\" x=\"272.363281\"/>\n      <use xlink:href=\"#ArialMT-20\" x=\"327.978516\"/>\n      <use xlink:href=\"#ArialMT-6c\" x=\"355.761719\"/>\n      <use xlink:href=\"#ArialMT-6f\" x=\"377.978516\"/>\n      <use xlink:href=\"#ArialMT-73\" x=\"433.59375\"/>\n      <use xlink:href=\"#ArialMT-73\" x=\"483.59375\"/>\n     </g>\n    </g>\n    <g id=\"line2d_17\">\n     <path d=\"M 304.499034 36.812344 \nL 315.499034 36.812344 \nL 326.499034 36.812344 \n\" style=\"fill: none; stroke: #dd8452; stroke-width: 2; stroke-linecap: round\"/>\n    </g>\n    <g id=\"text_17\">\n     <!-- validation loss -->\n     <g style=\"fill: #262626\" transform=\"translate(335.299034 40.662344)scale(0.11 -0.11)\">\n      <defs>\n       <path id=\"ArialMT-76\" d=\"M 1344 0 \nL 81 3319 \nL 675 3319 \nL 1388 1331 \nQ 1503 1009 1600 663 \nQ 1675 925 1809 1294 \nL 2547 3319 \nL 3125 3319 \nL 1869 0 \nL 1344 0 \nz\n\" transform=\"scale(0.015625)\"/>\n       <path id=\"ArialMT-64\" d=\"M 2575 0 \nL 2575 419 \nQ 2259 -75 1647 -75 \nQ 1250 -75 917 144 \nQ 584 363 401 755 \nQ 219 1147 219 1656 \nQ 219 2153 384 2558 \nQ 550 2963 881 3178 \nQ 1213 3394 1622 3394 \nQ 1922 3394 2156 3267 \nQ 2391 3141 2538 2938 \nL 2538 4581 \nL 3097 4581 \nL 3097 0 \nL 2575 0 \nz\nM 797 1656 \nQ 797 1019 1065 703 \nQ 1334 388 1700 388 \nQ 2069 388 2326 689 \nQ 2584 991 2584 1609 \nQ 2584 2291 2321 2609 \nQ 2059 2928 1675 2928 \nQ 1300 2928 1048 2622 \nQ 797 2316 797 1656 \nz\n\" transform=\"scale(0.015625)\"/>\n      </defs>\n      <use xlink:href=\"#ArialMT-76\"/>\n      <use xlink:href=\"#ArialMT-61\" x=\"50\"/>\n      <use xlink:href=\"#ArialMT-6c\" x=\"105.615234\"/>\n      <use xlink:href=\"#ArialMT-69\" x=\"127.832031\"/>\n      <use xlink:href=\"#ArialMT-64\" x=\"150.048828\"/>\n      <use xlink:href=\"#ArialMT-61\" x=\"205.664062\"/>\n      <use xlink:href=\"#ArialMT-74\" x=\"261.279297\"/>\n      <use xlink:href=\"#ArialMT-69\" x=\"289.0625\"/>\n      <use xlink:href=\"#ArialMT-6f\" x=\"311.279297\"/>\n      <use xlink:href=\"#ArialMT-6e\" x=\"366.894531\"/>\n      <use xlink:href=\"#ArialMT-20\" x=\"422.509766\"/>\n      <use xlink:href=\"#ArialMT-6c\" x=\"450.292969\"/>\n      <use xlink:href=\"#ArialMT-6f\" x=\"472.509766\"/>\n      <use xlink:href=\"#ArialMT-73\" x=\"528.125\"/>\n      <use xlink:href=\"#ArialMT-73\" x=\"578.125\"/>\n     </g>\n    </g>\n   </g>\n  </g>\n  <g id=\"axes_2\">\n   <g id=\"patch_8\">\n    <path d=\"M 485.307528 224.64 \nL 840.398437 224.64 \nL 840.398437 7.2 \nL 485.307528 7.2 \nz\n\" style=\"fill: #eaeaf2\"/>\n   </g>\n   <g id=\"matplotlib.axis_3\">\n    <g id=\"xtick_6\">\n     <g id=\"line2d_18\">\n      <path d=\"M 538.130969 224.64 \nL 538.130969 7.2 \n\" clip-path=\"url(#p81eedad26e)\" style=\"fill: none; stroke: #ffffff; stroke-linecap: round\"/>\n     </g>\n     <g id=\"text_18\">\n      <!-- 10 -->\n      <g style=\"fill: #262626\" transform=\"translate(532.013938 242.013594)scale(0.11 -0.11)\">\n       <use xlink:href=\"#ArialMT-31\"/>\n       <use xlink:href=\"#ArialMT-30\" x=\"55.615234\"/>\n      </g>\n     </g>\n    </g>\n    <g id=\"xtick_7\">\n     <g id=\"line2d_19\">\n      <path d=\"M 611.49686 224.64 \nL 611.49686 7.2 \n\" clip-path=\"url(#p81eedad26e)\" style=\"fill: none; stroke: #ffffff; stroke-linecap: round\"/>\n     </g>\n     <g id=\"text_19\">\n      <!-- 20 -->\n      <g style=\"fill: #262626\" transform=\"translate(605.379828 242.013594)scale(0.11 -0.11)\">\n       <use xlink:href=\"#ArialMT-32\"/>\n       <use xlink:href=\"#ArialMT-30\" x=\"55.615234\"/>\n      </g>\n     </g>\n    </g>\n    <g id=\"xtick_8\">\n     <g id=\"line2d_20\">\n      <path d=\"M 684.86275 224.64 \nL 684.86275 7.2 \n\" clip-path=\"url(#p81eedad26e)\" style=\"fill: none; stroke: #ffffff; stroke-linecap: round\"/>\n     </g>\n     <g id=\"text_20\">\n      <!-- 30 -->\n      <g style=\"fill: #262626\" transform=\"translate(678.745719 242.013594)scale(0.11 -0.11)\">\n       <use xlink:href=\"#ArialMT-33\"/>\n       <use xlink:href=\"#ArialMT-30\" x=\"55.615234\"/>\n      </g>\n     </g>\n    </g>\n    <g id=\"xtick_9\">\n     <g id=\"line2d_21\">\n      <path d=\"M 758.22864 224.64 \nL 758.22864 7.2 \n\" clip-path=\"url(#p81eedad26e)\" style=\"fill: none; stroke: #ffffff; stroke-linecap: round\"/>\n     </g>\n     <g id=\"text_21\">\n      <!-- 40 -->\n      <g style=\"fill: #262626\" transform=\"translate(752.111609 242.013594)scale(0.11 -0.11)\">\n       <use xlink:href=\"#ArialMT-34\"/>\n       <use xlink:href=\"#ArialMT-30\" x=\"55.615234\"/>\n      </g>\n     </g>\n    </g>\n    <g id=\"xtick_10\">\n     <g id=\"line2d_22\">\n      <path d=\"M 831.594531 224.64 \nL 831.594531 7.2 \n\" clip-path=\"url(#p81eedad26e)\" style=\"fill: none; stroke: #ffffff; stroke-linecap: round\"/>\n     </g>\n     <g id=\"text_22\">\n      <!-- 50 -->\n      <g style=\"fill: #262626\" transform=\"translate(825.477499 242.013594)scale(0.11 -0.11)\">\n       <use xlink:href=\"#ArialMT-35\"/>\n       <use xlink:href=\"#ArialMT-30\" x=\"55.615234\"/>\n      </g>\n     </g>\n    </g>\n    <g id=\"text_23\">\n     <!-- Epoch -->\n     <g style=\"fill: #262626\" transform=\"translate(645.841108 256.789219)scale(0.12 -0.12)\">\n      <use xlink:href=\"#ArialMT-45\"/>\n      <use xlink:href=\"#ArialMT-70\" x=\"66.699219\"/>\n      <use xlink:href=\"#ArialMT-6f\" x=\"122.314453\"/>\n      <use xlink:href=\"#ArialMT-63\" x=\"177.929688\"/>\n      <use xlink:href=\"#ArialMT-68\" x=\"227.929688\"/>\n     </g>\n    </g>\n   </g>\n   <g id=\"matplotlib.axis_4\">\n    <g id=\"ytick_9\">\n     <g id=\"line2d_23\">\n      <path d=\"M 485.307528 218.874487 \nL 840.398437 218.874487 \n\" clip-path=\"url(#p81eedad26e)\" style=\"fill: none; stroke: #ffffff; stroke-linecap: round\"/>\n     </g>\n     <g id=\"text_24\">\n      <!-- 0.965 -->\n      <g style=\"fill: #262626\" transform=\"translate(448.283466 222.811284)scale(0.11 -0.11)\">\n       <defs>\n        <path id=\"ArialMT-39\" d=\"M 350 1059 \nL 891 1109 \nQ 959 728 1153 556 \nQ 1347 384 1650 384 \nQ 1909 384 2104 503 \nQ 2300 622 2425 820 \nQ 2550 1019 2634 1356 \nQ 2719 1694 2719 2044 \nQ 2719 2081 2716 2156 \nQ 2547 1888 2255 1720 \nQ 1963 1553 1622 1553 \nQ 1053 1553 659 1965 \nQ 266 2378 266 3053 \nQ 266 3750 677 4175 \nQ 1088 4600 1706 4600 \nQ 2153 4600 2523 4359 \nQ 2894 4119 3086 3673 \nQ 3278 3228 3278 2384 \nQ 3278 1506 3087 986 \nQ 2897 466 2520 194 \nQ 2144 -78 1638 -78 \nQ 1100 -78 759 220 \nQ 419 519 350 1059 \nz\nM 2653 3081 \nQ 2653 3566 2395 3850 \nQ 2138 4134 1775 4134 \nQ 1400 4134 1122 3828 \nQ 844 3522 844 3034 \nQ 844 2597 1108 2323 \nQ 1372 2050 1759 2050 \nQ 2150 2050 2401 2323 \nQ 2653 2597 2653 3081 \nz\n\" transform=\"scale(0.015625)\"/>\n        <path id=\"ArialMT-36\" d=\"M 3184 3459 \nL 2625 3416 \nQ 2550 3747 2413 3897 \nQ 2184 4138 1850 4138 \nQ 1581 4138 1378 3988 \nQ 1113 3794 959 3422 \nQ 806 3050 800 2363 \nQ 1003 2672 1297 2822 \nQ 1591 2972 1913 2972 \nQ 2475 2972 2870 2558 \nQ 3266 2144 3266 1488 \nQ 3266 1056 3080 686 \nQ 2894 316 2569 119 \nQ 2244 -78 1831 -78 \nQ 1128 -78 684 439 \nQ 241 956 241 2144 \nQ 241 3472 731 4075 \nQ 1159 4600 1884 4600 \nQ 2425 4600 2770 4297 \nQ 3116 3994 3184 3459 \nz\nM 888 1484 \nQ 888 1194 1011 928 \nQ 1134 663 1356 523 \nQ 1578 384 1822 384 \nQ 2178 384 2434 671 \nQ 2691 959 2691 1453 \nQ 2691 1928 2437 2201 \nQ 2184 2475 1800 2475 \nQ 1419 2475 1153 2201 \nQ 888 1928 888 1484 \nz\n\" transform=\"scale(0.015625)\"/>\n       </defs>\n       <use xlink:href=\"#ArialMT-30\"/>\n       <use xlink:href=\"#ArialMT-2e\" x=\"55.615234\"/>\n       <use xlink:href=\"#ArialMT-39\" x=\"83.398438\"/>\n       <use xlink:href=\"#ArialMT-36\" x=\"139.013672\"/>\n       <use xlink:href=\"#ArialMT-35\" x=\"194.628906\"/>\n      </g>\n     </g>\n    </g>\n    <g id=\"ytick_10\">\n     <g id=\"line2d_24\">\n      <path d=\"M 485.307528 190.047223 \nL 840.398437 190.047223 \n\" clip-path=\"url(#p81eedad26e)\" style=\"fill: none; stroke: #ffffff; stroke-linecap: round\"/>\n     </g>\n     <g id=\"text_25\">\n      <!-- 0.970 -->\n      <g style=\"fill: #262626\" transform=\"translate(448.283466 193.98402)scale(0.11 -0.11)\">\n       <use xlink:href=\"#ArialMT-30\"/>\n       <use xlink:href=\"#ArialMT-2e\" x=\"55.615234\"/>\n       <use xlink:href=\"#ArialMT-39\" x=\"83.398438\"/>\n       <use xlink:href=\"#ArialMT-37\" x=\"139.013672\"/>\n       <use xlink:href=\"#ArialMT-30\" x=\"194.628906\"/>\n      </g>\n     </g>\n    </g>\n    <g id=\"ytick_11\">\n     <g id=\"line2d_25\">\n      <path d=\"M 485.307528 161.219958 \nL 840.398437 161.219958 \n\" clip-path=\"url(#p81eedad26e)\" style=\"fill: none; stroke: #ffffff; stroke-linecap: round\"/>\n     </g>\n     <g id=\"text_26\">\n      <!-- 0.975 -->\n      <g style=\"fill: #262626\" transform=\"translate(448.283466 165.156755)scale(0.11 -0.11)\">\n       <use xlink:href=\"#ArialMT-30\"/>\n       <use xlink:href=\"#ArialMT-2e\" x=\"55.615234\"/>\n       <use xlink:href=\"#ArialMT-39\" x=\"83.398438\"/>\n       <use xlink:href=\"#ArialMT-37\" x=\"139.013672\"/>\n       <use xlink:href=\"#ArialMT-35\" x=\"194.628906\"/>\n      </g>\n     </g>\n    </g>\n    <g id=\"ytick_12\">\n     <g id=\"line2d_26\">\n      <path d=\"M 485.307528 132.392694 \nL 840.398437 132.392694 \n\" clip-path=\"url(#p81eedad26e)\" style=\"fill: none; stroke: #ffffff; stroke-linecap: round\"/>\n     </g>\n     <g id=\"text_27\">\n      <!-- 0.980 -->\n      <g style=\"fill: #262626\" transform=\"translate(448.283466 136.329491)scale(0.11 -0.11)\">\n       <defs>\n        <path id=\"ArialMT-38\" d=\"M 1131 2484 \nQ 781 2613 612 2850 \nQ 444 3088 444 3419 \nQ 444 3919 803 4259 \nQ 1163 4600 1759 4600 \nQ 2359 4600 2725 4251 \nQ 3091 3903 3091 3403 \nQ 3091 3084 2923 2848 \nQ 2756 2613 2416 2484 \nQ 2838 2347 3058 2040 \nQ 3278 1734 3278 1309 \nQ 3278 722 2862 322 \nQ 2447 -78 1769 -78 \nQ 1091 -78 675 323 \nQ 259 725 259 1325 \nQ 259 1772 486 2073 \nQ 713 2375 1131 2484 \nz\nM 1019 3438 \nQ 1019 3113 1228 2906 \nQ 1438 2700 1772 2700 \nQ 2097 2700 2305 2904 \nQ 2513 3109 2513 3406 \nQ 2513 3716 2298 3927 \nQ 2084 4138 1766 4138 \nQ 1444 4138 1231 3931 \nQ 1019 3725 1019 3438 \nz\nM 838 1322 \nQ 838 1081 952 856 \nQ 1066 631 1291 507 \nQ 1516 384 1775 384 \nQ 2178 384 2440 643 \nQ 2703 903 2703 1303 \nQ 2703 1709 2433 1975 \nQ 2163 2241 1756 2241 \nQ 1359 2241 1098 1978 \nQ 838 1716 838 1322 \nz\n\" transform=\"scale(0.015625)\"/>\n       </defs>\n       <use xlink:href=\"#ArialMT-30\"/>\n       <use xlink:href=\"#ArialMT-2e\" x=\"55.615234\"/>\n       <use xlink:href=\"#ArialMT-39\" x=\"83.398438\"/>\n       <use xlink:href=\"#ArialMT-38\" x=\"139.013672\"/>\n       <use xlink:href=\"#ArialMT-30\" x=\"194.628906\"/>\n      </g>\n     </g>\n    </g>\n    <g id=\"ytick_13\">\n     <g id=\"line2d_27\">\n      <path d=\"M 485.307528 103.56543 \nL 840.398437 103.56543 \n\" clip-path=\"url(#p81eedad26e)\" style=\"fill: none; stroke: #ffffff; stroke-linecap: round\"/>\n     </g>\n     <g id=\"text_28\">\n      <!-- 0.985 -->\n      <g style=\"fill: #262626\" transform=\"translate(448.283466 107.502227)scale(0.11 -0.11)\">\n       <use xlink:href=\"#ArialMT-30\"/>\n       <use xlink:href=\"#ArialMT-2e\" x=\"55.615234\"/>\n       <use xlink:href=\"#ArialMT-39\" x=\"83.398438\"/>\n       <use xlink:href=\"#ArialMT-38\" x=\"139.013672\"/>\n       <use xlink:href=\"#ArialMT-35\" x=\"194.628906\"/>\n      </g>\n     </g>\n    </g>\n    <g id=\"ytick_14\">\n     <g id=\"line2d_28\">\n      <path d=\"M 485.307528 74.738165 \nL 840.398437 74.738165 \n\" clip-path=\"url(#p81eedad26e)\" style=\"fill: none; stroke: #ffffff; stroke-linecap: round\"/>\n     </g>\n     <g id=\"text_29\">\n      <!-- 0.990 -->\n      <g style=\"fill: #262626\" transform=\"translate(448.283466 78.674962)scale(0.11 -0.11)\">\n       <use xlink:href=\"#ArialMT-30\"/>\n       <use xlink:href=\"#ArialMT-2e\" x=\"55.615234\"/>\n       <use xlink:href=\"#ArialMT-39\" x=\"83.398438\"/>\n       <use xlink:href=\"#ArialMT-39\" x=\"139.013672\"/>\n       <use xlink:href=\"#ArialMT-30\" x=\"194.628906\"/>\n      </g>\n     </g>\n    </g>\n    <g id=\"ytick_15\">\n     <g id=\"line2d_29\">\n      <path d=\"M 485.307528 45.910901 \nL 840.398437 45.910901 \n\" clip-path=\"url(#p81eedad26e)\" style=\"fill: none; stroke: #ffffff; stroke-linecap: round\"/>\n     </g>\n     <g id=\"text_30\">\n      <!-- 0.995 -->\n      <g style=\"fill: #262626\" transform=\"translate(448.283466 49.847698)scale(0.11 -0.11)\">\n       <use xlink:href=\"#ArialMT-30\"/>\n       <use xlink:href=\"#ArialMT-2e\" x=\"55.615234\"/>\n       <use xlink:href=\"#ArialMT-39\" x=\"83.398438\"/>\n       <use xlink:href=\"#ArialMT-39\" x=\"139.013672\"/>\n       <use xlink:href=\"#ArialMT-35\" x=\"194.628906\"/>\n      </g>\n     </g>\n    </g>\n    <g id=\"ytick_16\">\n     <g id=\"line2d_30\">\n      <path d=\"M 485.307528 17.083636 \nL 840.398437 17.083636 \n\" clip-path=\"url(#p81eedad26e)\" style=\"fill: none; stroke: #ffffff; stroke-linecap: round\"/>\n     </g>\n     <g id=\"text_31\">\n      <!-- 1.000 -->\n      <g style=\"fill: #262626\" transform=\"translate(448.283466 21.020433)scale(0.11 -0.11)\">\n       <use xlink:href=\"#ArialMT-31\"/>\n       <use xlink:href=\"#ArialMT-2e\" x=\"55.615234\"/>\n       <use xlink:href=\"#ArialMT-30\" x=\"83.398438\"/>\n       <use xlink:href=\"#ArialMT-30\" x=\"139.013672\"/>\n       <use xlink:href=\"#ArialMT-30\" x=\"194.628906\"/>\n      </g>\n     </g>\n    </g>\n    <g id=\"text_32\">\n     <!-- accuracy -->\n     <g style=\"fill: #262626\" transform=\"translate(441.757841 139.9275)rotate(-90)scale(0.12 -0.12)\">\n      <defs>\n       <path id=\"ArialMT-75\" d=\"M 2597 0 \nL 2597 488 \nQ 2209 -75 1544 -75 \nQ 1250 -75 995 37 \nQ 741 150 617 320 \nQ 494 491 444 738 \nQ 409 903 409 1263 \nL 409 3319 \nL 972 3319 \nL 972 1478 \nQ 972 1038 1006 884 \nQ 1059 663 1231 536 \nQ 1403 409 1656 409 \nQ 1909 409 2131 539 \nQ 2353 669 2445 892 \nQ 2538 1116 2538 1541 \nL 2538 3319 \nL 3100 3319 \nL 3100 0 \nL 2597 0 \nz\n\" transform=\"scale(0.015625)\"/>\n       <path id=\"ArialMT-79\" d=\"M 397 -1278 \nL 334 -750 \nQ 519 -800 656 -800 \nQ 844 -800 956 -737 \nQ 1069 -675 1141 -563 \nQ 1194 -478 1313 -144 \nQ 1328 -97 1363 -6 \nL 103 3319 \nL 709 3319 \nL 1400 1397 \nQ 1534 1031 1641 628 \nQ 1738 1016 1872 1384 \nL 2581 3319 \nL 3144 3319 \nL 1881 -56 \nQ 1678 -603 1566 -809 \nQ 1416 -1088 1222 -1217 \nQ 1028 -1347 759 -1347 \nQ 597 -1347 397 -1278 \nz\n\" transform=\"scale(0.015625)\"/>\n      </defs>\n      <use xlink:href=\"#ArialMT-61\"/>\n      <use xlink:href=\"#ArialMT-63\" x=\"55.615234\"/>\n      <use xlink:href=\"#ArialMT-63\" x=\"105.615234\"/>\n      <use xlink:href=\"#ArialMT-75\" x=\"155.615234\"/>\n      <use xlink:href=\"#ArialMT-72\" x=\"211.230469\"/>\n      <use xlink:href=\"#ArialMT-61\" x=\"244.53125\"/>\n      <use xlink:href=\"#ArialMT-63\" x=\"300.146484\"/>\n      <use xlink:href=\"#ArialMT-79\" x=\"350.146484\"/>\n     </g>\n    </g>\n   </g>\n   <g id=\"line2d_31\">\n    <path d=\"M 501.448024 214.756364 \nL 508.784613 143.923685 \nL 516.121202 99.447416 \nL 523.457791 96.152865 \nL 530.79438 92.858314 \nL 538.130969 73.091006 \nL 545.467558 76.385558 \nL 552.804147 102.741623 \nL 560.140737 69.796455 \nL 567.477326 66.501904 \nL 574.813915 68.149008 \nL 582.150504 69.796455 \nL 589.487093 74.73811 \nL 596.823682 46.734597 \nL 604.160271 73.091006 \nL 611.49686 46.734597 \nL 618.833449 48.381701 \nL 626.170038 69.796455 \nL 633.506627 81.327213 \nL 640.843216 51.676252 \nL 648.179805 48.381701 \nL 655.516394 53.323699 \nL 662.852983 54.970803 \nL 670.189572 59.912802 \nL 677.526161 50.029148 \nL 684.86275 40.145495 \nL 692.199339 64.854457 \nL 699.535928 41.792598 \nL 706.872517 50.029148 \nL 714.209106 45.08715 \nL 721.545695 45.08715 \nL 728.882284 48.381701 \nL 736.218873 46.734597 \nL 743.555462 48.381701 \nL 750.892051 46.734597 \nL 758.22864 46.734597 \nL 765.565229 41.792598 \nL 772.901818 58.265354 \nL 780.238407 38.498047 \nL 787.574996 43.440046 \nL 794.911586 45.08715 \nL 802.248175 33.556392 \nL 809.584764 51.676252 \nL 816.921353 50.029148 \nL 824.257942 45.08715 \n\" clip-path=\"url(#p81eedad26e)\" style=\"fill: none; stroke: #4c72b0; stroke-width: 2; stroke-linecap: round\"/>\n   </g>\n   <g id=\"line2d_32\">\n    <path d=\"M 501.448024 109.330726 \nL 508.784613 109.330726 \nL 516.121202 32.458094 \nL 523.457791 40.145495 \nL 530.79438 47.832552 \nL 538.130969 17.083636 \nL 545.467558 32.458094 \nL 552.804147 17.083636 \nL 560.140737 17.083636 \nL 567.477326 47.832552 \nL 574.813915 17.083636 \nL 582.150504 40.145495 \nL 589.487093 40.145495 \nL 596.823682 24.771037 \nL 604.160271 17.083636 \nL 611.49686 17.083636 \nL 618.833449 47.832552 \nL 626.170038 32.458094 \nL 633.506627 17.083636 \nL 640.843216 32.458094 \nL 648.179805 32.458094 \nL 655.516394 55.519952 \nL 662.852983 17.083636 \nL 670.189572 17.083636 \nL 677.526161 24.771037 \nL 684.86275 40.145495 \nL 692.199339 17.083636 \nL 699.535928 17.083636 \nL 706.872517 17.083636 \nL 714.209106 32.458094 \nL 721.545695 17.083636 \nL 728.882284 32.458094 \nL 736.218873 17.083636 \nL 743.555462 17.083636 \nL 750.892051 17.083636 \nL 758.22864 17.083636 \nL 765.565229 17.083636 \nL 772.901818 17.083636 \nL 780.238407 17.083636 \nL 787.574996 17.083636 \nL 794.911586 17.083636 \nL 802.248175 17.083636 \nL 809.584764 17.083636 \nL 816.921353 17.083636 \nL 824.257942 17.083636 \n\" clip-path=\"url(#p81eedad26e)\" style=\"fill: none; stroke: #dd8452; stroke-width: 2; stroke-linecap: round\"/>\n   </g>\n   <g id=\"patch_9\">\n    <path d=\"M 485.307528 224.64 \nL 485.307528 7.2 \n\" style=\"fill: none; stroke: #ffffff; stroke-width: 1.25; stroke-linejoin: miter; stroke-linecap: square\"/>\n   </g>\n   <g id=\"patch_10\">\n    <path d=\"M 840.398437 224.64 \nL 840.398437 7.2 \n\" style=\"fill: none; stroke: #ffffff; stroke-width: 1.25; stroke-linejoin: miter; stroke-linecap: square\"/>\n   </g>\n   <g id=\"patch_11\">\n    <path d=\"M 485.307528 224.64 \nL 840.398437 224.64 \n\" style=\"fill: none; stroke: #ffffff; stroke-width: 1.25; stroke-linejoin: miter; stroke-linecap: square\"/>\n   </g>\n   <g id=\"patch_12\">\n    <path d=\"M 485.307528 7.2 \nL 840.398437 7.2 \n\" style=\"fill: none; stroke: #ffffff; stroke-width: 1.25; stroke-linejoin: miter; stroke-linecap: square\"/>\n   </g>\n   <g id=\"legend_2\">\n    <g id=\"patch_13\">\n     <path d=\"M 674.002812 219.14 \nL 832.698437 219.14 \nQ 834.898437 219.14 834.898437 216.94 \nL 834.898437 186.6625 \nQ 834.898437 184.4625 832.698437 184.4625 \nL 674.002812 184.4625 \nQ 671.802812 184.4625 671.802812 186.6625 \nL 671.802812 216.94 \nQ 671.802812 219.14 674.002812 219.14 \nz\n\" style=\"fill: #eaeaf2; opacity: 0.8; stroke: #cccccc; stroke-linejoin: miter\"/>\n    </g>\n    <g id=\"line2d_33\">\n     <path d=\"M 676.202812 192.886094 \nL 687.202812 192.886094 \nL 698.202812 192.886094 \n\" style=\"fill: none; stroke: #4c72b0; stroke-width: 2; stroke-linecap: round\"/>\n    </g>\n    <g id=\"text_33\">\n     <!-- training accuracy score -->\n     <g style=\"fill: #262626\" transform=\"translate(707.002812 196.736094)scale(0.11 -0.11)\">\n      <defs>\n       <path id=\"ArialMT-65\" d=\"M 2694 1069 \nL 3275 997 \nQ 3138 488 2766 206 \nQ 2394 -75 1816 -75 \nQ 1088 -75 661 373 \nQ 234 822 234 1631 \nQ 234 2469 665 2931 \nQ 1097 3394 1784 3394 \nQ 2450 3394 2872 2941 \nQ 3294 2488 3294 1666 \nQ 3294 1616 3291 1516 \nL 816 1516 \nQ 847 969 1125 678 \nQ 1403 388 1819 388 \nQ 2128 388 2347 550 \nQ 2566 713 2694 1069 \nz\nM 847 1978 \nL 2700 1978 \nQ 2663 2397 2488 2606 \nQ 2219 2931 1791 2931 \nQ 1403 2931 1139 2672 \nQ 875 2413 847 1978 \nz\n\" transform=\"scale(0.015625)\"/>\n      </defs>\n      <use xlink:href=\"#ArialMT-74\"/>\n      <use xlink:href=\"#ArialMT-72\" x=\"27.783203\"/>\n      <use xlink:href=\"#ArialMT-61\" x=\"61.083984\"/>\n      <use xlink:href=\"#ArialMT-69\" x=\"116.699219\"/>\n      <use xlink:href=\"#ArialMT-6e\" x=\"138.916016\"/>\n      <use xlink:href=\"#ArialMT-69\" x=\"194.53125\"/>\n      <use xlink:href=\"#ArialMT-6e\" x=\"216.748047\"/>\n      <use xlink:href=\"#ArialMT-67\" x=\"272.363281\"/>\n      <use xlink:href=\"#ArialMT-20\" x=\"327.978516\"/>\n      <use xlink:href=\"#ArialMT-61\" x=\"355.761719\"/>\n      <use xlink:href=\"#ArialMT-63\" x=\"411.376953\"/>\n      <use xlink:href=\"#ArialMT-63\" x=\"461.376953\"/>\n      <use xlink:href=\"#ArialMT-75\" x=\"511.376953\"/>\n      <use xlink:href=\"#ArialMT-72\" x=\"566.992188\"/>\n      <use xlink:href=\"#ArialMT-61\" x=\"600.292969\"/>\n      <use xlink:href=\"#ArialMT-63\" x=\"655.908203\"/>\n      <use xlink:href=\"#ArialMT-79\" x=\"705.908203\"/>\n      <use xlink:href=\"#ArialMT-20\" x=\"755.908203\"/>\n      <use xlink:href=\"#ArialMT-73\" x=\"783.691406\"/>\n      <use xlink:href=\"#ArialMT-63\" x=\"833.691406\"/>\n      <use xlink:href=\"#ArialMT-6f\" x=\"883.691406\"/>\n      <use xlink:href=\"#ArialMT-72\" x=\"939.306641\"/>\n      <use xlink:href=\"#ArialMT-65\" x=\"972.607422\"/>\n     </g>\n    </g>\n    <g id=\"line2d_34\">\n     <path d=\"M 676.202812 208.574844 \nL 687.202812 208.574844 \nL 698.202812 208.574844 \n\" style=\"fill: none; stroke: #dd8452; stroke-width: 2; stroke-linecap: round\"/>\n    </g>\n    <g id=\"text_34\">\n     <!-- validation accuracy score -->\n     <g style=\"fill: #262626\" transform=\"translate(707.002812 212.424844)scale(0.11 -0.11)\">\n      <use xlink:href=\"#ArialMT-76\"/>\n      <use xlink:href=\"#ArialMT-61\" x=\"50\"/>\n      <use xlink:href=\"#ArialMT-6c\" x=\"105.615234\"/>\n      <use xlink:href=\"#ArialMT-69\" x=\"127.832031\"/>\n      <use xlink:href=\"#ArialMT-64\" x=\"150.048828\"/>\n      <use xlink:href=\"#ArialMT-61\" x=\"205.664062\"/>\n      <use xlink:href=\"#ArialMT-74\" x=\"261.279297\"/>\n      <use xlink:href=\"#ArialMT-69\" x=\"289.0625\"/>\n      <use xlink:href=\"#ArialMT-6f\" x=\"311.279297\"/>\n      <use xlink:href=\"#ArialMT-6e\" x=\"366.894531\"/>\n      <use xlink:href=\"#ArialMT-20\" x=\"422.509766\"/>\n      <use xlink:href=\"#ArialMT-61\" x=\"450.292969\"/>\n      <use xlink:href=\"#ArialMT-63\" x=\"505.908203\"/>\n      <use xlink:href=\"#ArialMT-63\" x=\"555.908203\"/>\n      <use xlink:href=\"#ArialMT-75\" x=\"605.908203\"/>\n      <use xlink:href=\"#ArialMT-72\" x=\"661.523438\"/>\n      <use xlink:href=\"#ArialMT-61\" x=\"694.824219\"/>\n      <use xlink:href=\"#ArialMT-63\" x=\"750.439453\"/>\n      <use xlink:href=\"#ArialMT-79\" x=\"800.439453\"/>\n      <use xlink:href=\"#ArialMT-20\" x=\"850.439453\"/>\n      <use xlink:href=\"#ArialMT-73\" x=\"878.222656\"/>\n      <use xlink:href=\"#ArialMT-63\" x=\"928.222656\"/>\n      <use xlink:href=\"#ArialMT-6f\" x=\"978.222656\"/>\n      <use xlink:href=\"#ArialMT-72\" x=\"1033.837891\"/>\n      <use xlink:href=\"#ArialMT-65\" x=\"1067.138672\"/>\n     </g>\n    </g>\n   </g>\n  </g>\n </g>\n <defs>\n  <clipPath id=\"p742d6cf82b\">\n   <rect x=\"59.198437\" y=\"7.2\" width=\"355.090909\" height=\"217.44\"/>\n  </clipPath>\n  <clipPath id=\"p81eedad26e\">\n   <rect x=\"485.307528\" y=\"7.2\" width=\"355.090909\" height=\"217.44\"/>\n  </clipPath>\n </defs>\n</svg>\n",
      "text/plain": [
       "<Figure size 2100x600 with 2 Axes>"
      ]
     },
     "metadata": {},
     "output_type": "display_data"
    }
   ],
   "source": [
    "logs = pd.DataFrame(history.history)\n",
    "\n",
    "plt.figure(figsize=(14, 4))\n",
    "plt.subplot(1, 2, 1)\n",
    "plt.plot(logs.loc[5:,\"loss\"], lw=2, label='training loss')\n",
    "plt.plot(logs.loc[5:,\"val_loss\"], lw=2, label='validation loss')\n",
    "plt.xlabel(\"Epoch\")\n",
    "plt.ylabel(\"Loss\")\n",
    "plt.legend()\n",
    "plt.subplot(1, 2, 2)\n",
    "plt.plot(logs.loc[5:,\"accuracy\"], lw=2, label='training accuracy score')\n",
    "plt.plot(logs.loc[5:,\"val_accuracy\"], lw=2, label='validation accuracy score')\n",
    "plt.xlabel(\"Epoch\")\n",
    "plt.ylabel(\"accuracy\")\n",
    "plt.legend(loc='lower right')\n",
    "plt.show()"
   ]
  },
  {
   "cell_type": "markdown",
   "metadata": {},
   "source": [
    "### Training an XGBoost Classifier"
   ]
  },
  {
   "cell_type": "code",
   "execution_count": null,
   "metadata": {},
   "outputs": [
    {
     "data": {
      "image/svg+xml": "<?xml version=\"1.0\" encoding=\"utf-8\" standalone=\"no\"?>\n<!DOCTYPE svg PUBLIC \"-//W3C//DTD SVG 1.1//EN\"\n  \"http://www.w3.org/Graphics/SVG/1.1/DTD/svg11.dtd\">\n<svg xmlns:xlink=\"http://www.w3.org/1999/xlink\" width=\"387.12875pt\" height=\"266.374219pt\" viewBox=\"0 0 387.12875 266.374219\" xmlns=\"http://www.w3.org/2000/svg\" version=\"1.1\">\n <metadata>\n  <rdf:RDF xmlns:dc=\"http://purl.org/dc/elements/1.1/\" xmlns:cc=\"http://creativecommons.org/ns#\" xmlns:rdf=\"http://www.w3.org/1999/02/22-rdf-syntax-ns#\">\n   <cc:Work>\n    <dc:type rdf:resource=\"http://purl.org/dc/dcmitype/StillImage\"/>\n    <dc:date>2022-07-06T16:26:37.326530</dc:date>\n    <dc:format>image/svg+xml</dc:format>\n    <dc:creator>\n     <cc:Agent>\n      <dc:title>Matplotlib v3.5.2, https://matplotlib.org/</dc:title>\n     </cc:Agent>\n    </dc:creator>\n   </cc:Work>\n  </rdf:RDF>\n </metadata>\n <defs>\n  <style type=\"text/css\">*{stroke-linejoin: round; stroke-linecap: butt}</style>\n </defs>\n <g id=\"figure_1\">\n  <g id=\"patch_1\">\n   <path d=\"M 0 266.374219 \nL 387.12875 266.374219 \nL 387.12875 0 \nL 0 0 \nz\n\" style=\"fill: #ffffff\"/>\n  </g>\n  <g id=\"axes_1\">\n   <g id=\"patch_2\">\n    <path d=\"M 45.12875 224.64 \nL 379.92875 224.64 \nL 379.92875 7.2 \nL 45.12875 7.2 \nz\n\" style=\"fill: #eaeaf2\"/>\n   </g>\n   <g id=\"matplotlib.axis_1\">\n    <g id=\"xtick_1\">\n     <g id=\"line2d_1\">\n      <path d=\"M 45.12875 224.64 \nL 45.12875 7.2 \n\" clip-path=\"url(#p6d1b329ba9)\" style=\"fill: none; stroke: #ffffff; stroke-linecap: round\"/>\n     </g>\n     <g id=\"text_1\">\n      <!-- 0.0 -->\n      <g style=\"fill: #262626\" transform=\"translate(37.48375 242.013594)scale(0.11 -0.11)\">\n       <defs>\n        <path id=\"ArialMT-30\" d=\"M 266 2259 \nQ 266 3072 433 3567 \nQ 600 4063 929 4331 \nQ 1259 4600 1759 4600 \nQ 2128 4600 2406 4451 \nQ 2684 4303 2865 4023 \nQ 3047 3744 3150 3342 \nQ 3253 2941 3253 2259 \nQ 3253 1453 3087 958 \nQ 2922 463 2592 192 \nQ 2263 -78 1759 -78 \nQ 1097 -78 719 397 \nQ 266 969 266 2259 \nz\nM 844 2259 \nQ 844 1131 1108 757 \nQ 1372 384 1759 384 \nQ 2147 384 2411 759 \nQ 2675 1134 2675 2259 \nQ 2675 3391 2411 3762 \nQ 2147 4134 1753 4134 \nQ 1366 4134 1134 3806 \nQ 844 3388 844 2259 \nz\n\" transform=\"scale(0.015625)\"/>\n        <path id=\"ArialMT-2e\" d=\"M 581 0 \nL 581 641 \nL 1222 641 \nL 1222 0 \nL 581 0 \nz\n\" transform=\"scale(0.015625)\"/>\n       </defs>\n       <use xlink:href=\"#ArialMT-30\"/>\n       <use xlink:href=\"#ArialMT-2e\" x=\"55.615234\"/>\n       <use xlink:href=\"#ArialMT-30\" x=\"83.398438\"/>\n      </g>\n     </g>\n    </g>\n    <g id=\"xtick_2\">\n     <g id=\"line2d_2\">\n      <path d=\"M 97.281004 224.64 \nL 97.281004 7.2 \n\" clip-path=\"url(#p6d1b329ba9)\" style=\"fill: none; stroke: #ffffff; stroke-linecap: round\"/>\n     </g>\n     <g id=\"text_2\">\n      <!-- 0.1 -->\n      <g style=\"fill: #262626\" transform=\"translate(89.636004 242.013594)scale(0.11 -0.11)\">\n       <defs>\n        <path id=\"ArialMT-31\" d=\"M 2384 0 \nL 1822 0 \nL 1822 3584 \nQ 1619 3391 1289 3197 \nQ 959 3003 697 2906 \nL 697 3450 \nQ 1169 3672 1522 3987 \nQ 1875 4303 2022 4600 \nL 2384 4600 \nL 2384 0 \nz\n\" transform=\"scale(0.015625)\"/>\n       </defs>\n       <use xlink:href=\"#ArialMT-30\"/>\n       <use xlink:href=\"#ArialMT-2e\" x=\"55.615234\"/>\n       <use xlink:href=\"#ArialMT-31\" x=\"83.398438\"/>\n      </g>\n     </g>\n    </g>\n    <g id=\"xtick_3\">\n     <g id=\"line2d_3\">\n      <path d=\"M 149.433257 224.64 \nL 149.433257 7.2 \n\" clip-path=\"url(#p6d1b329ba9)\" style=\"fill: none; stroke: #ffffff; stroke-linecap: round\"/>\n     </g>\n     <g id=\"text_3\">\n      <!-- 0.2 -->\n      <g style=\"fill: #262626\" transform=\"translate(141.788257 242.013594)scale(0.11 -0.11)\">\n       <defs>\n        <path id=\"ArialMT-32\" d=\"M 3222 541 \nL 3222 0 \nL 194 0 \nQ 188 203 259 391 \nQ 375 700 629 1000 \nQ 884 1300 1366 1694 \nQ 2113 2306 2375 2664 \nQ 2638 3022 2638 3341 \nQ 2638 3675 2398 3904 \nQ 2159 4134 1775 4134 \nQ 1369 4134 1125 3890 \nQ 881 3647 878 3216 \nL 300 3275 \nQ 359 3922 746 4261 \nQ 1134 4600 1788 4600 \nQ 2447 4600 2831 4234 \nQ 3216 3869 3216 3328 \nQ 3216 3053 3103 2787 \nQ 2991 2522 2730 2228 \nQ 2469 1934 1863 1422 \nQ 1356 997 1212 845 \nQ 1069 694 975 541 \nL 3222 541 \nz\n\" transform=\"scale(0.015625)\"/>\n       </defs>\n       <use xlink:href=\"#ArialMT-30\"/>\n       <use xlink:href=\"#ArialMT-2e\" x=\"55.615234\"/>\n       <use xlink:href=\"#ArialMT-32\" x=\"83.398438\"/>\n      </g>\n     </g>\n    </g>\n    <g id=\"xtick_4\">\n     <g id=\"line2d_4\">\n      <path d=\"M 201.585511 224.64 \nL 201.585511 7.2 \n\" clip-path=\"url(#p6d1b329ba9)\" style=\"fill: none; stroke: #ffffff; stroke-linecap: round\"/>\n     </g>\n     <g id=\"text_4\">\n      <!-- 0.3 -->\n      <g style=\"fill: #262626\" transform=\"translate(193.940511 242.013594)scale(0.11 -0.11)\">\n       <defs>\n        <path id=\"ArialMT-33\" d=\"M 269 1209 \nL 831 1284 \nQ 928 806 1161 595 \nQ 1394 384 1728 384 \nQ 2125 384 2398 659 \nQ 2672 934 2672 1341 \nQ 2672 1728 2419 1979 \nQ 2166 2231 1775 2231 \nQ 1616 2231 1378 2169 \nL 1441 2663 \nQ 1497 2656 1531 2656 \nQ 1891 2656 2178 2843 \nQ 2466 3031 2466 3422 \nQ 2466 3731 2256 3934 \nQ 2047 4138 1716 4138 \nQ 1388 4138 1169 3931 \nQ 950 3725 888 3313 \nL 325 3413 \nQ 428 3978 793 4289 \nQ 1159 4600 1703 4600 \nQ 2078 4600 2393 4439 \nQ 2709 4278 2876 4000 \nQ 3044 3722 3044 3409 \nQ 3044 3113 2884 2869 \nQ 2725 2625 2413 2481 \nQ 2819 2388 3044 2092 \nQ 3269 1797 3269 1353 \nQ 3269 753 2831 336 \nQ 2394 -81 1725 -81 \nQ 1122 -81 723 278 \nQ 325 638 269 1209 \nz\n\" transform=\"scale(0.015625)\"/>\n       </defs>\n       <use xlink:href=\"#ArialMT-30\"/>\n       <use xlink:href=\"#ArialMT-2e\" x=\"55.615234\"/>\n       <use xlink:href=\"#ArialMT-33\" x=\"83.398438\"/>\n      </g>\n     </g>\n    </g>\n    <g id=\"xtick_5\">\n     <g id=\"line2d_5\">\n      <path d=\"M 253.737765 224.64 \nL 253.737765 7.2 \n\" clip-path=\"url(#p6d1b329ba9)\" style=\"fill: none; stroke: #ffffff; stroke-linecap: round\"/>\n     </g>\n     <g id=\"text_5\">\n      <!-- 0.4 -->\n      <g style=\"fill: #262626\" transform=\"translate(246.092765 242.013594)scale(0.11 -0.11)\">\n       <defs>\n        <path id=\"ArialMT-34\" d=\"M 2069 0 \nL 2069 1097 \nL 81 1097 \nL 81 1613 \nL 2172 4581 \nL 2631 4581 \nL 2631 1613 \nL 3250 1613 \nL 3250 1097 \nL 2631 1097 \nL 2631 0 \nL 2069 0 \nz\nM 2069 1613 \nL 2069 3678 \nL 634 1613 \nL 2069 1613 \nz\n\" transform=\"scale(0.015625)\"/>\n       </defs>\n       <use xlink:href=\"#ArialMT-30\"/>\n       <use xlink:href=\"#ArialMT-2e\" x=\"55.615234\"/>\n       <use xlink:href=\"#ArialMT-34\" x=\"83.398438\"/>\n      </g>\n     </g>\n    </g>\n    <g id=\"xtick_6\">\n     <g id=\"line2d_6\">\n      <path d=\"M 305.890019 224.64 \nL 305.890019 7.2 \n\" clip-path=\"url(#p6d1b329ba9)\" style=\"fill: none; stroke: #ffffff; stroke-linecap: round\"/>\n     </g>\n     <g id=\"text_6\">\n      <!-- 0.5 -->\n      <g style=\"fill: #262626\" transform=\"translate(298.245019 242.013594)scale(0.11 -0.11)\">\n       <defs>\n        <path id=\"ArialMT-35\" d=\"M 266 1200 \nL 856 1250 \nQ 922 819 1161 601 \nQ 1400 384 1738 384 \nQ 2144 384 2425 690 \nQ 2706 997 2706 1503 \nQ 2706 1984 2436 2262 \nQ 2166 2541 1728 2541 \nQ 1456 2541 1237 2417 \nQ 1019 2294 894 2097 \nL 366 2166 \nL 809 4519 \nL 3088 4519 \nL 3088 3981 \nL 1259 3981 \nL 1013 2750 \nQ 1425 3038 1878 3038 \nQ 2478 3038 2890 2622 \nQ 3303 2206 3303 1553 \nQ 3303 931 2941 478 \nQ 2500 -78 1738 -78 \nQ 1113 -78 717 272 \nQ 322 622 266 1200 \nz\n\" transform=\"scale(0.015625)\"/>\n       </defs>\n       <use xlink:href=\"#ArialMT-30\"/>\n       <use xlink:href=\"#ArialMT-2e\" x=\"55.615234\"/>\n       <use xlink:href=\"#ArialMT-35\" x=\"83.398438\"/>\n      </g>\n     </g>\n    </g>\n    <g id=\"xtick_7\">\n     <g id=\"line2d_7\">\n      <path d=\"M 358.042272 224.64 \nL 358.042272 7.2 \n\" clip-path=\"url(#p6d1b329ba9)\" style=\"fill: none; stroke: #ffffff; stroke-linecap: round\"/>\n     </g>\n     <g id=\"text_7\">\n      <!-- 0.6 -->\n      <g style=\"fill: #262626\" transform=\"translate(350.397272 242.013594)scale(0.11 -0.11)\">\n       <defs>\n        <path id=\"ArialMT-36\" d=\"M 3184 3459 \nL 2625 3416 \nQ 2550 3747 2413 3897 \nQ 2184 4138 1850 4138 \nQ 1581 4138 1378 3988 \nQ 1113 3794 959 3422 \nQ 806 3050 800 2363 \nQ 1003 2672 1297 2822 \nQ 1591 2972 1913 2972 \nQ 2475 2972 2870 2558 \nQ 3266 2144 3266 1488 \nQ 3266 1056 3080 686 \nQ 2894 316 2569 119 \nQ 2244 -78 1831 -78 \nQ 1128 -78 684 439 \nQ 241 956 241 2144 \nQ 241 3472 731 4075 \nQ 1159 4600 1884 4600 \nQ 2425 4600 2770 4297 \nQ 3116 3994 3184 3459 \nz\nM 888 1484 \nQ 888 1194 1011 928 \nQ 1134 663 1356 523 \nQ 1578 384 1822 384 \nQ 2178 384 2434 671 \nQ 2691 959 2691 1453 \nQ 2691 1928 2437 2201 \nQ 2184 2475 1800 2475 \nQ 1419 2475 1153 2201 \nQ 888 1928 888 1484 \nz\n\" transform=\"scale(0.015625)\"/>\n       </defs>\n       <use xlink:href=\"#ArialMT-30\"/>\n       <use xlink:href=\"#ArialMT-2e\" x=\"55.615234\"/>\n       <use xlink:href=\"#ArialMT-36\" x=\"83.398438\"/>\n      </g>\n     </g>\n    </g>\n    <g id=\"text_8\">\n     <!-- importance -->\n     <g style=\"fill: #262626\" transform=\"translate(182.850313 256.789219)scale(0.12 -0.12)\">\n      <defs>\n       <path id=\"ArialMT-69\" d=\"M 425 3934 \nL 425 4581 \nL 988 4581 \nL 988 3934 \nL 425 3934 \nz\nM 425 0 \nL 425 3319 \nL 988 3319 \nL 988 0 \nL 425 0 \nz\n\" transform=\"scale(0.015625)\"/>\n       <path id=\"ArialMT-6d\" d=\"M 422 0 \nL 422 3319 \nL 925 3319 \nL 925 2853 \nQ 1081 3097 1340 3245 \nQ 1600 3394 1931 3394 \nQ 2300 3394 2536 3241 \nQ 2772 3088 2869 2813 \nQ 3263 3394 3894 3394 \nQ 4388 3394 4653 3120 \nQ 4919 2847 4919 2278 \nL 4919 0 \nL 4359 0 \nL 4359 2091 \nQ 4359 2428 4304 2576 \nQ 4250 2725 4106 2815 \nQ 3963 2906 3769 2906 \nQ 3419 2906 3187 2673 \nQ 2956 2441 2956 1928 \nL 2956 0 \nL 2394 0 \nL 2394 2156 \nQ 2394 2531 2256 2718 \nQ 2119 2906 1806 2906 \nQ 1569 2906 1367 2781 \nQ 1166 2656 1075 2415 \nQ 984 2175 984 1722 \nL 984 0 \nL 422 0 \nz\n\" transform=\"scale(0.015625)\"/>\n       <path id=\"ArialMT-70\" d=\"M 422 -1272 \nL 422 3319 \nL 934 3319 \nL 934 2888 \nQ 1116 3141 1344 3267 \nQ 1572 3394 1897 3394 \nQ 2322 3394 2647 3175 \nQ 2972 2956 3137 2557 \nQ 3303 2159 3303 1684 \nQ 3303 1175 3120 767 \nQ 2938 359 2589 142 \nQ 2241 -75 1856 -75 \nQ 1575 -75 1351 44 \nQ 1128 163 984 344 \nL 984 -1272 \nL 422 -1272 \nz\nM 931 1641 \nQ 931 1000 1190 694 \nQ 1450 388 1819 388 \nQ 2194 388 2461 705 \nQ 2728 1022 2728 1688 \nQ 2728 2322 2467 2637 \nQ 2206 2953 1844 2953 \nQ 1484 2953 1207 2617 \nQ 931 2281 931 1641 \nz\n\" transform=\"scale(0.015625)\"/>\n       <path id=\"ArialMT-6f\" d=\"M 213 1659 \nQ 213 2581 725 3025 \nQ 1153 3394 1769 3394 \nQ 2453 3394 2887 2945 \nQ 3322 2497 3322 1706 \nQ 3322 1066 3130 698 \nQ 2938 331 2570 128 \nQ 2203 -75 1769 -75 \nQ 1072 -75 642 372 \nQ 213 819 213 1659 \nz\nM 791 1659 \nQ 791 1022 1069 705 \nQ 1347 388 1769 388 \nQ 2188 388 2466 706 \nQ 2744 1025 2744 1678 \nQ 2744 2294 2464 2611 \nQ 2184 2928 1769 2928 \nQ 1347 2928 1069 2612 \nQ 791 2297 791 1659 \nz\n\" transform=\"scale(0.015625)\"/>\n       <path id=\"ArialMT-72\" d=\"M 416 0 \nL 416 3319 \nL 922 3319 \nL 922 2816 \nQ 1116 3169 1280 3281 \nQ 1444 3394 1641 3394 \nQ 1925 3394 2219 3213 \nL 2025 2691 \nQ 1819 2813 1613 2813 \nQ 1428 2813 1281 2702 \nQ 1134 2591 1072 2394 \nQ 978 2094 978 1738 \nL 978 0 \nL 416 0 \nz\n\" transform=\"scale(0.015625)\"/>\n       <path id=\"ArialMT-74\" d=\"M 1650 503 \nL 1731 6 \nQ 1494 -44 1306 -44 \nQ 1000 -44 831 53 \nQ 663 150 594 308 \nQ 525 466 525 972 \nL 525 2881 \nL 113 2881 \nL 113 3319 \nL 525 3319 \nL 525 4141 \nL 1084 4478 \nL 1084 3319 \nL 1650 3319 \nL 1650 2881 \nL 1084 2881 \nL 1084 941 \nQ 1084 700 1114 631 \nQ 1144 563 1211 522 \nQ 1278 481 1403 481 \nQ 1497 481 1650 503 \nz\n\" transform=\"scale(0.015625)\"/>\n       <path id=\"ArialMT-61\" d=\"M 2588 409 \nQ 2275 144 1986 34 \nQ 1697 -75 1366 -75 \nQ 819 -75 525 192 \nQ 231 459 231 875 \nQ 231 1119 342 1320 \nQ 453 1522 633 1644 \nQ 813 1766 1038 1828 \nQ 1203 1872 1538 1913 \nQ 2219 1994 2541 2106 \nQ 2544 2222 2544 2253 \nQ 2544 2597 2384 2738 \nQ 2169 2928 1744 2928 \nQ 1347 2928 1158 2789 \nQ 969 2650 878 2297 \nL 328 2372 \nQ 403 2725 575 2942 \nQ 747 3159 1072 3276 \nQ 1397 3394 1825 3394 \nQ 2250 3394 2515 3294 \nQ 2781 3194 2906 3042 \nQ 3031 2891 3081 2659 \nQ 3109 2516 3109 2141 \nL 3109 1391 \nQ 3109 606 3145 398 \nQ 3181 191 3288 0 \nL 2700 0 \nQ 2613 175 2588 409 \nz\nM 2541 1666 \nQ 2234 1541 1622 1453 \nQ 1275 1403 1131 1340 \nQ 988 1278 909 1158 \nQ 831 1038 831 891 \nQ 831 666 1001 516 \nQ 1172 366 1500 366 \nQ 1825 366 2078 508 \nQ 2331 650 2450 897 \nQ 2541 1088 2541 1459 \nL 2541 1666 \nz\n\" transform=\"scale(0.015625)\"/>\n       <path id=\"ArialMT-6e\" d=\"M 422 0 \nL 422 3319 \nL 928 3319 \nL 928 2847 \nQ 1294 3394 1984 3394 \nQ 2284 3394 2536 3286 \nQ 2788 3178 2913 3003 \nQ 3038 2828 3088 2588 \nQ 3119 2431 3119 2041 \nL 3119 0 \nL 2556 0 \nL 2556 2019 \nQ 2556 2363 2490 2533 \nQ 2425 2703 2258 2804 \nQ 2091 2906 1866 2906 \nQ 1506 2906 1245 2678 \nQ 984 2450 984 1813 \nL 984 0 \nL 422 0 \nz\n\" transform=\"scale(0.015625)\"/>\n       <path id=\"ArialMT-63\" d=\"M 2588 1216 \nL 3141 1144 \nQ 3050 572 2676 248 \nQ 2303 -75 1759 -75 \nQ 1078 -75 664 370 \nQ 250 816 250 1647 \nQ 250 2184 428 2587 \nQ 606 2991 970 3192 \nQ 1334 3394 1763 3394 \nQ 2303 3394 2647 3120 \nQ 2991 2847 3088 2344 \nL 2541 2259 \nQ 2463 2594 2264 2762 \nQ 2066 2931 1784 2931 \nQ 1359 2931 1093 2626 \nQ 828 2322 828 1663 \nQ 828 994 1084 691 \nQ 1341 388 1753 388 \nQ 2084 388 2306 591 \nQ 2528 794 2588 1216 \nz\n\" transform=\"scale(0.015625)\"/>\n       <path id=\"ArialMT-65\" d=\"M 2694 1069 \nL 3275 997 \nQ 3138 488 2766 206 \nQ 2394 -75 1816 -75 \nQ 1088 -75 661 373 \nQ 234 822 234 1631 \nQ 234 2469 665 2931 \nQ 1097 3394 1784 3394 \nQ 2450 3394 2872 2941 \nQ 3294 2488 3294 1666 \nQ 3294 1616 3291 1516 \nL 816 1516 \nQ 847 969 1125 678 \nQ 1403 388 1819 388 \nQ 2128 388 2347 550 \nQ 2566 713 2694 1069 \nz\nM 847 1978 \nL 2700 1978 \nQ 2663 2397 2488 2606 \nQ 2219 2931 1791 2931 \nQ 1403 2931 1139 2672 \nQ 875 2413 847 1978 \nz\n\" transform=\"scale(0.015625)\"/>\n      </defs>\n      <use xlink:href=\"#ArialMT-69\"/>\n      <use xlink:href=\"#ArialMT-6d\" x=\"22.216797\"/>\n      <use xlink:href=\"#ArialMT-70\" x=\"105.517578\"/>\n      <use xlink:href=\"#ArialMT-6f\" x=\"161.132812\"/>\n      <use xlink:href=\"#ArialMT-72\" x=\"216.748047\"/>\n      <use xlink:href=\"#ArialMT-74\" x=\"250.048828\"/>\n      <use xlink:href=\"#ArialMT-61\" x=\"277.832031\"/>\n      <use xlink:href=\"#ArialMT-6e\" x=\"333.447266\"/>\n      <use xlink:href=\"#ArialMT-63\" x=\"389.0625\"/>\n      <use xlink:href=\"#ArialMT-65\" x=\"439.0625\"/>\n     </g>\n    </g>\n   </g>\n   <g id=\"matplotlib.axis_2\">\n    <g id=\"ytick_1\">\n     <g id=\"line2d_8\">\n      <path d=\"M 45.12875 186.517403 \nL 379.92875 186.517403 \n\" clip-path=\"url(#p6d1b329ba9)\" style=\"fill: none; stroke: #ffffff; stroke-linecap: round\"/>\n     </g>\n     <g id=\"text_9\">\n      <!-- X1 -->\n      <g style=\"fill: #262626\" transform=\"translate(22.174375 190.454199)scale(0.11 -0.11)\">\n       <defs>\n        <path id=\"ArialMT-58\" d=\"M 28 0 \nL 1800 2388 \nL 238 4581 \nL 959 4581 \nL 1791 3406 \nQ 2050 3041 2159 2844 \nQ 2313 3094 2522 3366 \nL 3444 4581 \nL 4103 4581 \nL 2494 2422 \nL 4228 0 \nL 3478 0 \nL 2325 1634 \nQ 2228 1775 2125 1941 \nQ 1972 1691 1906 1597 \nL 756 0 \nL 28 0 \nz\n\" transform=\"scale(0.015625)\"/>\n       </defs>\n       <use xlink:href=\"#ArialMT-58\"/>\n       <use xlink:href=\"#ArialMT-31\" x=\"66.699219\"/>\n      </g>\n     </g>\n    </g>\n    <g id=\"ytick_2\">\n     <g id=\"line2d_9\">\n      <path d=\"M 45.12875 115.92 \nL 379.92875 115.92 \n\" clip-path=\"url(#p6d1b329ba9)\" style=\"fill: none; stroke: #ffffff; stroke-linecap: round\"/>\n     </g>\n     <g id=\"text_10\">\n      <!-- X2 -->\n      <g style=\"fill: #262626\" transform=\"translate(22.174375 119.856797)scale(0.11 -0.11)\">\n       <use xlink:href=\"#ArialMT-58\"/>\n       <use xlink:href=\"#ArialMT-32\" x=\"66.699219\"/>\n      </g>\n     </g>\n    </g>\n    <g id=\"ytick_3\">\n     <g id=\"line2d_10\">\n      <path d=\"M 45.12875 45.322597 \nL 379.92875 45.322597 \n\" clip-path=\"url(#p6d1b329ba9)\" style=\"fill: none; stroke: #ffffff; stroke-linecap: round\"/>\n     </g>\n     <g id=\"text_11\">\n      <!-- X3 -->\n      <g style=\"fill: #262626\" transform=\"translate(22.174375 49.259394)scale(0.11 -0.11)\">\n       <use xlink:href=\"#ArialMT-58\"/>\n       <use xlink:href=\"#ArialMT-33\" x=\"66.699219\"/>\n      </g>\n     </g>\n    </g>\n    <g id=\"text_12\">\n     <!-- features -->\n     <g style=\"fill: #262626\" transform=\"translate(15.789375 137.597812)rotate(-90)scale(0.12 -0.12)\">\n      <defs>\n       <path id=\"ArialMT-66\" d=\"M 556 0 \nL 556 2881 \nL 59 2881 \nL 59 3319 \nL 556 3319 \nL 556 3672 \nQ 556 4006 616 4169 \nQ 697 4388 901 4523 \nQ 1106 4659 1475 4659 \nQ 1713 4659 2000 4603 \nL 1916 4113 \nQ 1741 4144 1584 4144 \nQ 1328 4144 1222 4034 \nQ 1116 3925 1116 3625 \nL 1116 3319 \nL 1763 3319 \nL 1763 2881 \nL 1116 2881 \nL 1116 0 \nL 556 0 \nz\n\" transform=\"scale(0.015625)\"/>\n       <path id=\"ArialMT-75\" d=\"M 2597 0 \nL 2597 488 \nQ 2209 -75 1544 -75 \nQ 1250 -75 995 37 \nQ 741 150 617 320 \nQ 494 491 444 738 \nQ 409 903 409 1263 \nL 409 3319 \nL 972 3319 \nL 972 1478 \nQ 972 1038 1006 884 \nQ 1059 663 1231 536 \nQ 1403 409 1656 409 \nQ 1909 409 2131 539 \nQ 2353 669 2445 892 \nQ 2538 1116 2538 1541 \nL 2538 3319 \nL 3100 3319 \nL 3100 0 \nL 2597 0 \nz\n\" transform=\"scale(0.015625)\"/>\n       <path id=\"ArialMT-73\" d=\"M 197 991 \nL 753 1078 \nQ 800 744 1014 566 \nQ 1228 388 1613 388 \nQ 2000 388 2187 545 \nQ 2375 703 2375 916 \nQ 2375 1106 2209 1216 \nQ 2094 1291 1634 1406 \nQ 1016 1563 777 1677 \nQ 538 1791 414 1992 \nQ 291 2194 291 2438 \nQ 291 2659 392 2848 \nQ 494 3038 669 3163 \nQ 800 3259 1026 3326 \nQ 1253 3394 1513 3394 \nQ 1903 3394 2198 3281 \nQ 2494 3169 2634 2976 \nQ 2775 2784 2828 2463 \nL 2278 2388 \nQ 2241 2644 2061 2787 \nQ 1881 2931 1553 2931 \nQ 1166 2931 1000 2803 \nQ 834 2675 834 2503 \nQ 834 2394 903 2306 \nQ 972 2216 1119 2156 \nQ 1203 2125 1616 2013 \nQ 2213 1853 2448 1751 \nQ 2684 1650 2818 1456 \nQ 2953 1263 2953 975 \nQ 2953 694 2789 445 \nQ 2625 197 2315 61 \nQ 2006 -75 1616 -75 \nQ 969 -75 630 194 \nQ 291 463 197 991 \nz\n\" transform=\"scale(0.015625)\"/>\n      </defs>\n      <use xlink:href=\"#ArialMT-66\"/>\n      <use xlink:href=\"#ArialMT-65\" x=\"27.783203\"/>\n      <use xlink:href=\"#ArialMT-61\" x=\"83.398438\"/>\n      <use xlink:href=\"#ArialMT-74\" x=\"139.013672\"/>\n      <use xlink:href=\"#ArialMT-75\" x=\"166.796875\"/>\n      <use xlink:href=\"#ArialMT-72\" x=\"222.412109\"/>\n      <use xlink:href=\"#ArialMT-65\" x=\"255.712891\"/>\n      <use xlink:href=\"#ArialMT-73\" x=\"311.328125\"/>\n     </g>\n    </g>\n   </g>\n   <g id=\"patch_3\">\n    <path d=\"M 45.12875 214.756364 \nL 247.794176 214.756364 \nL 247.794176 158.278442 \nL 45.12875 158.278442 \nz\n\" clip-path=\"url(#p6d1b329ba9)\" style=\"fill: #4c72b0; stroke: #ffffff; stroke-linejoin: miter\"/>\n   </g>\n   <g id=\"patch_4\">\n    <path d=\"M 45.12875 144.158961 \nL 363.985893 144.158961 \nL 363.985893 87.681039 \nL 45.12875 87.681039 \nz\n\" clip-path=\"url(#p6d1b329ba9)\" style=\"fill: #4c72b0; stroke: #ffffff; stroke-linejoin: miter\"/>\n   </g>\n   <g id=\"patch_5\">\n    <path d=\"M 45.12875 73.561558 \nL 45.12875 73.561558 \nL 45.12875 17.083636 \nL 45.12875 17.083636 \nz\n\" clip-path=\"url(#p6d1b329ba9)\" style=\"fill: #4c72b0; stroke: #ffffff; stroke-linejoin: miter\"/>\n   </g>\n   <g id=\"patch_6\">\n    <path d=\"M 45.12875 224.64 \nL 45.12875 7.2 \n\" style=\"fill: none; stroke: #ffffff; stroke-width: 1.25; stroke-linejoin: miter; stroke-linecap: square\"/>\n   </g>\n   <g id=\"patch_7\">\n    <path d=\"M 379.92875 224.64 \nL 379.92875 7.2 \n\" style=\"fill: none; stroke: #ffffff; stroke-width: 1.25; stroke-linejoin: miter; stroke-linecap: square\"/>\n   </g>\n   <g id=\"patch_8\">\n    <path d=\"M 45.12875 224.64 \nL 379.92875 224.64 \n\" style=\"fill: none; stroke: #ffffff; stroke-width: 1.25; stroke-linejoin: miter; stroke-linecap: square\"/>\n   </g>\n   <g id=\"patch_9\">\n    <path d=\"M 45.12875 7.2 \nL 379.92875 7.2 \n\" style=\"fill: none; stroke: #ffffff; stroke-width: 1.25; stroke-linejoin: miter; stroke-linecap: square\"/>\n   </g>\n  </g>\n </g>\n <defs>\n  <clipPath id=\"p6d1b329ba9\">\n   <rect x=\"45.12875\" y=\"7.2\" width=\"334.8\" height=\"217.44\"/>\n  </clipPath>\n </defs>\n</svg>\n",
      "text/plain": [
       "<Figure size 900x600 with 1 Axes>"
      ]
     },
     "metadata": {},
     "output_type": "display_data"
    }
   ],
   "source": [
    "def plot_feature_importances(model):\n",
    "      n_features = X.shape[1]\n",
    "      plt.barh(range(n_features),model.feature_importances_,align=\"center\")\n",
    "      plt.yticks(np.arange(n_features),X)\n",
    "      plt.xlabel(\"importance\")\n",
    "      plt.ylabel(\"features\")\n",
    "      plt.show\n",
    "\n",
    "plot_feature_importances(xgb)\n",
    "   "
   ]
  },
  {
   "cell_type": "markdown",
   "metadata": {},
   "source": [
    "### Generating Explanations for XGBoost"
   ]
  },
  {
   "cell_type": "code",
   "execution_count": null,
   "metadata": {},
   "outputs": [
    {
     "data": {
      "text/plain": [
       "<lime.lime_tabular.LimeTabularExplainer at 0x148644ac0>"
      ]
     },
     "execution_count": 10,
     "metadata": {},
     "output_type": "execute_result"
    }
   ],
   "source": [
    "from  lime.lime_tabular import LimeTabularExplainer\n",
    "explainer = LimeTabularExplainer(X_train, feature_names=features, class_names=[\"Y:0\", \"Y:1\"])\n",
    "explainer"
   ]
  },
  {
   "cell_type": "code",
   "execution_count": null,
   "metadata": {},
   "outputs": [
    {
     "name": "stdout",
     "output_type": "stream",
     "text": [
      "Prediction: 1\n"
     ]
    },
    {
     "name": "stderr",
     "output_type": "stream",
     "text": [
      "/usr/local/anaconda3/envs/python_base/lib/python3.10/site-packages/lime/lime_tabular.py:372: UserWarning: \n",
      "                    Prediction probabilties do not sum to 1, and\n",
      "                    thus does not constitute a probability space.\n",
      "                    Check that you classifier outputs probabilities\n",
      "                    (Not log probabilities, or actual class predictions).\n",
      "                    \n",
      "  warnings.warn(\"\"\"\n"
     ]
    },
    {
     "data": {
      "image/svg+xml": "<?xml version=\"1.0\" encoding=\"utf-8\" standalone=\"no\"?>\n<!DOCTYPE svg PUBLIC \"-//W3C//DTD SVG 1.1//EN\"\n  \"http://www.w3.org/Graphics/SVG/1.1/DTD/svg11.dtd\">\n<svg xmlns:xlink=\"http://www.w3.org/1999/xlink\" width=\"446.46625pt\" height=\"266.135469pt\" viewBox=\"0 0 446.46625 266.135469\" xmlns=\"http://www.w3.org/2000/svg\" version=\"1.1\">\n <metadata>\n  <rdf:RDF xmlns:dc=\"http://purl.org/dc/elements/1.1/\" xmlns:cc=\"http://creativecommons.org/ns#\" xmlns:rdf=\"http://www.w3.org/1999/02/22-rdf-syntax-ns#\">\n   <cc:Work>\n    <dc:type rdf:resource=\"http://purl.org/dc/dcmitype/StillImage\"/>\n    <dc:date>2022-07-06T16:26:57.409208</dc:date>\n    <dc:format>image/svg+xml</dc:format>\n    <dc:creator>\n     <cc:Agent>\n      <dc:title>Matplotlib v3.5.2, https://matplotlib.org/</dc:title>\n     </cc:Agent>\n    </dc:creator>\n   </cc:Work>\n  </rdf:RDF>\n </metadata>\n <defs>\n  <style type=\"text/css\">*{stroke-linejoin: round; stroke-linecap: butt}</style>\n </defs>\n <g id=\"figure_1\">\n  <g id=\"patch_1\">\n   <path d=\"M 0 266.135469 \nL 446.46625 266.135469 \nL 446.46625 0 \nL 0 0 \nz\n\" style=\"fill: #ffffff\"/>\n  </g>\n  <g id=\"axes_1\">\n   <g id=\"patch_2\">\n    <path d=\"M 104.46625 239.375625 \nL 439.26625 239.375625 \nL 439.26625 21.935625 \nL 104.46625 21.935625 \nz\n\" style=\"fill: #eaeaf2\"/>\n   </g>\n   <g id=\"matplotlib.axis_1\">\n    <g id=\"xtick_1\">\n     <g id=\"line2d_1\">\n      <path d=\"M 104.46625 239.375625 \nL 104.46625 21.935625 \n\" clip-path=\"url(#p4cf5ab3d28)\" style=\"fill: none; stroke: #ffffff; stroke-linecap: round\"/>\n     </g>\n     <g id=\"text_1\">\n      <!-- 0.0 -->\n      <g style=\"fill: #262626\" transform=\"translate(96.82125 256.749219)scale(0.11 -0.11)\">\n       <defs>\n        <path id=\"ArialMT-30\" d=\"M 266 2259 \nQ 266 3072 433 3567 \nQ 600 4063 929 4331 \nQ 1259 4600 1759 4600 \nQ 2128 4600 2406 4451 \nQ 2684 4303 2865 4023 \nQ 3047 3744 3150 3342 \nQ 3253 2941 3253 2259 \nQ 3253 1453 3087 958 \nQ 2922 463 2592 192 \nQ 2263 -78 1759 -78 \nQ 1097 -78 719 397 \nQ 266 969 266 2259 \nz\nM 844 2259 \nQ 844 1131 1108 757 \nQ 1372 384 1759 384 \nQ 2147 384 2411 759 \nQ 2675 1134 2675 2259 \nQ 2675 3391 2411 3762 \nQ 2147 4134 1753 4134 \nQ 1366 4134 1134 3806 \nQ 844 3388 844 2259 \nz\n\" transform=\"scale(0.015625)\"/>\n        <path id=\"ArialMT-2e\" d=\"M 581 0 \nL 581 641 \nL 1222 641 \nL 1222 0 \nL 581 0 \nz\n\" transform=\"scale(0.015625)\"/>\n       </defs>\n       <use xlink:href=\"#ArialMT-30\"/>\n       <use xlink:href=\"#ArialMT-2e\" x=\"55.615234\"/>\n       <use xlink:href=\"#ArialMT-30\" x=\"83.398438\"/>\n      </g>\n     </g>\n    </g>\n    <g id=\"xtick_2\">\n     <g id=\"line2d_2\">\n      <path d=\"M 169.258188 239.375625 \nL 169.258188 21.935625 \n\" clip-path=\"url(#p4cf5ab3d28)\" style=\"fill: none; stroke: #ffffff; stroke-linecap: round\"/>\n     </g>\n     <g id=\"text_2\">\n      <!-- 0.1 -->\n      <g style=\"fill: #262626\" transform=\"translate(161.613188 256.749219)scale(0.11 -0.11)\">\n       <defs>\n        <path id=\"ArialMT-31\" d=\"M 2384 0 \nL 1822 0 \nL 1822 3584 \nQ 1619 3391 1289 3197 \nQ 959 3003 697 2906 \nL 697 3450 \nQ 1169 3672 1522 3987 \nQ 1875 4303 2022 4600 \nL 2384 4600 \nL 2384 0 \nz\n\" transform=\"scale(0.015625)\"/>\n       </defs>\n       <use xlink:href=\"#ArialMT-30\"/>\n       <use xlink:href=\"#ArialMT-2e\" x=\"55.615234\"/>\n       <use xlink:href=\"#ArialMT-31\" x=\"83.398438\"/>\n      </g>\n     </g>\n    </g>\n    <g id=\"xtick_3\">\n     <g id=\"line2d_3\">\n      <path d=\"M 234.050126 239.375625 \nL 234.050126 21.935625 \n\" clip-path=\"url(#p4cf5ab3d28)\" style=\"fill: none; stroke: #ffffff; stroke-linecap: round\"/>\n     </g>\n     <g id=\"text_3\">\n      <!-- 0.2 -->\n      <g style=\"fill: #262626\" transform=\"translate(226.405126 256.749219)scale(0.11 -0.11)\">\n       <defs>\n        <path id=\"ArialMT-32\" d=\"M 3222 541 \nL 3222 0 \nL 194 0 \nQ 188 203 259 391 \nQ 375 700 629 1000 \nQ 884 1300 1366 1694 \nQ 2113 2306 2375 2664 \nQ 2638 3022 2638 3341 \nQ 2638 3675 2398 3904 \nQ 2159 4134 1775 4134 \nQ 1369 4134 1125 3890 \nQ 881 3647 878 3216 \nL 300 3275 \nQ 359 3922 746 4261 \nQ 1134 4600 1788 4600 \nQ 2447 4600 2831 4234 \nQ 3216 3869 3216 3328 \nQ 3216 3053 3103 2787 \nQ 2991 2522 2730 2228 \nQ 2469 1934 1863 1422 \nQ 1356 997 1212 845 \nQ 1069 694 975 541 \nL 3222 541 \nz\n\" transform=\"scale(0.015625)\"/>\n       </defs>\n       <use xlink:href=\"#ArialMT-30\"/>\n       <use xlink:href=\"#ArialMT-2e\" x=\"55.615234\"/>\n       <use xlink:href=\"#ArialMT-32\" x=\"83.398438\"/>\n      </g>\n     </g>\n    </g>\n    <g id=\"xtick_4\">\n     <g id=\"line2d_4\">\n      <path d=\"M 298.842064 239.375625 \nL 298.842064 21.935625 \n\" clip-path=\"url(#p4cf5ab3d28)\" style=\"fill: none; stroke: #ffffff; stroke-linecap: round\"/>\n     </g>\n     <g id=\"text_4\">\n      <!-- 0.3 -->\n      <g style=\"fill: #262626\" transform=\"translate(291.197064 256.749219)scale(0.11 -0.11)\">\n       <defs>\n        <path id=\"ArialMT-33\" d=\"M 269 1209 \nL 831 1284 \nQ 928 806 1161 595 \nQ 1394 384 1728 384 \nQ 2125 384 2398 659 \nQ 2672 934 2672 1341 \nQ 2672 1728 2419 1979 \nQ 2166 2231 1775 2231 \nQ 1616 2231 1378 2169 \nL 1441 2663 \nQ 1497 2656 1531 2656 \nQ 1891 2656 2178 2843 \nQ 2466 3031 2466 3422 \nQ 2466 3731 2256 3934 \nQ 2047 4138 1716 4138 \nQ 1388 4138 1169 3931 \nQ 950 3725 888 3313 \nL 325 3413 \nQ 428 3978 793 4289 \nQ 1159 4600 1703 4600 \nQ 2078 4600 2393 4439 \nQ 2709 4278 2876 4000 \nQ 3044 3722 3044 3409 \nQ 3044 3113 2884 2869 \nQ 2725 2625 2413 2481 \nQ 2819 2388 3044 2092 \nQ 3269 1797 3269 1353 \nQ 3269 753 2831 336 \nQ 2394 -81 1725 -81 \nQ 1122 -81 723 278 \nQ 325 638 269 1209 \nz\n\" transform=\"scale(0.015625)\"/>\n       </defs>\n       <use xlink:href=\"#ArialMT-30\"/>\n       <use xlink:href=\"#ArialMT-2e\" x=\"55.615234\"/>\n       <use xlink:href=\"#ArialMT-33\" x=\"83.398438\"/>\n      </g>\n     </g>\n    </g>\n    <g id=\"xtick_5\">\n     <g id=\"line2d_5\">\n      <path d=\"M 363.634002 239.375625 \nL 363.634002 21.935625 \n\" clip-path=\"url(#p4cf5ab3d28)\" style=\"fill: none; stroke: #ffffff; stroke-linecap: round\"/>\n     </g>\n     <g id=\"text_5\">\n      <!-- 0.4 -->\n      <g style=\"fill: #262626\" transform=\"translate(355.989002 256.749219)scale(0.11 -0.11)\">\n       <defs>\n        <path id=\"ArialMT-34\" d=\"M 2069 0 \nL 2069 1097 \nL 81 1097 \nL 81 1613 \nL 2172 4581 \nL 2631 4581 \nL 2631 1613 \nL 3250 1613 \nL 3250 1097 \nL 2631 1097 \nL 2631 0 \nL 2069 0 \nz\nM 2069 1613 \nL 2069 3678 \nL 634 1613 \nL 2069 1613 \nz\n\" transform=\"scale(0.015625)\"/>\n       </defs>\n       <use xlink:href=\"#ArialMT-30\"/>\n       <use xlink:href=\"#ArialMT-2e\" x=\"55.615234\"/>\n       <use xlink:href=\"#ArialMT-34\" x=\"83.398438\"/>\n      </g>\n     </g>\n    </g>\n    <g id=\"xtick_6\">\n     <g id=\"line2d_6\">\n      <path d=\"M 428.42594 239.375625 \nL 428.42594 21.935625 \n\" clip-path=\"url(#p4cf5ab3d28)\" style=\"fill: none; stroke: #ffffff; stroke-linecap: round\"/>\n     </g>\n     <g id=\"text_6\">\n      <!-- 0.5 -->\n      <g style=\"fill: #262626\" transform=\"translate(420.78094 256.749219)scale(0.11 -0.11)\">\n       <defs>\n        <path id=\"ArialMT-35\" d=\"M 266 1200 \nL 856 1250 \nQ 922 819 1161 601 \nQ 1400 384 1738 384 \nQ 2144 384 2425 690 \nQ 2706 997 2706 1503 \nQ 2706 1984 2436 2262 \nQ 2166 2541 1728 2541 \nQ 1456 2541 1237 2417 \nQ 1019 2294 894 2097 \nL 366 2166 \nL 809 4519 \nL 3088 4519 \nL 3088 3981 \nL 1259 3981 \nL 1013 2750 \nQ 1425 3038 1878 3038 \nQ 2478 3038 2890 2622 \nQ 3303 2206 3303 1553 \nQ 3303 931 2941 478 \nQ 2500 -78 1738 -78 \nQ 1113 -78 717 272 \nQ 322 622 266 1200 \nz\n\" transform=\"scale(0.015625)\"/>\n       </defs>\n       <use xlink:href=\"#ArialMT-30\"/>\n       <use xlink:href=\"#ArialMT-2e\" x=\"55.615234\"/>\n       <use xlink:href=\"#ArialMT-35\" x=\"83.398438\"/>\n      </g>\n     </g>\n    </g>\n   </g>\n   <g id=\"matplotlib.axis_2\">\n    <g id=\"ytick_1\">\n     <g id=\"line2d_7\">\n      <path d=\"M 104.46625 201.253028 \nL 439.26625 201.253028 \n\" clip-path=\"url(#p4cf5ab3d28)\" style=\"fill: none; stroke: #ffffff; stroke-linecap: round\"/>\n     </g>\n     <g id=\"text_7\">\n      <!-- X3 &lt;= 0.24 -->\n      <g style=\"fill: #262626\" transform=\"translate(41.143594 205.189824)scale(0.11 -0.11)\">\n       <defs>\n        <path id=\"ArialMT-58\" d=\"M 28 0 \nL 1800 2388 \nL 238 4581 \nL 959 4581 \nL 1791 3406 \nQ 2050 3041 2159 2844 \nQ 2313 3094 2522 3366 \nL 3444 4581 \nL 4103 4581 \nL 2494 2422 \nL 4228 0 \nL 3478 0 \nL 2325 1634 \nQ 2228 1775 2125 1941 \nQ 1972 1691 1906 1597 \nL 756 0 \nL 28 0 \nz\n\" transform=\"scale(0.015625)\"/>\n        <path id=\"ArialMT-20\" transform=\"scale(0.015625)\"/>\n        <path id=\"ArialMT-3c\" d=\"M 350 2003 \nL 350 2528 \nL 3384 3809 \nL 3384 3250 \nL 978 2263 \nL 3384 1266 \nL 3384 706 \nL 350 2003 \nz\n\" transform=\"scale(0.015625)\"/>\n        <path id=\"ArialMT-3d\" d=\"M 3381 2694 \nL 356 2694 \nL 356 3219 \nL 3381 3219 \nL 3381 2694 \nz\nM 3381 1303 \nL 356 1303 \nL 356 1828 \nL 3381 1828 \nL 3381 1303 \nz\n\" transform=\"scale(0.015625)\"/>\n       </defs>\n       <use xlink:href=\"#ArialMT-58\"/>\n       <use xlink:href=\"#ArialMT-33\" x=\"66.699219\"/>\n       <use xlink:href=\"#ArialMT-20\" x=\"122.314453\"/>\n       <use xlink:href=\"#ArialMT-3c\" x=\"150.097656\"/>\n       <use xlink:href=\"#ArialMT-3d\" x=\"208.496094\"/>\n       <use xlink:href=\"#ArialMT-20\" x=\"266.894531\"/>\n       <use xlink:href=\"#ArialMT-30\" x=\"294.677734\"/>\n       <use xlink:href=\"#ArialMT-2e\" x=\"350.292969\"/>\n       <use xlink:href=\"#ArialMT-32\" x=\"378.076172\"/>\n       <use xlink:href=\"#ArialMT-34\" x=\"433.691406\"/>\n      </g>\n     </g>\n    </g>\n    <g id=\"ytick_2\">\n     <g id=\"line2d_8\">\n      <path d=\"M 104.46625 130.655625 \nL 439.26625 130.655625 \n\" clip-path=\"url(#p4cf5ab3d28)\" style=\"fill: none; stroke: #ffffff; stroke-linecap: round\"/>\n     </g>\n     <g id=\"text_8\">\n      <!-- X2 &lt;= 0.00 -->\n      <g style=\"fill: #262626\" transform=\"translate(41.143594 134.592422)scale(0.11 -0.11)\">\n       <use xlink:href=\"#ArialMT-58\"/>\n       <use xlink:href=\"#ArialMT-32\" x=\"66.699219\"/>\n       <use xlink:href=\"#ArialMT-20\" x=\"122.314453\"/>\n       <use xlink:href=\"#ArialMT-3c\" x=\"150.097656\"/>\n       <use xlink:href=\"#ArialMT-3d\" x=\"208.496094\"/>\n       <use xlink:href=\"#ArialMT-20\" x=\"266.894531\"/>\n       <use xlink:href=\"#ArialMT-30\" x=\"294.677734\"/>\n       <use xlink:href=\"#ArialMT-2e\" x=\"350.292969\"/>\n       <use xlink:href=\"#ArialMT-30\" x=\"378.076172\"/>\n       <use xlink:href=\"#ArialMT-30\" x=\"433.691406\"/>\n      </g>\n     </g>\n    </g>\n    <g id=\"ytick_3\">\n     <g id=\"line2d_9\">\n      <path d=\"M 104.46625 60.058222 \nL 439.26625 60.058222 \n\" clip-path=\"url(#p4cf5ab3d28)\" style=\"fill: none; stroke: #ffffff; stroke-linecap: round\"/>\n     </g>\n     <g id=\"text_9\">\n      <!-- 0.25 &lt; X1 &lt;= 0.50 -->\n      <g style=\"fill: #262626\" transform=\"translate(7.2 63.995019)scale(0.11 -0.11)\">\n       <use xlink:href=\"#ArialMT-30\"/>\n       <use xlink:href=\"#ArialMT-2e\" x=\"55.615234\"/>\n       <use xlink:href=\"#ArialMT-32\" x=\"83.398438\"/>\n       <use xlink:href=\"#ArialMT-35\" x=\"139.013672\"/>\n       <use xlink:href=\"#ArialMT-20\" x=\"194.628906\"/>\n       <use xlink:href=\"#ArialMT-3c\" x=\"222.412109\"/>\n       <use xlink:href=\"#ArialMT-20\" x=\"280.810547\"/>\n       <use xlink:href=\"#ArialMT-58\" x=\"308.59375\"/>\n       <use xlink:href=\"#ArialMT-31\" x=\"375.292969\"/>\n       <use xlink:href=\"#ArialMT-20\" x=\"430.908203\"/>\n       <use xlink:href=\"#ArialMT-3c\" x=\"458.691406\"/>\n       <use xlink:href=\"#ArialMT-3d\" x=\"517.089844\"/>\n       <use xlink:href=\"#ArialMT-20\" x=\"575.488281\"/>\n       <use xlink:href=\"#ArialMT-30\" x=\"603.271484\"/>\n       <use xlink:href=\"#ArialMT-2e\" x=\"658.886719\"/>\n       <use xlink:href=\"#ArialMT-35\" x=\"686.669922\"/>\n       <use xlink:href=\"#ArialMT-30\" x=\"742.285156\"/>\n      </g>\n     </g>\n    </g>\n   </g>\n   <g id=\"patch_3\">\n    <path d=\"M 104.46625 229.491989 \nL 105.567548 229.491989 \nL 105.567548 173.014067 \nL 104.46625 173.014067 \nz\n\" clip-path=\"url(#p4cf5ab3d28)\" style=\"fill: #008000; stroke: #ffffff; stroke-linejoin: miter\"/>\n   </g>\n   <g id=\"patch_4\">\n    <path d=\"M 104.46625 158.894586 \nL 158.918842 158.894586 \nL 158.918842 102.416664 \nL 104.46625 102.416664 \nz\n\" clip-path=\"url(#p4cf5ab3d28)\" style=\"fill: #008000; stroke: #ffffff; stroke-linejoin: miter\"/>\n   </g>\n   <g id=\"patch_5\">\n    <path d=\"M 104.46625 88.297183 \nL 423.323393 88.297183 \nL 423.323393 31.819261 \nL 104.46625 31.819261 \nz\n\" clip-path=\"url(#p4cf5ab3d28)\" style=\"fill: #008000; stroke: #ffffff; stroke-linejoin: miter\"/>\n   </g>\n   <g id=\"patch_6\">\n    <path d=\"M 104.46625 239.375625 \nL 104.46625 21.935625 \n\" style=\"fill: none; stroke: #ffffff; stroke-width: 1.25; stroke-linejoin: miter; stroke-linecap: square\"/>\n   </g>\n   <g id=\"patch_7\">\n    <path d=\"M 439.26625 239.375625 \nL 439.26625 21.935625 \n\" style=\"fill: none; stroke: #ffffff; stroke-width: 1.25; stroke-linejoin: miter; stroke-linecap: square\"/>\n   </g>\n   <g id=\"patch_8\">\n    <path d=\"M 104.46625 239.375625 \nL 439.26625 239.375625 \n\" style=\"fill: none; stroke: #ffffff; stroke-width: 1.25; stroke-linejoin: miter; stroke-linecap: square\"/>\n   </g>\n   <g id=\"patch_9\">\n    <path d=\"M 104.46625 21.935625 \nL 439.26625 21.935625 \n\" style=\"fill: none; stroke: #ffffff; stroke-width: 1.25; stroke-linejoin: miter; stroke-linecap: square\"/>\n   </g>\n   <g id=\"text_10\">\n    <!-- Local explanation for class Y:1 -->\n    <g style=\"fill: #262626\" transform=\"translate(190.925313 15.935625)scale(0.12 -0.12)\">\n     <defs>\n      <path id=\"ArialMT-4c\" d=\"M 469 0 \nL 469 4581 \nL 1075 4581 \nL 1075 541 \nL 3331 541 \nL 3331 0 \nL 469 0 \nz\n\" transform=\"scale(0.015625)\"/>\n      <path id=\"ArialMT-6f\" d=\"M 213 1659 \nQ 213 2581 725 3025 \nQ 1153 3394 1769 3394 \nQ 2453 3394 2887 2945 \nQ 3322 2497 3322 1706 \nQ 3322 1066 3130 698 \nQ 2938 331 2570 128 \nQ 2203 -75 1769 -75 \nQ 1072 -75 642 372 \nQ 213 819 213 1659 \nz\nM 791 1659 \nQ 791 1022 1069 705 \nQ 1347 388 1769 388 \nQ 2188 388 2466 706 \nQ 2744 1025 2744 1678 \nQ 2744 2294 2464 2611 \nQ 2184 2928 1769 2928 \nQ 1347 2928 1069 2612 \nQ 791 2297 791 1659 \nz\n\" transform=\"scale(0.015625)\"/>\n      <path id=\"ArialMT-63\" d=\"M 2588 1216 \nL 3141 1144 \nQ 3050 572 2676 248 \nQ 2303 -75 1759 -75 \nQ 1078 -75 664 370 \nQ 250 816 250 1647 \nQ 250 2184 428 2587 \nQ 606 2991 970 3192 \nQ 1334 3394 1763 3394 \nQ 2303 3394 2647 3120 \nQ 2991 2847 3088 2344 \nL 2541 2259 \nQ 2463 2594 2264 2762 \nQ 2066 2931 1784 2931 \nQ 1359 2931 1093 2626 \nQ 828 2322 828 1663 \nQ 828 994 1084 691 \nQ 1341 388 1753 388 \nQ 2084 388 2306 591 \nQ 2528 794 2588 1216 \nz\n\" transform=\"scale(0.015625)\"/>\n      <path id=\"ArialMT-61\" d=\"M 2588 409 \nQ 2275 144 1986 34 \nQ 1697 -75 1366 -75 \nQ 819 -75 525 192 \nQ 231 459 231 875 \nQ 231 1119 342 1320 \nQ 453 1522 633 1644 \nQ 813 1766 1038 1828 \nQ 1203 1872 1538 1913 \nQ 2219 1994 2541 2106 \nQ 2544 2222 2544 2253 \nQ 2544 2597 2384 2738 \nQ 2169 2928 1744 2928 \nQ 1347 2928 1158 2789 \nQ 969 2650 878 2297 \nL 328 2372 \nQ 403 2725 575 2942 \nQ 747 3159 1072 3276 \nQ 1397 3394 1825 3394 \nQ 2250 3394 2515 3294 \nQ 2781 3194 2906 3042 \nQ 3031 2891 3081 2659 \nQ 3109 2516 3109 2141 \nL 3109 1391 \nQ 3109 606 3145 398 \nQ 3181 191 3288 0 \nL 2700 0 \nQ 2613 175 2588 409 \nz\nM 2541 1666 \nQ 2234 1541 1622 1453 \nQ 1275 1403 1131 1340 \nQ 988 1278 909 1158 \nQ 831 1038 831 891 \nQ 831 666 1001 516 \nQ 1172 366 1500 366 \nQ 1825 366 2078 508 \nQ 2331 650 2450 897 \nQ 2541 1088 2541 1459 \nL 2541 1666 \nz\n\" transform=\"scale(0.015625)\"/>\n      <path id=\"ArialMT-6c\" d=\"M 409 0 \nL 409 4581 \nL 972 4581 \nL 972 0 \nL 409 0 \nz\n\" transform=\"scale(0.015625)\"/>\n      <path id=\"ArialMT-65\" d=\"M 2694 1069 \nL 3275 997 \nQ 3138 488 2766 206 \nQ 2394 -75 1816 -75 \nQ 1088 -75 661 373 \nQ 234 822 234 1631 \nQ 234 2469 665 2931 \nQ 1097 3394 1784 3394 \nQ 2450 3394 2872 2941 \nQ 3294 2488 3294 1666 \nQ 3294 1616 3291 1516 \nL 816 1516 \nQ 847 969 1125 678 \nQ 1403 388 1819 388 \nQ 2128 388 2347 550 \nQ 2566 713 2694 1069 \nz\nM 847 1978 \nL 2700 1978 \nQ 2663 2397 2488 2606 \nQ 2219 2931 1791 2931 \nQ 1403 2931 1139 2672 \nQ 875 2413 847 1978 \nz\n\" transform=\"scale(0.015625)\"/>\n      <path id=\"ArialMT-78\" d=\"M 47 0 \nL 1259 1725 \nL 138 3319 \nL 841 3319 \nL 1350 2541 \nQ 1494 2319 1581 2169 \nQ 1719 2375 1834 2534 \nL 2394 3319 \nL 3066 3319 \nL 1919 1756 \nL 3153 0 \nL 2463 0 \nL 1781 1031 \nL 1600 1309 \nL 728 0 \nL 47 0 \nz\n\" transform=\"scale(0.015625)\"/>\n      <path id=\"ArialMT-70\" d=\"M 422 -1272 \nL 422 3319 \nL 934 3319 \nL 934 2888 \nQ 1116 3141 1344 3267 \nQ 1572 3394 1897 3394 \nQ 2322 3394 2647 3175 \nQ 2972 2956 3137 2557 \nQ 3303 2159 3303 1684 \nQ 3303 1175 3120 767 \nQ 2938 359 2589 142 \nQ 2241 -75 1856 -75 \nQ 1575 -75 1351 44 \nQ 1128 163 984 344 \nL 984 -1272 \nL 422 -1272 \nz\nM 931 1641 \nQ 931 1000 1190 694 \nQ 1450 388 1819 388 \nQ 2194 388 2461 705 \nQ 2728 1022 2728 1688 \nQ 2728 2322 2467 2637 \nQ 2206 2953 1844 2953 \nQ 1484 2953 1207 2617 \nQ 931 2281 931 1641 \nz\n\" transform=\"scale(0.015625)\"/>\n      <path id=\"ArialMT-6e\" d=\"M 422 0 \nL 422 3319 \nL 928 3319 \nL 928 2847 \nQ 1294 3394 1984 3394 \nQ 2284 3394 2536 3286 \nQ 2788 3178 2913 3003 \nQ 3038 2828 3088 2588 \nQ 3119 2431 3119 2041 \nL 3119 0 \nL 2556 0 \nL 2556 2019 \nQ 2556 2363 2490 2533 \nQ 2425 2703 2258 2804 \nQ 2091 2906 1866 2906 \nQ 1506 2906 1245 2678 \nQ 984 2450 984 1813 \nL 984 0 \nL 422 0 \nz\n\" transform=\"scale(0.015625)\"/>\n      <path id=\"ArialMT-74\" d=\"M 1650 503 \nL 1731 6 \nQ 1494 -44 1306 -44 \nQ 1000 -44 831 53 \nQ 663 150 594 308 \nQ 525 466 525 972 \nL 525 2881 \nL 113 2881 \nL 113 3319 \nL 525 3319 \nL 525 4141 \nL 1084 4478 \nL 1084 3319 \nL 1650 3319 \nL 1650 2881 \nL 1084 2881 \nL 1084 941 \nQ 1084 700 1114 631 \nQ 1144 563 1211 522 \nQ 1278 481 1403 481 \nQ 1497 481 1650 503 \nz\n\" transform=\"scale(0.015625)\"/>\n      <path id=\"ArialMT-69\" d=\"M 425 3934 \nL 425 4581 \nL 988 4581 \nL 988 3934 \nL 425 3934 \nz\nM 425 0 \nL 425 3319 \nL 988 3319 \nL 988 0 \nL 425 0 \nz\n\" transform=\"scale(0.015625)\"/>\n      <path id=\"ArialMT-66\" d=\"M 556 0 \nL 556 2881 \nL 59 2881 \nL 59 3319 \nL 556 3319 \nL 556 3672 \nQ 556 4006 616 4169 \nQ 697 4388 901 4523 \nQ 1106 4659 1475 4659 \nQ 1713 4659 2000 4603 \nL 1916 4113 \nQ 1741 4144 1584 4144 \nQ 1328 4144 1222 4034 \nQ 1116 3925 1116 3625 \nL 1116 3319 \nL 1763 3319 \nL 1763 2881 \nL 1116 2881 \nL 1116 0 \nL 556 0 \nz\n\" transform=\"scale(0.015625)\"/>\n      <path id=\"ArialMT-72\" d=\"M 416 0 \nL 416 3319 \nL 922 3319 \nL 922 2816 \nQ 1116 3169 1280 3281 \nQ 1444 3394 1641 3394 \nQ 1925 3394 2219 3213 \nL 2025 2691 \nQ 1819 2813 1613 2813 \nQ 1428 2813 1281 2702 \nQ 1134 2591 1072 2394 \nQ 978 2094 978 1738 \nL 978 0 \nL 416 0 \nz\n\" transform=\"scale(0.015625)\"/>\n      <path id=\"ArialMT-73\" d=\"M 197 991 \nL 753 1078 \nQ 800 744 1014 566 \nQ 1228 388 1613 388 \nQ 2000 388 2187 545 \nQ 2375 703 2375 916 \nQ 2375 1106 2209 1216 \nQ 2094 1291 1634 1406 \nQ 1016 1563 777 1677 \nQ 538 1791 414 1992 \nQ 291 2194 291 2438 \nQ 291 2659 392 2848 \nQ 494 3038 669 3163 \nQ 800 3259 1026 3326 \nQ 1253 3394 1513 3394 \nQ 1903 3394 2198 3281 \nQ 2494 3169 2634 2976 \nQ 2775 2784 2828 2463 \nL 2278 2388 \nQ 2241 2644 2061 2787 \nQ 1881 2931 1553 2931 \nQ 1166 2931 1000 2803 \nQ 834 2675 834 2503 \nQ 834 2394 903 2306 \nQ 972 2216 1119 2156 \nQ 1203 2125 1616 2013 \nQ 2213 1853 2448 1751 \nQ 2684 1650 2818 1456 \nQ 2953 1263 2953 975 \nQ 2953 694 2789 445 \nQ 2625 197 2315 61 \nQ 2006 -75 1616 -75 \nQ 969 -75 630 194 \nQ 291 463 197 991 \nz\n\" transform=\"scale(0.015625)\"/>\n      <path id=\"ArialMT-59\" d=\"M 1784 0 \nL 1784 1941 \nL 19 4581 \nL 756 4581 \nL 1659 3200 \nQ 1909 2813 2125 2425 \nQ 2331 2784 2625 3234 \nL 3513 4581 \nL 4219 4581 \nL 2391 1941 \nL 2391 0 \nL 1784 0 \nz\n\" transform=\"scale(0.015625)\"/>\n      <path id=\"ArialMT-3a\" d=\"M 578 2678 \nL 578 3319 \nL 1219 3319 \nL 1219 2678 \nL 578 2678 \nz\nM 578 0 \nL 578 641 \nL 1219 641 \nL 1219 0 \nL 578 0 \nz\n\" transform=\"scale(0.015625)\"/>\n     </defs>\n     <use xlink:href=\"#ArialMT-4c\"/>\n     <use xlink:href=\"#ArialMT-6f\" x=\"55.615234\"/>\n     <use xlink:href=\"#ArialMT-63\" x=\"111.230469\"/>\n     <use xlink:href=\"#ArialMT-61\" x=\"161.230469\"/>\n     <use xlink:href=\"#ArialMT-6c\" x=\"216.845703\"/>\n     <use xlink:href=\"#ArialMT-20\" x=\"239.0625\"/>\n     <use xlink:href=\"#ArialMT-65\" x=\"266.845703\"/>\n     <use xlink:href=\"#ArialMT-78\" x=\"322.460938\"/>\n     <use xlink:href=\"#ArialMT-70\" x=\"372.460938\"/>\n     <use xlink:href=\"#ArialMT-6c\" x=\"428.076172\"/>\n     <use xlink:href=\"#ArialMT-61\" x=\"450.292969\"/>\n     <use xlink:href=\"#ArialMT-6e\" x=\"505.908203\"/>\n     <use xlink:href=\"#ArialMT-61\" x=\"561.523438\"/>\n     <use xlink:href=\"#ArialMT-74\" x=\"617.138672\"/>\n     <use xlink:href=\"#ArialMT-69\" x=\"644.921875\"/>\n     <use xlink:href=\"#ArialMT-6f\" x=\"667.138672\"/>\n     <use xlink:href=\"#ArialMT-6e\" x=\"722.753906\"/>\n     <use xlink:href=\"#ArialMT-20\" x=\"778.369141\"/>\n     <use xlink:href=\"#ArialMT-66\" x=\"806.152344\"/>\n     <use xlink:href=\"#ArialMT-6f\" x=\"833.935547\"/>\n     <use xlink:href=\"#ArialMT-72\" x=\"889.550781\"/>\n     <use xlink:href=\"#ArialMT-20\" x=\"922.851562\"/>\n     <use xlink:href=\"#ArialMT-63\" x=\"950.634766\"/>\n     <use xlink:href=\"#ArialMT-6c\" x=\"1000.634766\"/>\n     <use xlink:href=\"#ArialMT-61\" x=\"1022.851562\"/>\n     <use xlink:href=\"#ArialMT-73\" x=\"1078.466797\"/>\n     <use xlink:href=\"#ArialMT-73\" x=\"1128.466797\"/>\n     <use xlink:href=\"#ArialMT-20\" x=\"1178.466797\"/>\n     <use xlink:href=\"#ArialMT-59\" x=\"1204.5\"/>\n     <use xlink:href=\"#ArialMT-3a\" x=\"1265.699219\"/>\n     <use xlink:href=\"#ArialMT-31\" x=\"1293.482422\"/>\n    </g>\n   </g>\n  </g>\n </g>\n <defs>\n  <clipPath id=\"p4cf5ab3d28\">\n   <rect x=\"104.46625\" y=\"21.935625\" width=\"334.8\" height=\"217.44\"/>\n  </clipPath>\n </defs>\n</svg>\n",
      "text/plain": [
       "<Figure size 900x600 with 1 Axes>"
      ]
     },
     "metadata": {},
     "output_type": "display_data"
    }
   ],
   "source": [
    "indx = 5\n",
    "\n",
    "res = xgb.predict_proba([X_test[indx]])\n",
    "print( \"Prediction: \" + str(np.argmax(res[0])) )\n",
    "\n",
    "exp = explainer.explain_instance(X_test[indx], xgb.predict_proba, num_features=3)\n",
    "fig = exp.as_pyplot_figure()"
   ]
  },
  {
   "cell_type": "markdown",
   "metadata": {},
   "source": [
    "### Generating Explanations for Neural Net\n"
   ]
  },
  {
   "cell_type": "code",
   "execution_count": null,
   "metadata": {},
   "outputs": [
    {
     "data": {
      "text/plain": [
       "<lime.lime_tabular.LimeTabularExplainer at 0x1486653c0>"
      ]
     },
     "execution_count": 12,
     "metadata": {},
     "output_type": "execute_result"
    }
   ],
   "source": [
    "from  lime.lime_tabular import LimeTabularExplainer\n",
    "explainer_nn = LimeTabularExplainer(X_train, feature_names=features, class_names=[\"Y:0\", \"Y:1\"])\n",
    "explainer_nn"
   ]
  },
  {
   "cell_type": "code",
   "execution_count": null,
   "metadata": {},
   "outputs": [],
   "source": [
    "predict_fn = lambda x:  1.0 if nn.predict(x) >= 0.5 else 0.0"
   ]
  },
  {
   "cell_type": "code",
   "execution_count": null,
   "metadata": {},
   "outputs": [
    {
     "name": "stdout",
     "output_type": "stream",
     "text": [
      "157/157 [==============================] - 0s 608us/step\n"
     ]
    },
    {
     "data": {
      "image/svg+xml": "<?xml version=\"1.0\" encoding=\"utf-8\" standalone=\"no\"?>\n<!DOCTYPE svg PUBLIC \"-//W3C//DTD SVG 1.1//EN\"\n  \"http://www.w3.org/Graphics/SVG/1.1/DTD/svg11.dtd\">\n<svg xmlns:xlink=\"http://www.w3.org/1999/xlink\" width=\"446.46625pt\" height=\"266.135469pt\" viewBox=\"0 0 446.46625 266.135469\" xmlns=\"http://www.w3.org/2000/svg\" version=\"1.1\">\n <metadata>\n  <rdf:RDF xmlns:dc=\"http://purl.org/dc/elements/1.1/\" xmlns:cc=\"http://creativecommons.org/ns#\" xmlns:rdf=\"http://www.w3.org/1999/02/22-rdf-syntax-ns#\">\n   <cc:Work>\n    <dc:type rdf:resource=\"http://purl.org/dc/dcmitype/StillImage\"/>\n    <dc:date>2022-07-06T16:27:11.974832</dc:date>\n    <dc:format>image/svg+xml</dc:format>\n    <dc:creator>\n     <cc:Agent>\n      <dc:title>Matplotlib v3.5.2, https://matplotlib.org/</dc:title>\n     </cc:Agent>\n    </dc:creator>\n   </cc:Work>\n  </rdf:RDF>\n </metadata>\n <defs>\n  <style type=\"text/css\">*{stroke-linejoin: round; stroke-linecap: butt}</style>\n </defs>\n <g id=\"figure_1\">\n  <g id=\"patch_1\">\n   <path d=\"M 0 266.135469 \nL 446.46625 266.135469 \nL 446.46625 0 \nL 0 0 \nz\n\" style=\"fill: #ffffff\"/>\n  </g>\n  <g id=\"axes_1\">\n   <g id=\"patch_2\">\n    <path d=\"M 104.46625 239.375625 \nL 439.26625 239.375625 \nL 439.26625 21.935625 \nL 104.46625 21.935625 \nz\n\" style=\"fill: #eaeaf2\"/>\n   </g>\n   <g id=\"matplotlib.axis_1\">\n    <g id=\"xtick_1\">\n     <g id=\"line2d_1\">\n      <path d=\"M 130.495028 239.375625 \nL 130.495028 21.935625 \n\" clip-path=\"url(#pfe83be3197)\" style=\"fill: none; stroke: #ffffff; stroke-linecap: round\"/>\n     </g>\n     <g id=\"text_1\">\n      <!-- 0.0 -->\n      <g style=\"fill: #262626\" transform=\"translate(122.850028 256.749219)scale(0.11 -0.11)\">\n       <defs>\n        <path id=\"ArialMT-30\" d=\"M 266 2259 \nQ 266 3072 433 3567 \nQ 600 4063 929 4331 \nQ 1259 4600 1759 4600 \nQ 2128 4600 2406 4451 \nQ 2684 4303 2865 4023 \nQ 3047 3744 3150 3342 \nQ 3253 2941 3253 2259 \nQ 3253 1453 3087 958 \nQ 2922 463 2592 192 \nQ 2263 -78 1759 -78 \nQ 1097 -78 719 397 \nQ 266 969 266 2259 \nz\nM 844 2259 \nQ 844 1131 1108 757 \nQ 1372 384 1759 384 \nQ 2147 384 2411 759 \nQ 2675 1134 2675 2259 \nQ 2675 3391 2411 3762 \nQ 2147 4134 1753 4134 \nQ 1366 4134 1134 3806 \nQ 844 3388 844 2259 \nz\n\" transform=\"scale(0.015625)\"/>\n        <path id=\"ArialMT-2e\" d=\"M 581 0 \nL 581 641 \nL 1222 641 \nL 1222 0 \nL 581 0 \nz\n\" transform=\"scale(0.015625)\"/>\n       </defs>\n       <use xlink:href=\"#ArialMT-30\"/>\n       <use xlink:href=\"#ArialMT-2e\" x=\"55.615234\"/>\n       <use xlink:href=\"#ArialMT-30\" x=\"83.398438\"/>\n      </g>\n     </g>\n    </g>\n    <g id=\"xtick_2\">\n     <g id=\"line2d_2\">\n      <path d=\"M 182.053095 239.375625 \nL 182.053095 21.935625 \n\" clip-path=\"url(#pfe83be3197)\" style=\"fill: none; stroke: #ffffff; stroke-linecap: round\"/>\n     </g>\n     <g id=\"text_2\">\n      <!-- 0.1 -->\n      <g style=\"fill: #262626\" transform=\"translate(174.408095 256.749219)scale(0.11 -0.11)\">\n       <defs>\n        <path id=\"ArialMT-31\" d=\"M 2384 0 \nL 1822 0 \nL 1822 3584 \nQ 1619 3391 1289 3197 \nQ 959 3003 697 2906 \nL 697 3450 \nQ 1169 3672 1522 3987 \nQ 1875 4303 2022 4600 \nL 2384 4600 \nL 2384 0 \nz\n\" transform=\"scale(0.015625)\"/>\n       </defs>\n       <use xlink:href=\"#ArialMT-30\"/>\n       <use xlink:href=\"#ArialMT-2e\" x=\"55.615234\"/>\n       <use xlink:href=\"#ArialMT-31\" x=\"83.398438\"/>\n      </g>\n     </g>\n    </g>\n    <g id=\"xtick_3\">\n     <g id=\"line2d_3\">\n      <path d=\"M 233.611163 239.375625 \nL 233.611163 21.935625 \n\" clip-path=\"url(#pfe83be3197)\" style=\"fill: none; stroke: #ffffff; stroke-linecap: round\"/>\n     </g>\n     <g id=\"text_3\">\n      <!-- 0.2 -->\n      <g style=\"fill: #262626\" transform=\"translate(225.966163 256.749219)scale(0.11 -0.11)\">\n       <defs>\n        <path id=\"ArialMT-32\" d=\"M 3222 541 \nL 3222 0 \nL 194 0 \nQ 188 203 259 391 \nQ 375 700 629 1000 \nQ 884 1300 1366 1694 \nQ 2113 2306 2375 2664 \nQ 2638 3022 2638 3341 \nQ 2638 3675 2398 3904 \nQ 2159 4134 1775 4134 \nQ 1369 4134 1125 3890 \nQ 881 3647 878 3216 \nL 300 3275 \nQ 359 3922 746 4261 \nQ 1134 4600 1788 4600 \nQ 2447 4600 2831 4234 \nQ 3216 3869 3216 3328 \nQ 3216 3053 3103 2787 \nQ 2991 2522 2730 2228 \nQ 2469 1934 1863 1422 \nQ 1356 997 1212 845 \nQ 1069 694 975 541 \nL 3222 541 \nz\n\" transform=\"scale(0.015625)\"/>\n       </defs>\n       <use xlink:href=\"#ArialMT-30\"/>\n       <use xlink:href=\"#ArialMT-2e\" x=\"55.615234\"/>\n       <use xlink:href=\"#ArialMT-32\" x=\"83.398438\"/>\n      </g>\n     </g>\n    </g>\n    <g id=\"xtick_4\">\n     <g id=\"line2d_4\">\n      <path d=\"M 285.16923 239.375625 \nL 285.16923 21.935625 \n\" clip-path=\"url(#pfe83be3197)\" style=\"fill: none; stroke: #ffffff; stroke-linecap: round\"/>\n     </g>\n     <g id=\"text_4\">\n      <!-- 0.3 -->\n      <g style=\"fill: #262626\" transform=\"translate(277.52423 256.749219)scale(0.11 -0.11)\">\n       <defs>\n        <path id=\"ArialMT-33\" d=\"M 269 1209 \nL 831 1284 \nQ 928 806 1161 595 \nQ 1394 384 1728 384 \nQ 2125 384 2398 659 \nQ 2672 934 2672 1341 \nQ 2672 1728 2419 1979 \nQ 2166 2231 1775 2231 \nQ 1616 2231 1378 2169 \nL 1441 2663 \nQ 1497 2656 1531 2656 \nQ 1891 2656 2178 2843 \nQ 2466 3031 2466 3422 \nQ 2466 3731 2256 3934 \nQ 2047 4138 1716 4138 \nQ 1388 4138 1169 3931 \nQ 950 3725 888 3313 \nL 325 3413 \nQ 428 3978 793 4289 \nQ 1159 4600 1703 4600 \nQ 2078 4600 2393 4439 \nQ 2709 4278 2876 4000 \nQ 3044 3722 3044 3409 \nQ 3044 3113 2884 2869 \nQ 2725 2625 2413 2481 \nQ 2819 2388 3044 2092 \nQ 3269 1797 3269 1353 \nQ 3269 753 2831 336 \nQ 2394 -81 1725 -81 \nQ 1122 -81 723 278 \nQ 325 638 269 1209 \nz\n\" transform=\"scale(0.015625)\"/>\n       </defs>\n       <use xlink:href=\"#ArialMT-30\"/>\n       <use xlink:href=\"#ArialMT-2e\" x=\"55.615234\"/>\n       <use xlink:href=\"#ArialMT-33\" x=\"83.398438\"/>\n      </g>\n     </g>\n    </g>\n    <g id=\"xtick_5\">\n     <g id=\"line2d_5\">\n      <path d=\"M 336.727297 239.375625 \nL 336.727297 21.935625 \n\" clip-path=\"url(#pfe83be3197)\" style=\"fill: none; stroke: #ffffff; stroke-linecap: round\"/>\n     </g>\n     <g id=\"text_5\">\n      <!-- 0.4 -->\n      <g style=\"fill: #262626\" transform=\"translate(329.082297 256.749219)scale(0.11 -0.11)\">\n       <defs>\n        <path id=\"ArialMT-34\" d=\"M 2069 0 \nL 2069 1097 \nL 81 1097 \nL 81 1613 \nL 2172 4581 \nL 2631 4581 \nL 2631 1613 \nL 3250 1613 \nL 3250 1097 \nL 2631 1097 \nL 2631 0 \nL 2069 0 \nz\nM 2069 1613 \nL 2069 3678 \nL 634 1613 \nL 2069 1613 \nz\n\" transform=\"scale(0.015625)\"/>\n       </defs>\n       <use xlink:href=\"#ArialMT-30\"/>\n       <use xlink:href=\"#ArialMT-2e\" x=\"55.615234\"/>\n       <use xlink:href=\"#ArialMT-34\" x=\"83.398438\"/>\n      </g>\n     </g>\n    </g>\n    <g id=\"xtick_6\">\n     <g id=\"line2d_6\">\n      <path d=\"M 388.285365 239.375625 \nL 388.285365 21.935625 \n\" clip-path=\"url(#pfe83be3197)\" style=\"fill: none; stroke: #ffffff; stroke-linecap: round\"/>\n     </g>\n     <g id=\"text_6\">\n      <!-- 0.5 -->\n      <g style=\"fill: #262626\" transform=\"translate(380.640365 256.749219)scale(0.11 -0.11)\">\n       <defs>\n        <path id=\"ArialMT-35\" d=\"M 266 1200 \nL 856 1250 \nQ 922 819 1161 601 \nQ 1400 384 1738 384 \nQ 2144 384 2425 690 \nQ 2706 997 2706 1503 \nQ 2706 1984 2436 2262 \nQ 2166 2541 1728 2541 \nQ 1456 2541 1237 2417 \nQ 1019 2294 894 2097 \nL 366 2166 \nL 809 4519 \nL 3088 4519 \nL 3088 3981 \nL 1259 3981 \nL 1013 2750 \nQ 1425 3038 1878 3038 \nQ 2478 3038 2890 2622 \nQ 3303 2206 3303 1553 \nQ 3303 931 2941 478 \nQ 2500 -78 1738 -78 \nQ 1113 -78 717 272 \nQ 322 622 266 1200 \nz\n\" transform=\"scale(0.015625)\"/>\n       </defs>\n       <use xlink:href=\"#ArialMT-30\"/>\n       <use xlink:href=\"#ArialMT-2e\" x=\"55.615234\"/>\n       <use xlink:href=\"#ArialMT-35\" x=\"83.398438\"/>\n      </g>\n     </g>\n    </g>\n   </g>\n   <g id=\"matplotlib.axis_2\">\n    <g id=\"ytick_1\">\n     <g id=\"line2d_7\">\n      <path d=\"M 104.46625 201.253028 \nL 439.26625 201.253028 \n\" clip-path=\"url(#pfe83be3197)\" style=\"fill: none; stroke: #ffffff; stroke-linecap: round\"/>\n     </g>\n     <g id=\"text_7\">\n      <!-- X3 &lt;= 0.24 -->\n      <g style=\"fill: #262626\" transform=\"translate(41.143594 205.189824)scale(0.11 -0.11)\">\n       <defs>\n        <path id=\"ArialMT-58\" d=\"M 28 0 \nL 1800 2388 \nL 238 4581 \nL 959 4581 \nL 1791 3406 \nQ 2050 3041 2159 2844 \nQ 2313 3094 2522 3366 \nL 3444 4581 \nL 4103 4581 \nL 2494 2422 \nL 4228 0 \nL 3478 0 \nL 2325 1634 \nQ 2228 1775 2125 1941 \nQ 1972 1691 1906 1597 \nL 756 0 \nL 28 0 \nz\n\" transform=\"scale(0.015625)\"/>\n        <path id=\"ArialMT-20\" transform=\"scale(0.015625)\"/>\n        <path id=\"ArialMT-3c\" d=\"M 350 2003 \nL 350 2528 \nL 3384 3809 \nL 3384 3250 \nL 978 2263 \nL 3384 1266 \nL 3384 706 \nL 350 2003 \nz\n\" transform=\"scale(0.015625)\"/>\n        <path id=\"ArialMT-3d\" d=\"M 3381 2694 \nL 356 2694 \nL 356 3219 \nL 3381 3219 \nL 3381 2694 \nz\nM 3381 1303 \nL 356 1303 \nL 356 1828 \nL 3381 1828 \nL 3381 1303 \nz\n\" transform=\"scale(0.015625)\"/>\n       </defs>\n       <use xlink:href=\"#ArialMT-58\"/>\n       <use xlink:href=\"#ArialMT-33\" x=\"66.699219\"/>\n       <use xlink:href=\"#ArialMT-20\" x=\"122.314453\"/>\n       <use xlink:href=\"#ArialMT-3c\" x=\"150.097656\"/>\n       <use xlink:href=\"#ArialMT-3d\" x=\"208.496094\"/>\n       <use xlink:href=\"#ArialMT-20\" x=\"266.894531\"/>\n       <use xlink:href=\"#ArialMT-30\" x=\"294.677734\"/>\n       <use xlink:href=\"#ArialMT-2e\" x=\"350.292969\"/>\n       <use xlink:href=\"#ArialMT-32\" x=\"378.076172\"/>\n       <use xlink:href=\"#ArialMT-34\" x=\"433.691406\"/>\n      </g>\n     </g>\n    </g>\n    <g id=\"ytick_2\">\n     <g id=\"line2d_8\">\n      <path d=\"M 104.46625 130.655625 \nL 439.26625 130.655625 \n\" clip-path=\"url(#pfe83be3197)\" style=\"fill: none; stroke: #ffffff; stroke-linecap: round\"/>\n     </g>\n     <g id=\"text_8\">\n      <!-- 0.25 &lt; X1 &lt;= 0.50 -->\n      <g style=\"fill: #262626\" transform=\"translate(7.2 134.592422)scale(0.11 -0.11)\">\n       <use xlink:href=\"#ArialMT-30\"/>\n       <use xlink:href=\"#ArialMT-2e\" x=\"55.615234\"/>\n       <use xlink:href=\"#ArialMT-32\" x=\"83.398438\"/>\n       <use xlink:href=\"#ArialMT-35\" x=\"139.013672\"/>\n       <use xlink:href=\"#ArialMT-20\" x=\"194.628906\"/>\n       <use xlink:href=\"#ArialMT-3c\" x=\"222.412109\"/>\n       <use xlink:href=\"#ArialMT-20\" x=\"280.810547\"/>\n       <use xlink:href=\"#ArialMT-58\" x=\"308.59375\"/>\n       <use xlink:href=\"#ArialMT-31\" x=\"375.292969\"/>\n       <use xlink:href=\"#ArialMT-20\" x=\"430.908203\"/>\n       <use xlink:href=\"#ArialMT-3c\" x=\"458.691406\"/>\n       <use xlink:href=\"#ArialMT-3d\" x=\"517.089844\"/>\n       <use xlink:href=\"#ArialMT-20\" x=\"575.488281\"/>\n       <use xlink:href=\"#ArialMT-30\" x=\"603.271484\"/>\n       <use xlink:href=\"#ArialMT-2e\" x=\"658.886719\"/>\n       <use xlink:href=\"#ArialMT-35\" x=\"686.669922\"/>\n       <use xlink:href=\"#ArialMT-30\" x=\"742.285156\"/>\n      </g>\n     </g>\n    </g>\n    <g id=\"ytick_3\">\n     <g id=\"line2d_9\">\n      <path d=\"M 104.46625 60.058222 \nL 439.26625 60.058222 \n\" clip-path=\"url(#pfe83be3197)\" style=\"fill: none; stroke: #ffffff; stroke-linecap: round\"/>\n     </g>\n     <g id=\"text_9\">\n      <!-- X2 &lt;= 0.00 -->\n      <g style=\"fill: #262626\" transform=\"translate(41.143594 63.995019)scale(0.11 -0.11)\">\n       <use xlink:href=\"#ArialMT-58\"/>\n       <use xlink:href=\"#ArialMT-32\" x=\"66.699219\"/>\n       <use xlink:href=\"#ArialMT-20\" x=\"122.314453\"/>\n       <use xlink:href=\"#ArialMT-3c\" x=\"150.097656\"/>\n       <use xlink:href=\"#ArialMT-3d\" x=\"208.496094\"/>\n       <use xlink:href=\"#ArialMT-20\" x=\"266.894531\"/>\n       <use xlink:href=\"#ArialMT-30\" x=\"294.677734\"/>\n       <use xlink:href=\"#ArialMT-2e\" x=\"350.292969\"/>\n       <use xlink:href=\"#ArialMT-30\" x=\"378.076172\"/>\n       <use xlink:href=\"#ArialMT-30\" x=\"433.691406\"/>\n      </g>\n     </g>\n    </g>\n   </g>\n   <g id=\"patch_3\">\n    <path d=\"M 130.495028 229.491989 \nL 119.684432 229.491989 \nL 119.684432 173.014067 \nL 130.495028 173.014067 \nz\n\" clip-path=\"url(#pfe83be3197)\" style=\"fill: #ff0000; stroke: #ffffff; stroke-linejoin: miter\"/>\n   </g>\n   <g id=\"patch_4\">\n    <path d=\"M 130.495028 158.894586 \nL 206.710864 158.894586 \nL 206.710864 102.416664 \nL 130.495028 102.416664 \nz\n\" clip-path=\"url(#pfe83be3197)\" style=\"fill: #008000; stroke: #ffffff; stroke-linejoin: miter\"/>\n   </g>\n   <g id=\"patch_5\">\n    <path d=\"M 130.495028 88.297183 \nL 424.048068 88.297183 \nL 424.048068 31.819261 \nL 130.495028 31.819261 \nz\n\" clip-path=\"url(#pfe83be3197)\" style=\"fill: #008000; stroke: #ffffff; stroke-linejoin: miter\"/>\n   </g>\n   <g id=\"patch_6\">\n    <path d=\"M 104.46625 239.375625 \nL 104.46625 21.935625 \n\" style=\"fill: none; stroke: #ffffff; stroke-width: 1.25; stroke-linejoin: miter; stroke-linecap: square\"/>\n   </g>\n   <g id=\"patch_7\">\n    <path d=\"M 439.26625 239.375625 \nL 439.26625 21.935625 \n\" style=\"fill: none; stroke: #ffffff; stroke-width: 1.25; stroke-linejoin: miter; stroke-linecap: square\"/>\n   </g>\n   <g id=\"patch_8\">\n    <path d=\"M 104.46625 239.375625 \nL 439.26625 239.375625 \n\" style=\"fill: none; stroke: #ffffff; stroke-width: 1.25; stroke-linejoin: miter; stroke-linecap: square\"/>\n   </g>\n   <g id=\"patch_9\">\n    <path d=\"M 104.46625 21.935625 \nL 439.26625 21.935625 \n\" style=\"fill: none; stroke: #ffffff; stroke-width: 1.25; stroke-linejoin: miter; stroke-linecap: square\"/>\n   </g>\n   <g id=\"text_10\">\n    <!-- Local explanation for class Y:1 -->\n    <g style=\"fill: #262626\" transform=\"translate(190.925313 15.935625)scale(0.12 -0.12)\">\n     <defs>\n      <path id=\"ArialMT-4c\" d=\"M 469 0 \nL 469 4581 \nL 1075 4581 \nL 1075 541 \nL 3331 541 \nL 3331 0 \nL 469 0 \nz\n\" transform=\"scale(0.015625)\"/>\n      <path id=\"ArialMT-6f\" d=\"M 213 1659 \nQ 213 2581 725 3025 \nQ 1153 3394 1769 3394 \nQ 2453 3394 2887 2945 \nQ 3322 2497 3322 1706 \nQ 3322 1066 3130 698 \nQ 2938 331 2570 128 \nQ 2203 -75 1769 -75 \nQ 1072 -75 642 372 \nQ 213 819 213 1659 \nz\nM 791 1659 \nQ 791 1022 1069 705 \nQ 1347 388 1769 388 \nQ 2188 388 2466 706 \nQ 2744 1025 2744 1678 \nQ 2744 2294 2464 2611 \nQ 2184 2928 1769 2928 \nQ 1347 2928 1069 2612 \nQ 791 2297 791 1659 \nz\n\" transform=\"scale(0.015625)\"/>\n      <path id=\"ArialMT-63\" d=\"M 2588 1216 \nL 3141 1144 \nQ 3050 572 2676 248 \nQ 2303 -75 1759 -75 \nQ 1078 -75 664 370 \nQ 250 816 250 1647 \nQ 250 2184 428 2587 \nQ 606 2991 970 3192 \nQ 1334 3394 1763 3394 \nQ 2303 3394 2647 3120 \nQ 2991 2847 3088 2344 \nL 2541 2259 \nQ 2463 2594 2264 2762 \nQ 2066 2931 1784 2931 \nQ 1359 2931 1093 2626 \nQ 828 2322 828 1663 \nQ 828 994 1084 691 \nQ 1341 388 1753 388 \nQ 2084 388 2306 591 \nQ 2528 794 2588 1216 \nz\n\" transform=\"scale(0.015625)\"/>\n      <path id=\"ArialMT-61\" d=\"M 2588 409 \nQ 2275 144 1986 34 \nQ 1697 -75 1366 -75 \nQ 819 -75 525 192 \nQ 231 459 231 875 \nQ 231 1119 342 1320 \nQ 453 1522 633 1644 \nQ 813 1766 1038 1828 \nQ 1203 1872 1538 1913 \nQ 2219 1994 2541 2106 \nQ 2544 2222 2544 2253 \nQ 2544 2597 2384 2738 \nQ 2169 2928 1744 2928 \nQ 1347 2928 1158 2789 \nQ 969 2650 878 2297 \nL 328 2372 \nQ 403 2725 575 2942 \nQ 747 3159 1072 3276 \nQ 1397 3394 1825 3394 \nQ 2250 3394 2515 3294 \nQ 2781 3194 2906 3042 \nQ 3031 2891 3081 2659 \nQ 3109 2516 3109 2141 \nL 3109 1391 \nQ 3109 606 3145 398 \nQ 3181 191 3288 0 \nL 2700 0 \nQ 2613 175 2588 409 \nz\nM 2541 1666 \nQ 2234 1541 1622 1453 \nQ 1275 1403 1131 1340 \nQ 988 1278 909 1158 \nQ 831 1038 831 891 \nQ 831 666 1001 516 \nQ 1172 366 1500 366 \nQ 1825 366 2078 508 \nQ 2331 650 2450 897 \nQ 2541 1088 2541 1459 \nL 2541 1666 \nz\n\" transform=\"scale(0.015625)\"/>\n      <path id=\"ArialMT-6c\" d=\"M 409 0 \nL 409 4581 \nL 972 4581 \nL 972 0 \nL 409 0 \nz\n\" transform=\"scale(0.015625)\"/>\n      <path id=\"ArialMT-65\" d=\"M 2694 1069 \nL 3275 997 \nQ 3138 488 2766 206 \nQ 2394 -75 1816 -75 \nQ 1088 -75 661 373 \nQ 234 822 234 1631 \nQ 234 2469 665 2931 \nQ 1097 3394 1784 3394 \nQ 2450 3394 2872 2941 \nQ 3294 2488 3294 1666 \nQ 3294 1616 3291 1516 \nL 816 1516 \nQ 847 969 1125 678 \nQ 1403 388 1819 388 \nQ 2128 388 2347 550 \nQ 2566 713 2694 1069 \nz\nM 847 1978 \nL 2700 1978 \nQ 2663 2397 2488 2606 \nQ 2219 2931 1791 2931 \nQ 1403 2931 1139 2672 \nQ 875 2413 847 1978 \nz\n\" transform=\"scale(0.015625)\"/>\n      <path id=\"ArialMT-78\" d=\"M 47 0 \nL 1259 1725 \nL 138 3319 \nL 841 3319 \nL 1350 2541 \nQ 1494 2319 1581 2169 \nQ 1719 2375 1834 2534 \nL 2394 3319 \nL 3066 3319 \nL 1919 1756 \nL 3153 0 \nL 2463 0 \nL 1781 1031 \nL 1600 1309 \nL 728 0 \nL 47 0 \nz\n\" transform=\"scale(0.015625)\"/>\n      <path id=\"ArialMT-70\" d=\"M 422 -1272 \nL 422 3319 \nL 934 3319 \nL 934 2888 \nQ 1116 3141 1344 3267 \nQ 1572 3394 1897 3394 \nQ 2322 3394 2647 3175 \nQ 2972 2956 3137 2557 \nQ 3303 2159 3303 1684 \nQ 3303 1175 3120 767 \nQ 2938 359 2589 142 \nQ 2241 -75 1856 -75 \nQ 1575 -75 1351 44 \nQ 1128 163 984 344 \nL 984 -1272 \nL 422 -1272 \nz\nM 931 1641 \nQ 931 1000 1190 694 \nQ 1450 388 1819 388 \nQ 2194 388 2461 705 \nQ 2728 1022 2728 1688 \nQ 2728 2322 2467 2637 \nQ 2206 2953 1844 2953 \nQ 1484 2953 1207 2617 \nQ 931 2281 931 1641 \nz\n\" transform=\"scale(0.015625)\"/>\n      <path id=\"ArialMT-6e\" d=\"M 422 0 \nL 422 3319 \nL 928 3319 \nL 928 2847 \nQ 1294 3394 1984 3394 \nQ 2284 3394 2536 3286 \nQ 2788 3178 2913 3003 \nQ 3038 2828 3088 2588 \nQ 3119 2431 3119 2041 \nL 3119 0 \nL 2556 0 \nL 2556 2019 \nQ 2556 2363 2490 2533 \nQ 2425 2703 2258 2804 \nQ 2091 2906 1866 2906 \nQ 1506 2906 1245 2678 \nQ 984 2450 984 1813 \nL 984 0 \nL 422 0 \nz\n\" transform=\"scale(0.015625)\"/>\n      <path id=\"ArialMT-74\" d=\"M 1650 503 \nL 1731 6 \nQ 1494 -44 1306 -44 \nQ 1000 -44 831 53 \nQ 663 150 594 308 \nQ 525 466 525 972 \nL 525 2881 \nL 113 2881 \nL 113 3319 \nL 525 3319 \nL 525 4141 \nL 1084 4478 \nL 1084 3319 \nL 1650 3319 \nL 1650 2881 \nL 1084 2881 \nL 1084 941 \nQ 1084 700 1114 631 \nQ 1144 563 1211 522 \nQ 1278 481 1403 481 \nQ 1497 481 1650 503 \nz\n\" transform=\"scale(0.015625)\"/>\n      <path id=\"ArialMT-69\" d=\"M 425 3934 \nL 425 4581 \nL 988 4581 \nL 988 3934 \nL 425 3934 \nz\nM 425 0 \nL 425 3319 \nL 988 3319 \nL 988 0 \nL 425 0 \nz\n\" transform=\"scale(0.015625)\"/>\n      <path id=\"ArialMT-66\" d=\"M 556 0 \nL 556 2881 \nL 59 2881 \nL 59 3319 \nL 556 3319 \nL 556 3672 \nQ 556 4006 616 4169 \nQ 697 4388 901 4523 \nQ 1106 4659 1475 4659 \nQ 1713 4659 2000 4603 \nL 1916 4113 \nQ 1741 4144 1584 4144 \nQ 1328 4144 1222 4034 \nQ 1116 3925 1116 3625 \nL 1116 3319 \nL 1763 3319 \nL 1763 2881 \nL 1116 2881 \nL 1116 0 \nL 556 0 \nz\n\" transform=\"scale(0.015625)\"/>\n      <path id=\"ArialMT-72\" d=\"M 416 0 \nL 416 3319 \nL 922 3319 \nL 922 2816 \nQ 1116 3169 1280 3281 \nQ 1444 3394 1641 3394 \nQ 1925 3394 2219 3213 \nL 2025 2691 \nQ 1819 2813 1613 2813 \nQ 1428 2813 1281 2702 \nQ 1134 2591 1072 2394 \nQ 978 2094 978 1738 \nL 978 0 \nL 416 0 \nz\n\" transform=\"scale(0.015625)\"/>\n      <path id=\"ArialMT-73\" d=\"M 197 991 \nL 753 1078 \nQ 800 744 1014 566 \nQ 1228 388 1613 388 \nQ 2000 388 2187 545 \nQ 2375 703 2375 916 \nQ 2375 1106 2209 1216 \nQ 2094 1291 1634 1406 \nQ 1016 1563 777 1677 \nQ 538 1791 414 1992 \nQ 291 2194 291 2438 \nQ 291 2659 392 2848 \nQ 494 3038 669 3163 \nQ 800 3259 1026 3326 \nQ 1253 3394 1513 3394 \nQ 1903 3394 2198 3281 \nQ 2494 3169 2634 2976 \nQ 2775 2784 2828 2463 \nL 2278 2388 \nQ 2241 2644 2061 2787 \nQ 1881 2931 1553 2931 \nQ 1166 2931 1000 2803 \nQ 834 2675 834 2503 \nQ 834 2394 903 2306 \nQ 972 2216 1119 2156 \nQ 1203 2125 1616 2013 \nQ 2213 1853 2448 1751 \nQ 2684 1650 2818 1456 \nQ 2953 1263 2953 975 \nQ 2953 694 2789 445 \nQ 2625 197 2315 61 \nQ 2006 -75 1616 -75 \nQ 969 -75 630 194 \nQ 291 463 197 991 \nz\n\" transform=\"scale(0.015625)\"/>\n      <path id=\"ArialMT-59\" d=\"M 1784 0 \nL 1784 1941 \nL 19 4581 \nL 756 4581 \nL 1659 3200 \nQ 1909 2813 2125 2425 \nQ 2331 2784 2625 3234 \nL 3513 4581 \nL 4219 4581 \nL 2391 1941 \nL 2391 0 \nL 1784 0 \nz\n\" transform=\"scale(0.015625)\"/>\n      <path id=\"ArialMT-3a\" d=\"M 578 2678 \nL 578 3319 \nL 1219 3319 \nL 1219 2678 \nL 578 2678 \nz\nM 578 0 \nL 578 641 \nL 1219 641 \nL 1219 0 \nL 578 0 \nz\n\" transform=\"scale(0.015625)\"/>\n     </defs>\n     <use xlink:href=\"#ArialMT-4c\"/>\n     <use xlink:href=\"#ArialMT-6f\" x=\"55.615234\"/>\n     <use xlink:href=\"#ArialMT-63\" x=\"111.230469\"/>\n     <use xlink:href=\"#ArialMT-61\" x=\"161.230469\"/>\n     <use xlink:href=\"#ArialMT-6c\" x=\"216.845703\"/>\n     <use xlink:href=\"#ArialMT-20\" x=\"239.0625\"/>\n     <use xlink:href=\"#ArialMT-65\" x=\"266.845703\"/>\n     <use xlink:href=\"#ArialMT-78\" x=\"322.460938\"/>\n     <use xlink:href=\"#ArialMT-70\" x=\"372.460938\"/>\n     <use xlink:href=\"#ArialMT-6c\" x=\"428.076172\"/>\n     <use xlink:href=\"#ArialMT-61\" x=\"450.292969\"/>\n     <use xlink:href=\"#ArialMT-6e\" x=\"505.908203\"/>\n     <use xlink:href=\"#ArialMT-61\" x=\"561.523438\"/>\n     <use xlink:href=\"#ArialMT-74\" x=\"617.138672\"/>\n     <use xlink:href=\"#ArialMT-69\" x=\"644.921875\"/>\n     <use xlink:href=\"#ArialMT-6f\" x=\"667.138672\"/>\n     <use xlink:href=\"#ArialMT-6e\" x=\"722.753906\"/>\n     <use xlink:href=\"#ArialMT-20\" x=\"778.369141\"/>\n     <use xlink:href=\"#ArialMT-66\" x=\"806.152344\"/>\n     <use xlink:href=\"#ArialMT-6f\" x=\"833.935547\"/>\n     <use xlink:href=\"#ArialMT-72\" x=\"889.550781\"/>\n     <use xlink:href=\"#ArialMT-20\" x=\"922.851562\"/>\n     <use xlink:href=\"#ArialMT-63\" x=\"950.634766\"/>\n     <use xlink:href=\"#ArialMT-6c\" x=\"1000.634766\"/>\n     <use xlink:href=\"#ArialMT-61\" x=\"1022.851562\"/>\n     <use xlink:href=\"#ArialMT-73\" x=\"1078.466797\"/>\n     <use xlink:href=\"#ArialMT-73\" x=\"1128.466797\"/>\n     <use xlink:href=\"#ArialMT-20\" x=\"1178.466797\"/>\n     <use xlink:href=\"#ArialMT-59\" x=\"1204.5\"/>\n     <use xlink:href=\"#ArialMT-3a\" x=\"1265.699219\"/>\n     <use xlink:href=\"#ArialMT-31\" x=\"1293.482422\"/>\n    </g>\n   </g>\n  </g>\n </g>\n <defs>\n  <clipPath id=\"pfe83be3197\">\n   <rect x=\"104.46625\" y=\"21.935625\" width=\"334.8\" height=\"217.44\"/>\n  </clipPath>\n </defs>\n</svg>\n",
      "text/plain": [
       "<Figure size 900x600 with 1 Axes>"
      ]
     },
     "metadata": {},
     "output_type": "display_data"
    }
   ],
   "source": [
    "indx = 5\n",
    "\n",
    "instance1 =  np.expand_dims(X_test[indx], axis=0) \n",
    "instance2 =  X_test[indx]\n",
    "\n",
    "exp = explainer.explain_instance(X_test[indx], nn.predict, num_features=3)\n",
    "fig = exp.as_pyplot_figure()"
   ]
  },
  {
   "cell_type": "code",
   "execution_count": null,
   "metadata": {},
   "outputs": [
    {
     "data": {
      "text/plain": [
       "<lime.lime_tabular.LimeTabularExplainer at 0x15cadc250>"
      ]
     },
     "execution_count": 45,
     "metadata": {},
     "output_type": "execute_result"
    }
   ],
   "source": [
    "explainer_bn = LimeTabularExplainer(X_train, feature_names=features, class_names=[\"Y:0\", \"Y:1\"])\n",
    "explainer_bn"
   ]
  },
  {
   "cell_type": "code",
   "execution_count": null,
   "metadata": {},
   "outputs": [
    {
     "ename": "OutOfBounds",
     "evalue": "[pyAgrum] Out of bound error: label '0.9999999999883493' is unknown in X2:Labelized({0.0|1.0})",
     "output_type": "error",
     "traceback": [
      "\u001b[0;31m---------------------------------------------------------------------------\u001b[0m",
      "\u001b[0;31mOutOfBounds\u001b[0m                               Traceback (most recent call last)",
      "\u001b[1;32m/Users/catarina/GitHub/XAI_Algos/stress_tests.ipynb Cell 26'\u001b[0m in \u001b[0;36m<cell line: 6>\u001b[0;34m()\u001b[0m\n\u001b[1;32m      <a href='vscode-notebook-cell:/Users/catarina/GitHub/XAI_Algos/stress_tests.ipynb#ch0000029?line=2'>3</a>\u001b[0m instance1 \u001b[39m=\u001b[39m  np\u001b[39m.\u001b[39mexpand_dims(X_test[indx], axis\u001b[39m=\u001b[39m\u001b[39m0\u001b[39m) \n\u001b[1;32m      <a href='vscode-notebook-cell:/Users/catarina/GitHub/XAI_Algos/stress_tests.ipynb#ch0000029?line=3'>4</a>\u001b[0m instance2 \u001b[39m=\u001b[39m  X_test[indx]\n\u001b[0;32m----> <a href='vscode-notebook-cell:/Users/catarina/GitHub/XAI_Algos/stress_tests.ipynb#ch0000029?line=5'>6</a>\u001b[0m exp \u001b[39m=\u001b[39m explainer_bn\u001b[39m.\u001b[39;49mexplain_instance(X_test[indx], clf\u001b[39m.\u001b[39;49mpredict_proba, num_features\u001b[39m=\u001b[39;49m\u001b[39m3\u001b[39;49m)\n\u001b[1;32m      <a href='vscode-notebook-cell:/Users/catarina/GitHub/XAI_Algos/stress_tests.ipynb#ch0000029?line=6'>7</a>\u001b[0m fig \u001b[39m=\u001b[39m exp\u001b[39m.\u001b[39mas_pyplot_figure()\n",
      "File \u001b[0;32m/usr/local/anaconda3/envs/python_base/lib/python3.10/site-packages/lime/lime_tabular.py:355\u001b[0m, in \u001b[0;36mLimeTabularExplainer.explain_instance\u001b[0;34m(self, data_row, predict_fn, labels, top_labels, num_features, num_samples, distance_metric, model_regressor)\u001b[0m\n\u001b[1;32m    348\u001b[0m     scaled_data \u001b[39m=\u001b[39m (data \u001b[39m-\u001b[39m \u001b[39mself\u001b[39m\u001b[39m.\u001b[39mscaler\u001b[39m.\u001b[39mmean_) \u001b[39m/\u001b[39m \u001b[39mself\u001b[39m\u001b[39m.\u001b[39mscaler\u001b[39m.\u001b[39mscale_\n\u001b[1;32m    349\u001b[0m distances \u001b[39m=\u001b[39m sklearn\u001b[39m.\u001b[39mmetrics\u001b[39m.\u001b[39mpairwise_distances(\n\u001b[1;32m    350\u001b[0m         scaled_data,\n\u001b[1;32m    351\u001b[0m         scaled_data[\u001b[39m0\u001b[39m]\u001b[39m.\u001b[39mreshape(\u001b[39m1\u001b[39m, \u001b[39m-\u001b[39m\u001b[39m1\u001b[39m),\n\u001b[1;32m    352\u001b[0m         metric\u001b[39m=\u001b[39mdistance_metric\n\u001b[1;32m    353\u001b[0m )\u001b[39m.\u001b[39mravel()\n\u001b[0;32m--> 355\u001b[0m yss \u001b[39m=\u001b[39m predict_fn(inverse)\n\u001b[1;32m    357\u001b[0m \u001b[39m# for classification, the model needs to provide a list of tuples - classes\u001b[39;00m\n\u001b[1;32m    358\u001b[0m \u001b[39m# along with prediction probabilities\u001b[39;00m\n\u001b[1;32m    359\u001b[0m \u001b[39mif\u001b[39;00m \u001b[39mself\u001b[39m\u001b[39m.\u001b[39mmode \u001b[39m==\u001b[39m \u001b[39m\"\u001b[39m\u001b[39mclassification\u001b[39m\u001b[39m\"\u001b[39m:\n",
      "File \u001b[0;32m/usr/local/anaconda3/envs/python_base/lib/python3.10/site-packages/pyAgrum/skbn/bnclassifier.py:722\u001b[0m, in \u001b[0;36mBNClassifier.predict_proba\u001b[0;34m(self, X)\u001b[0m\n\u001b[1;32m    720\u001b[0m \u001b[39mif\u001b[39;00m \u001b[39mself\u001b[39m\u001b[39m.\u001b[39misBinaryClassifier:\n\u001b[1;32m    721\u001b[0m   \u001b[39mfor\u001b[39;00m x \u001b[39min\u001b[39;00m vals:\n\u001b[0;32m--> 722\u001b[0m     res \u001b[39m=\u001b[39m \u001b[39mround\u001b[39m(_calcul_proba_for_binary_class(x, label1, labels, I,\n\u001b[1;32m    723\u001b[0m                                                dictName, \u001b[39mself\u001b[39;49m\u001b[39m.\u001b[39;49mMarkovBlanket, \u001b[39mself\u001b[39;49m\u001b[39m.\u001b[39;49mtarget), \u001b[39mself\u001b[39m\u001b[39m.\u001b[39msignificant_digit)\n\u001b[1;32m    724\u001b[0m     returned_list\u001b[39m.\u001b[39mappend([\u001b[39m1\u001b[39m \u001b[39m-\u001b[39m res, res])\n\u001b[1;32m    725\u001b[0m \u001b[39melse\u001b[39;00m:\n",
      "File \u001b[0;32m/usr/local/anaconda3/envs/python_base/lib/python3.10/site-packages/pyAgrum/skbn/_MBCalcul.py:191\u001b[0m, in \u001b[0;36m_calcul_proba_for_binary_class\u001b[0;34m(row, label1, labels, Inst, dictName, MarkovBlanket, target)\u001b[0m\n\u001b[1;32m    189\u001b[0m   \u001b[39mif\u001b[39;00m n \u001b[39m==\u001b[39m target:\n\u001b[1;32m    190\u001b[0m     \u001b[39mcontinue\u001b[39;00m\n\u001b[0;32m--> 191\u001b[0m   Inst\u001b[39m.\u001b[39;49mchgVal(n, \u001b[39mstr\u001b[39;49m(row[dictName\u001b[39m.\u001b[39;49mget(n)]))\n\u001b[1;32m    193\u001b[0m \u001b[39m# probability of Positive value\u001b[39;00m\n\u001b[1;32m    194\u001b[0m Inst\u001b[39m.\u001b[39mchgVal(target, \u001b[39mstr\u001b[39m(label1))\n",
      "File \u001b[0;32m/usr/local/anaconda3/envs/python_base/lib/python3.10/site-packages/pyAgrum/pyAgrum.py:5387\u001b[0m, in \u001b[0;36mInstantiation.chgVal\u001b[0;34m(self, *args)\u001b[0m\n\u001b[1;32m   5360\u001b[0m \u001b[39mdef\u001b[39;00m \u001b[39mchgVal\u001b[39m(\u001b[39mself\u001b[39m, \u001b[39m*\u001b[39margs) \u001b[39m-\u001b[39m\u001b[39m>\u001b[39m \u001b[39m\"\u001b[39m\u001b[39mpyAgrum.Instantiation\u001b[39m\u001b[39m\"\u001b[39m:\n\u001b[1;32m   5361\u001b[0m     \u001b[39mr\u001b[39m\u001b[39m\"\"\"\u001b[39;00m\n\u001b[1;32m   5362\u001b[0m \n\u001b[1;32m   5363\u001b[0m \u001b[39m    Assign newval to v (or to the variable at position varPos) in the Instantiation.\u001b[39;00m\n\u001b[0;32m   (...)\u001b[0m\n\u001b[1;32m   5385\u001b[0m \n\u001b[1;32m   5386\u001b[0m \u001b[39m    \"\"\"\u001b[39;00m\n\u001b[0;32m-> 5387\u001b[0m     \u001b[39mreturn\u001b[39;00m _pyAgrum\u001b[39m.\u001b[39;49mInstantiation_chgVal(\u001b[39mself\u001b[39;49m, \u001b[39m*\u001b[39;49margs)\n",
      "\u001b[0;31mOutOfBounds\u001b[0m: [pyAgrum] Out of bound error: label '0.9999999999883493' is unknown in X2:Labelized({0.0|1.0})"
     ]
    }
   ],
   "source": [
    "indx = 5\n",
    "\n",
    "instance1 =  np.expand_dims(X_test[indx], axis=0) \n",
    "instance2 =  X_test[indx]\n",
    "\n",
    "exp = explainer_bn.explain_instance(X_test[indx], clf.predict_proba, num_features=3)\n",
    "fig = exp.as_pyplot_figure()"
   ]
  },
  {
   "cell_type": "code",
   "execution_count": null,
   "metadata": {},
   "outputs": [],
   "source": []
  }
 ],
 "metadata": {
  "kernelspec": {
   "display_name": "Python 3.9.12 ('base')",
   "language": "python",
   "name": "python3"
  },
  "language_info": {
   "codemirror_mode": {
    "name": "ipython",
    "version": 3
   },
   "file_extension": ".py",
   "mimetype": "text/x-python",
   "name": "python",
   "nbconvert_exporter": "python",
   "pygments_lexer": "ipython3",
   "version": "3.9.12"
  },
  "orig_nbformat": 4,
  "vscode": {
   "interpreter": {
    "hash": "6260509064eb67b36916815bc82da85b0a66bf2dbc63b7ed396e364365f7498b"
   }
  }
 },
 "nbformat": 4,
 "nbformat_minor": 2
}
